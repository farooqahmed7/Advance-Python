{
 "cells": [
  {
   "cell_type": "markdown",
   "metadata": {},
   "source": [
    "## `Program Flow Control.`"
   ]
  },
  {
   "cell_type": "markdown",
   "metadata": {},
   "source": [
    "### `Introduction to Blocks & Statements.`"
   ]
  },
  {
   "cell_type": "code",
   "execution_count": 1,
   "metadata": {},
   "outputs": [
    {
     "name": "stdout",
     "output_type": "stream",
     "text": [
      "\n",
      "No. 1 squared is   1 and cubed is    1\n",
      "\n",
      "No. 2 squared is   4 and cubed is    8\n",
      "\n",
      "No. 3 squared is   9 and cubed is   27\n",
      "\n",
      "No. 4 squared is  16 and cubed is   64\n",
      "\n",
      "No. 5 squared is  25 and cubed is  125\n",
      "\n",
      "No. 6 squared is  36 and cubed is  216\n",
      "\n",
      "No. 7 squared is  49 and cubed is  343\n",
      "\n",
      "No. 8 squared is  64 and cubed is  512\n",
      "\n",
      "No. 9 squared is  81 and cubed is  729\n",
      "\n",
      "No. 10 squared is 100 and cubed is 1000\n",
      "\n",
      "No. 11 squared is 121 and cubed is 1331\n",
      "\n",
      "No. 12 squared is 144 and cubed is 1728\n",
      "********************************************************************************\n"
     ]
    }
   ],
   "source": [
    "for i in range(1,13):\n",
    "    print()\n",
    "    print(\"No. {} squared is {:3} and cubed is {:4}\".format(i, i**2, i**3))\n",
    "print(\"*\"*80)"
   ]
  },
  {
   "cell_type": "code",
   "execution_count": 19,
   "metadata": {},
   "outputs": [
    {
     "name": "stdout",
     "output_type": "stream",
     "text": [
      "The Square root and cube root of 1 is 1 and 1\n",
      "The Square root and cube root of 2 is 4 and 8\n",
      "The Square root and cube root of 3 is 9 and 27\n",
      "The Square root and cube root of 4 is 16 and 64\n",
      "The Square root and cube root of 5 is 25 and 125\n",
      "The Square root and cube root of 6 is 36 and 216\n",
      "The Square root and cube root of 7 is 49 and 343\n",
      "The Square root and cube root of 8 is 64 and 512\n",
      "The Square root and cube root of 9 is 81 and 729\n",
      "The Square root and cube root of 10 is 100 and 1000\n",
      "The Square root and cube root of 11 is 121 and 1331\n",
      "The Square root and cube root of 12 is 144 and 1728\n",
      "The Square root and cube root of 13 is 169 and 2197\n",
      "The Square root and cube root of 14 is 196 and 2744\n",
      "The Square root and cube root of 15 is 225 and 3375\n",
      "The Square root and cube root of 16 is 256 and 4096\n",
      "The Square root and cube root of 17 is 289 and 4913\n",
      "The Square root and cube root of 18 is 324 and 5832\n",
      "The Square root and cube root of 19 is 361 and 6859\n"
     ]
    }
   ],
   "source": [
    "for i in range(1,20):\n",
    "    print(\"The Square root and cube root of {} is {} and {}\".format(i, i**2,i**3))"
   ]
  },
  {
   "cell_type": "code",
   "execution_count": 1,
   "metadata": {},
   "outputs": [
    {
     "name": "stdout",
     "output_type": "stream",
     "text": [
      "\n",
      "No. 1 squared is   1 and cubed is    1\n",
      "********************************************************************************\n",
      "\n",
      "No. 2 squared is   4 and cubed is    8\n",
      "********************************************************************************\n",
      "\n",
      "No. 3 squared is   9 and cubed is   27\n",
      "********************************************************************************\n",
      "\n",
      "No. 4 squared is  16 and cubed is   64\n",
      "********************************************************************************\n",
      "\n",
      "No. 5 squared is  25 and cubed is  125\n",
      "********************************************************************************\n",
      "\n",
      "No. 6 squared is  36 and cubed is  216\n",
      "********************************************************************************\n",
      "\n",
      "No. 7 squared is  49 and cubed is  343\n",
      "********************************************************************************\n",
      "\n",
      "No. 8 squared is  64 and cubed is  512\n",
      "********************************************************************************\n",
      "\n",
      "No. 9 squared is  81 and cubed is  729\n",
      "********************************************************************************\n",
      "\n",
      "No. 10 squared is 100 and cubed is 1000\n",
      "********************************************************************************\n",
      "\n",
      "No. 11 squared is 121 and cubed is 1331\n",
      "********************************************************************************\n",
      "\n",
      "No. 12 squared is 144 and cubed is 1728\n",
      "********************************************************************************\n"
     ]
    }
   ],
   "source": [
    "# Adding last line in the code block of loop. \n",
    "for i in range(1,13):\n",
    "    print()\n",
    "    print(\"No. {} squared is {:3} and cubed is {:4}\".format(i, i**2, i**3))\n",
    "    print(\"*\"*80)"
   ]
  },
  {
   "cell_type": "code",
   "execution_count": 6,
   "metadata": {},
   "outputs": [
    {
     "name": "stdout",
     "output_type": "stream",
     "text": [
      "\n",
      "For number 1 squared is 1 and cubed is 1\n",
      "\n",
      "For number 2 squared is 4 and cubed is 8\n",
      "\n",
      "For number 3 squared is 9 and cubed is 27\n",
      "\n",
      "For number 4 squared is 16 and cubed is 64\n",
      "\n",
      "For number 5 squared is 25 and cubed is 125\n",
      "\n",
      "For number 6 squared is 36 and cubed is 216\n",
      "\n",
      "For number 7 squared is 49 and cubed is 343\n",
      "\n",
      "For number 8 squared is 64 and cubed is 512\n",
      "\n",
      "For number 9 squared is 81 and cubed is 729\n",
      "\n",
      "For number 10 squared is 100 and cubed is 1000\n",
      "\n",
      "For number 11 squared is 121 and cubed is 1331\n",
      "\n",
      "For number 12 squared is 144 and cubed is 1728\n",
      "**************************************************\n"
     ]
    }
   ],
   "source": [
    "for i in range(1,13):\n",
    "    print()\n",
    "    print(\"For number {} squared is {} and cubed is {}\".format(i, i**2, i**3))\n",
    "print(\"*\"*50)"
   ]
  },
  {
   "cell_type": "markdown",
   "metadata": {},
   "source": [
    "### `if Statements.`"
   ]
  },
  {
   "cell_type": "code",
   "execution_count": 2,
   "metadata": {},
   "outputs": [
    {
     "name": "stdout",
     "output_type": "stream",
     "text": [
      "Please enter your name:Python\n",
      "How old are you, Python?25\n",
      "\n",
      "25\n"
     ]
    }
   ],
   "source": [
    "name = input(\"Please enter your name:\")\n",
    "age = input(\"How old are you, {0}?\".format(name))\n",
    "print()\n",
    "print(age)"
   ]
  },
  {
   "cell_type": "code",
   "execution_count": 7,
   "metadata": {},
   "outputs": [
    {
     "name": "stdout",
     "output_type": "stream",
     "text": [
      "Please enter your name:FS\n",
      "How old are you, FS?26\n",
      "\n",
      "26\n"
     ]
    }
   ],
   "source": [
    "# Specifying 'int' data type for the age.\n",
    "name = input(\"Please enter your name:\")\n",
    "age = int(input(\"How old are you, {}?\".format(name)))\n",
    "print()\n",
    "print(age)"
   ]
  },
  {
   "cell_type": "code",
   "execution_count": null,
   "metadata": {},
   "outputs": [],
   "source": [
    "name = input(\"Please enter your name:\")\n",
    "age  = int(input(\"How old are you, {0}?\".format(name)))\n",
    "\n",
    "print(age)\n",
    "\n",
    "if age >= 18:\n",
    "    print(\"You're eligible to vote\")\n",
    "    print(\"Please put an X in the box.\") # Dummy line to just confirm it's executing in the same block.\n",
    "else:\n",
    "    print(\"Please come back in {0} years\".format(18 -age))"
   ]
  },
  {
   "cell_type": "code",
   "execution_count": 6,
   "metadata": {},
   "outputs": [
    {
     "name": "stdout",
     "output_type": "stream",
     "text": [
      "Please enter your name: Farooq\n",
      "How old are you Farooq21\n",
      "You're eligible for voting\n",
      "Please cast your vote in ballot box\n"
     ]
    }
   ],
   "source": [
    "name=input(\"Please enter your name: \")\n",
    "age =int(input(\"How old are you {}\".format(name)))\n",
    "\n",
    "if age>=18:\n",
    "    print(\"You're eligible for voting\")\n",
    "    print(\"Please cast your vote in ballot box\")\n",
    "else:\n",
    "    print(\"Please come back in {0}\".format(18-age))"
   ]
  },
  {
   "cell_type": "code",
   "execution_count": 1,
   "metadata": {},
   "outputs": [
    {
     "name": "stdout",
     "output_type": "stream",
     "text": [
      "Please enter your name:ahmed\n",
      "How old are you, ahmed?25\n",
      "25\n",
      "You're eligible to vote\n",
      "Please cast your vote in box X.\n"
     ]
    }
   ],
   "source": [
    "name = input(\"Please enter your name:\")\n",
    "age = int(input(\"How old are you, {0}?\".format(name)))\n",
    "\n",
    "print(age)\n",
    "if age<18:\n",
    "    print(\"Please come back after {0} years.\".format(18-age))\n",
    "else:\n",
    "    print(\"You're eligible to vote\")\n",
    "    print(\"Please cast your vote in box X.\")"
   ]
  },
  {
   "cell_type": "code",
   "execution_count": 26,
   "metadata": {},
   "outputs": [
    {
     "name": "stdout",
     "output_type": "stream",
     "text": [
      "Please enter your name:Ah\n",
      "How old are you, Ah?26\n",
      "Please cast your vote\n"
     ]
    }
   ],
   "source": [
    "name = input(\"Please enter your name:\")\n",
    "age = int(input(\"How old are you, {0}?\".format(name)))\n",
    "\n",
    "if age <18 or age >=85:\n",
    "    print(\"You're ineligible to cast the vote\")\n",
    "else:\n",
    "    print(\"Please cast your vote\")"
   ]
  },
  {
   "cell_type": "markdown",
   "metadata": {},
   "source": [
    "### `elif Statements.`"
   ]
  },
  {
   "cell_type": "code",
   "execution_count": null,
   "metadata": {},
   "outputs": [],
   "source": [
    "name = input(\"Please enter your name:\")\n",
    "age = int(input(\"How old are you, {0}?\".format(name)))\n",
    "\n",
    "print(age)\n",
    "if age<18:\n",
    "    print(\"Please come back after {0} years.\".format(18-age))\n",
    "    \n",
    "elif age==900:\n",
    "    print(\" Sorry you'll die in few days.\")\n",
    "else:\n",
    "    print(\"You're eligible to vote\")\n",
    "    print(\"Please cast your vote in box X.\")"
   ]
  },
  {
   "cell_type": "markdown",
   "metadata": {},
   "source": [
    "### ` Using a Debugger in IntelliJ or Pycharm.`"
   ]
  },
  {
   "cell_type": "code",
   "execution_count": null,
   "metadata": {},
   "outputs": [],
   "source": [
    "answer = 5\n",
    "print(\"Please guess the number between 1 to 10: \")\n",
    "guess = int(input())\n",
    "\n",
    "if guess < answer:\n",
    "    print(\"Please guess higher\")\n",
    "elif guess > answer:\n",
    "    print(\"Please guess lower\")\n",
    "else:\n",
    "    print(\"You got it correct\")"
   ]
  },
  {
   "cell_type": "code",
   "execution_count": 3,
   "metadata": {},
   "outputs": [
    {
     "name": "stdout",
     "output_type": "stream",
     "text": [
      "Please guess the number between 1 to 10.\n",
      "7\n",
      "Please guess lower\n"
     ]
    }
   ],
   "source": [
    "answer =5\n",
    "print(\"Please guess the number between 1 to 10.\")\n",
    "guess=int(input())\n",
    "\n",
    "if guess<answer:\n",
    "    print(\"Please guess higher\")\n",
    "elif guess >answer:\n",
    "    print(\"Please guess lower\")\n",
    "else:\n",
    "    print(\"You got it in first time.\")"
   ]
  },
  {
   "cell_type": "code",
   "execution_count": null,
   "metadata": {},
   "outputs": [],
   "source": [
    "answer = 5\n",
    "\n",
    "print(\"Please guess the number between 1 to 10: \")\n",
    "guess = int(input())\n",
    "\n",
    "if guess < answer:\n",
    "    print(\"Please guess higher\")\n",
    "    guess = int(input())\n",
    "    if guess == answer:\n",
    "        print(\"Well done you guessed  it!\")\n",
    "elif guess> answer:\n",
    "    print(\"Please guess lower\")\n",
    "    guess =int(input())\n",
    "    if guess == answer:\n",
    "        print(\"Its correct guess!\")\n",
    "else:\n",
    "    print(\"You guessed it for first time\")"
   ]
  },
  {
   "cell_type": "code",
   "execution_count": null,
   "metadata": {},
   "outputs": [],
   "source": [
    "answer = 5\n",
    "\n",
    "print(\"Please guess the number between 1 to 10: \")\n",
    "guess = int(input())\n",
    "\n",
    "if guess<answer:\n",
    "    print(\"Please guess higher\")\n",
    "    guess=int(input)\n",
    "    if guess==answer:\n",
    "        print(\"You got it correctly!\")\n",
    "elif guess>answer:\n",
    "    print(\"Please guess lower\")\n",
    "    guess=int(input())\n",
    "    if guess==answer:\n",
    "        print(\"Your guess is correct\")\n",
    "else:\n",
    "    print(\"You got it in first time\")"
   ]
  },
  {
   "cell_type": "code",
   "execution_count": null,
   "metadata": {},
   "outputs": [],
   "source": [
    "answer = 5\n",
    "\n",
    "print(\"Please guess the number between 1 to 10: \")\n",
    "guess = int(input())\n",
    "\n",
    "if guess < answer:\n",
    "    print(\"Please guess higher\")\n",
    "    guess = int(input())\n",
    "    if guess == answer:\n",
    "        print(\"Well done you guessed  it!\")\n",
    "    else:\n",
    "        print(\"Sorry you've'nt guessed correctly\")\n",
    "elif guess> answer:\n",
    "    print(\"Please guess lower\")\n",
    "    guess =int(input())\n",
    "    if guess == answer:\n",
    "        print(\"Its correct guess!\")\n",
    "    else:\n",
    "        print(\"Sorry you've'nt guessed correctly\")\n",
    "else:\n",
    "    print(\"You guessed it for first time\")"
   ]
  },
  {
   "cell_type": "markdown",
   "metadata": {},
   "source": [
    "## `Conditional Operators.`"
   ]
  },
  {
   "cell_type": "code",
   "execution_count": null,
   "metadata": {},
   "outputs": [],
   "source": [
    "# 46"
   ]
  },
  {
   "cell_type": "markdown",
   "metadata": {},
   "source": [
    "### `if Blocks.`\n",
    "- When `testing for equality`, we can't use a single = symbol. **=** symbol is used for **assigning values to variables**, so when **testing for equality** we have to use **==**\n",
    "- An if statement can include many **elif** parts, but there can be only one **else**. elif is short for \"else if\"."
   ]
  },
  {
   "cell_type": "code",
   "execution_count": null,
   "metadata": {},
   "outputs": [],
   "source": [
    "answer= 5"
   ]
  },
  {
   "cell_type": "code",
   "execution_count": null,
   "metadata": {},
   "outputs": [],
   "source": [
    "print(input(\"Please enter the numbers between 1 to 10:\"))\n",
    "guess = int(input())"
   ]
  },
  {
   "cell_type": "code",
   "execution_count": null,
   "metadata": {},
   "outputs": [],
   "source": [
    "if guess != answer:\n",
    "    if guess< answer:\n",
    "        print(\"Please guess higher\")\n",
    "    else:# Guess must be greater than answer\n",
    "        print(\"Please guess lower\")\n",
    "    guess = int(input())\n",
    "    if guess==answer:\n",
    "        print(\"Well done you guessed correctly\")\n",
    "    else:\n",
    "        print(\"Sorry your guess is incorrect\")\n",
    "else:\n",
    "    print(\"You got it first time\")"
   ]
  },
  {
   "cell_type": "markdown",
   "metadata": {},
   "source": [
    "### `Using and, or, in conditions `"
   ]
  },
  {
   "cell_type": "code",
   "execution_count": null,
   "metadata": {},
   "outputs": [],
   "source": [
    "# 48."
   ]
  },
  {
   "cell_type": "code",
   "execution_count": 2,
   "metadata": {},
   "outputs": [
    {
     "name": "stdout",
     "output_type": "stream",
     "text": [
      "How old are you?18\n",
      "Hava good day at work\n"
     ]
    }
   ],
   "source": [
    "age = int(input(\"How old are you?\"))\n",
    "\n",
    "if age >=16 and age <=65:\n",
    "    print(\"Hava good day at work\")  "
   ]
  },
  {
   "cell_type": "markdown",
   "metadata": {},
   "source": [
    "### `Simply Chained Comparision.`"
   ]
  },
  {
   "cell_type": "code",
   "execution_count": 9,
   "metadata": {},
   "outputs": [
    {
     "name": "stdout",
     "output_type": "stream",
     "text": [
      "How old are you?18\n",
      "Hava good day at work\n",
      "**************************************************\n",
      "Have your good day\n"
     ]
    }
   ],
   "source": [
    "age = int(input(\"How old are you?\"))\n",
    "\n",
    "if 16<=age<=65:\n",
    "    print(\"Hava good day at work\")\n",
    "else:\n",
    "    print(\"Enjoy your free time \")\n",
    "print('*'*50)\n",
    "if age <16 or age >65:\n",
    "    print(\"Enjoy your free time\")\n",
    "else:\n",
    "    print(\"Have your good day\")"
   ]
  },
  {
   "cell_type": "markdown",
   "metadata": {},
   "source": [
    "### `Boolean Expression True and False.`"
   ]
  },
  {
   "cell_type": "code",
   "execution_count": 10,
   "metadata": {},
   "outputs": [],
   "source": [
    "# 50."
   ]
  },
  {
   "cell_type": "code",
   "execution_count": 13,
   "metadata": {},
   "outputs": [
    {
     "name": "stdout",
     "output_type": "stream",
     "text": [
      "Learn python\n"
     ]
    }
   ],
   "source": [
    "day = \"Monday\"\n",
    "temperature = 30\n",
    "raining= True\n",
    "if day == \"saturday\" and temperature >27 and not raining:\n",
    "    print(\"Go Swimming\")\n",
    "else:\n",
    "    print(\"Learn python\")"
   ]
  },
  {
   "cell_type": "code",
   "execution_count": 15,
   "metadata": {},
   "outputs": [
    {
     "name": "stdout",
     "output_type": "stream",
     "text": [
      "Go Swimming\n"
     ]
    }
   ],
   "source": [
    "day = \"Saturday\"\n",
    "temperature = 30\n",
    "raining= True\n",
    "if day == \"Saturday\" and temperature >27 or not raining:\n",
    "    print(\"Go Swimming\")\n",
    "else:\n",
    "    print(\"Learn Python\")"
   ]
  },
  {
   "cell_type": "code",
   "execution_count": 19,
   "metadata": {},
   "outputs": [
    {
     "name": "stdout",
     "output_type": "stream",
     "text": [
      "Go Swimming\n"
     ]
    }
   ],
   "source": [
    "day = \"Saturday\"\n",
    "temperature = 30\n",
    "raining= False\n",
    "if (day == \"Friday\" and temperature > 30) or not raining:\n",
    "    print(\"Go Swimming\")\n",
    "else:\n",
    "    print(\"Learn Python\")"
   ]
  },
  {
   "cell_type": "code",
   "execution_count": 18,
   "metadata": {},
   "outputs": [],
   "source": [
    "# In above operator precedence matters Hence we're getting \"Go Swimming\""
   ]
  },
  {
   "cell_type": "markdown",
   "metadata": {},
   "source": [
    "### `Truthy Values.`"
   ]
  },
  {
   "cell_type": "code",
   "execution_count": 1,
   "metadata": {},
   "outputs": [
    {
     "name": "stdout",
     "output_type": "stream",
     "text": [
      "False\n"
     ]
    }
   ],
   "source": [
    "if 0:\n",
    "    print(\"True\")\n",
    "else:\n",
    "    print(\"False\")"
   ]
  },
  {
   "cell_type": "code",
   "execution_count": 3,
   "metadata": {},
   "outputs": [
    {
     "name": "stdout",
     "output_type": "stream",
     "text": [
      "Please enter your name:\n",
      "Are you the man with no name\n"
     ]
    }
   ],
   "source": [
    "name = input(\"Please enter your name:\")\n",
    "if name:\n",
    "    print(\"Hello, {}\". format(name))\n",
    "else:\n",
    "    print(\"Are you the man with no name\")"
   ]
  },
  {
   "cell_type": "code",
   "execution_count": 4,
   "metadata": {},
   "outputs": [],
   "source": [
    "# 52"
   ]
  },
  {
   "cell_type": "markdown",
   "metadata": {},
   "source": [
    "### `in and not in.`"
   ]
  },
  {
   "cell_type": "code",
   "execution_count": 9,
   "metadata": {},
   "outputs": [
    {
     "name": "stdout",
     "output_type": "stream",
     "text": [
      "Enter a character:l\n",
      "l is in Norwegian Blue.\n"
     ]
    }
   ],
   "source": [
    "# 'in'\n",
    "parrot = \"Norwegian Blue\"\n",
    "\n",
    "letter = input(\"Enter a character:\")\n",
    "\n",
    "if letter in parrot:\n",
    "    print(\"{} is in {}.\".format(letter, parrot))\n",
    "else:\n",
    "    print(\"I don't need that letter.\")"
   ]
  },
  {
   "cell_type": "code",
   "execution_count": 13,
   "metadata": {},
   "outputs": [
    {
     "name": "stdout",
     "output_type": "stream",
     "text": [
      "What would you like to do today? Python\n",
      "But i want to go cinema\n"
     ]
    }
   ],
   "source": [
    "activity = input(\"What would you like to do today? \")\n",
    "\n",
    "if \"cinema\" not in activity:\n",
    "    print(\"But i want to go cinema\")"
   ]
  },
  {
   "cell_type": "markdown",
   "metadata": {},
   "source": [
    "### '.casefold()'\n",
    "-  This function **converts the string to lower case**."
   ]
  },
  {
   "cell_type": "code",
   "execution_count": 17,
   "metadata": {},
   "outputs": [
    {
     "name": "stdout",
     "output_type": "stream",
     "text": [
      "What would you like to do today? Cinema\n"
     ]
    }
   ],
   "source": [
    "activity = input(\"What would you like to do today? \")\n",
    "\n",
    "if \"cinema\" not in activity.casefold():\n",
    "    print(\"But I want to go to cinema.\")"
   ]
  },
  {
   "cell_type": "markdown",
   "metadata": {},
   "source": [
    "For further string related functions, Visit\n",
    "https://docs.python.org/2.5/lib/string-methods.html"
   ]
  },
  {
   "cell_type": "code",
   "execution_count": 19,
   "metadata": {},
   "outputs": [],
   "source": [
    "# 55"
   ]
  },
  {
   "cell_type": "markdown",
   "metadata": {},
   "source": [
    "# `For Loops.`\n",
    "- Python provides several ways to repeat a block of code using:\n",
    "  - **For** loops\n",
    "  - **while** loops\n",
    "  - **list comprehensions and generator expressions**.\n",
    " \n",
    "- **for loop** can beused to iterate through an iterable."
   ]
  },
  {
   "cell_type": "code",
   "execution_count": 20,
   "metadata": {
    "scrolled": true
   },
   "outputs": [
    {
     "name": "stdout",
     "output_type": "stream",
     "text": [
      "N\n",
      "o\n",
      "r\n",
      "w\n",
      "e\n",
      "g\n",
      "i\n",
      "a\n",
      "n\n",
      " \n",
      "B\n",
      "l\n",
      "u\n",
      "e\n"
     ]
    }
   ],
   "source": [
    "parrot = \"Norwegian Blue\"\n",
    "\n",
    "for character in parrot:\n",
    "    print(character)"
   ]
  },
  {
   "cell_type": "markdown",
   "metadata": {},
   "source": [
    "### `Stepping through a for loop.`"
   ]
  },
  {
   "cell_type": "code",
   "execution_count": 1,
   "metadata": {},
   "outputs": [],
   "source": [
    "number = \"9,223;372:036 854,775;807\"\n",
    "separators = \"\""
   ]
  },
  {
   "cell_type": "code",
   "execution_count": 23,
   "metadata": {},
   "outputs": [
    {
     "name": "stdout",
     "output_type": "stream",
     "text": [
      ",\n",
      ";\n",
      ":\n",
      " \n",
      ",\n",
      ";\n"
     ]
    }
   ],
   "source": [
    "for x in number:\n",
    "    if not x.isnumeric():\n",
    "        print(x)"
   ]
  },
  {
   "cell_type": "code",
   "execution_count": 24,
   "metadata": {},
   "outputs": [
    {
     "name": "stdout",
     "output_type": "stream",
     "text": [
      "9\n",
      "2\n",
      "2\n",
      "3\n",
      "3\n",
      "7\n",
      "2\n",
      "0\n",
      "3\n",
      "6\n",
      "8\n",
      "5\n",
      "4\n",
      "7\n",
      "7\n",
      "5\n",
      "8\n",
      "0\n",
      "7\n"
     ]
    }
   ],
   "source": [
    "for x in number:\n",
    "    if x.isnumeric():\n",
    "        print(x)"
   ]
  },
  {
   "cell_type": "code",
   "execution_count": 25,
   "metadata": {},
   "outputs": [
    {
     "name": "stdout",
     "output_type": "stream",
     "text": [
      ",;: ,;\n"
     ]
    }
   ],
   "source": [
    "for char in number:\n",
    "    if not char.isnumeric():\n",
    "        separators=separators + char\n",
    "print(separators)"
   ]
  },
  {
   "cell_type": "code",
   "execution_count": 26,
   "metadata": {},
   "outputs": [
    {
     "name": "stdout",
     "output_type": "stream",
     "text": [
      ",;: ,;9,223;372:036 854,775;807\n"
     ]
    }
   ],
   "source": [
    "for char in number:\n",
    "    if char.isnumeric:\n",
    "        separators = separators+char\n",
    "print(separators)"
   ]
  },
  {
   "cell_type": "markdown",
   "metadata": {},
   "source": [
    "### `for loops Extracting Values from User Input.`"
   ]
  },
  {
   "cell_type": "code",
   "execution_count": 30,
   "metadata": {},
   "outputs": [
    {
     "name": "stdout",
     "output_type": "stream",
     "text": [
      "Please enter a series of numbers, using any separators you like: 1, 23;4567: 89012\n",
      "93603\n"
     ]
    }
   ],
   "source": [
    "number = input(\"Please enter a series of numbers, using any separators you like: \")\n",
    "separators = \"\"\n",
    "\n",
    "for char in number:\n",
    "    if not char.isnumeric():\n",
    "        separators = separators + char\n",
    "        \n",
    "values=\"\".join(char if char not in separators else \" \" for char in number).split()\n",
    "print(sum(int(val) for val in values)) # To sum the all values."
   ]
  },
  {
   "cell_type": "markdown",
   "metadata": {},
   "source": [
    "### `Iterating Over a Range.`\n",
    "- The Range starts with specified number up to **but not including** the end value."
   ]
  },
  {
   "cell_type": "code",
   "execution_count": 33,
   "metadata": {},
   "outputs": [
    {
     "name": "stdout",
     "output_type": "stream",
     "text": [
      "i is now 1\n",
      "i is now 2\n",
      "i is now 3\n",
      "i is now 4\n",
      "i is now 5\n",
      "i is now 6\n",
      "i is now 7\n",
      "i is now 8\n",
      "i is now 9\n",
      "i is now 10\n",
      "i is now 11\n",
      "i is now 12\n",
      "i is now 13\n",
      "i is now 14\n",
      "i is now 15\n",
      "i is now 16\n",
      "i is now 17\n",
      "i is now 18\n",
      "i is now 19\n",
      "i is now 20\n"
     ]
    }
   ],
   "source": [
    "for i in range(1,21): # Printing first 20 numbers.\n",
    "    print(\"i is now {}\".format(i))"
   ]
  },
  {
   "cell_type": "markdown",
   "metadata": {},
   "source": [
    "### `More About Ranges.`"
   ]
  },
  {
   "cell_type": "code",
   "execution_count": 6,
   "metadata": {},
   "outputs": [
    {
     "name": "stdout",
     "output_type": "stream",
     "text": [
      "i for now 0.\n",
      "i for now 1.\n",
      "i for now 2.\n",
      "i for now 3.\n",
      "i for now 4.\n",
      "i for now 5.\n",
      "i for now 6.\n",
      "i for now 7.\n",
      "i for now 8.\n",
      "i for now 9.\n"
     ]
    }
   ],
   "source": [
    "for i in range(10):\n",
    "    print(\"i for now {}.\".format(i))"
   ]
  },
  {
   "cell_type": "code",
   "execution_count": 4,
   "metadata": {},
   "outputs": [
    {
     "name": "stdout",
     "output_type": "stream",
     "text": [
      "i for now 0.\n",
      "i for now 2.\n",
      "i for now 4.\n",
      "i for now 6.\n",
      "i for now 8.\n"
     ]
    }
   ],
   "source": [
    "for i in range(0,10,2):\n",
    "    print(\"i for now {}.\".format(i))"
   ]
  },
  {
   "cell_type": "code",
   "execution_count": 5,
   "metadata": {},
   "outputs": [
    {
     "name": "stdout",
     "output_type": "stream",
     "text": [
      "i for now 10.\n",
      "i for now 8.\n",
      "i for now 6.\n",
      "i for now 4.\n",
      "i for now 2.\n"
     ]
    }
   ],
   "source": [
    "# Reverse numbers from 10 to 1.\n",
    "for i in range(10,0, -2):\n",
    "    print(\"i for now {}.\".format(i))"
   ]
  },
  {
   "cell_type": "code",
   "execution_count": 9,
   "metadata": {},
   "outputs": [
    {
     "name": "stdout",
     "output_type": "stream",
     "text": [
      "Please Enter your age:25\n",
      "Have a good day at work\n"
     ]
    }
   ],
   "source": [
    "age = int(input(\"Please Enter your age:\"))\n",
    "\n",
    "if age in range(16,66):\n",
    "    print(\"Have a good day at work\")\n",
    "else:\n",
    "    print(\"Enjoy your free time.\")\n",
    "    "
   ]
  },
  {
   "cell_type": "markdown",
   "metadata": {},
   "source": [
    "## `Nested \"for\" loops.`\n",
    "- Nesting a for loop within another for loop is a powerful way to process data. In fact, it's something that's done a lot practially."
   ]
  },
  {
   "cell_type": "code",
   "execution_count": 14,
   "metadata": {},
   "outputs": [
    {
     "name": "stdout",
     "output_type": "stream",
     "text": [
      "1 times 1 is 1\n",
      "2 times 1 is 2\n",
      "3 times 1 is 3\n",
      "4 times 1 is 4\n",
      "5 times 1 is 5\n",
      "6 times 1 is 6\n",
      "7 times 1 is 7\n",
      "8 times 1 is 8\n",
      "9 times 1 is 9\n",
      "10 times 1 is 10\n",
      "11 times 1 is 11\n",
      "12 times 1 is 12\n",
      "----------------\n",
      "1 times 2 is 2\n",
      "2 times 2 is 4\n",
      "3 times 2 is 6\n",
      "4 times 2 is 8\n",
      "5 times 2 is 10\n",
      "6 times 2 is 12\n",
      "7 times 2 is 14\n",
      "8 times 2 is 16\n",
      "9 times 2 is 18\n",
      "10 times 2 is 20\n",
      "11 times 2 is 22\n",
      "12 times 2 is 24\n",
      "----------------\n",
      "1 times 3 is 3\n",
      "2 times 3 is 6\n",
      "3 times 3 is 9\n",
      "4 times 3 is 12\n",
      "5 times 3 is 15\n",
      "6 times 3 is 18\n",
      "7 times 3 is 21\n",
      "8 times 3 is 24\n",
      "9 times 3 is 27\n",
      "10 times 3 is 30\n",
      "11 times 3 is 33\n",
      "12 times 3 is 36\n",
      "----------------\n",
      "1 times 4 is 4\n",
      "2 times 4 is 8\n",
      "3 times 4 is 12\n",
      "4 times 4 is 16\n",
      "5 times 4 is 20\n",
      "6 times 4 is 24\n",
      "7 times 4 is 28\n",
      "8 times 4 is 32\n",
      "9 times 4 is 36\n",
      "10 times 4 is 40\n",
      "11 times 4 is 44\n",
      "12 times 4 is 48\n",
      "----------------\n",
      "1 times 5 is 5\n",
      "2 times 5 is 10\n",
      "3 times 5 is 15\n",
      "4 times 5 is 20\n",
      "5 times 5 is 25\n",
      "6 times 5 is 30\n",
      "7 times 5 is 35\n",
      "8 times 5 is 40\n",
      "9 times 5 is 45\n",
      "10 times 5 is 50\n",
      "11 times 5 is 55\n",
      "12 times 5 is 60\n",
      "----------------\n",
      "1 times 6 is 6\n",
      "2 times 6 is 12\n",
      "3 times 6 is 18\n",
      "4 times 6 is 24\n",
      "5 times 6 is 30\n",
      "6 times 6 is 36\n",
      "7 times 6 is 42\n",
      "8 times 6 is 48\n",
      "9 times 6 is 54\n",
      "10 times 6 is 60\n",
      "11 times 6 is 66\n",
      "12 times 6 is 72\n",
      "----------------\n",
      "1 times 7 is 7\n",
      "2 times 7 is 14\n",
      "3 times 7 is 21\n",
      "4 times 7 is 28\n",
      "5 times 7 is 35\n",
      "6 times 7 is 42\n",
      "7 times 7 is 49\n",
      "8 times 7 is 56\n",
      "9 times 7 is 63\n",
      "10 times 7 is 70\n",
      "11 times 7 is 77\n",
      "12 times 7 is 84\n",
      "----------------\n",
      "1 times 8 is 8\n",
      "2 times 8 is 16\n",
      "3 times 8 is 24\n",
      "4 times 8 is 32\n",
      "5 times 8 is 40\n",
      "6 times 8 is 48\n",
      "7 times 8 is 56\n",
      "8 times 8 is 64\n",
      "9 times 8 is 72\n",
      "10 times 8 is 80\n",
      "11 times 8 is 88\n",
      "12 times 8 is 96\n",
      "----------------\n",
      "1 times 9 is 9\n",
      "2 times 9 is 18\n",
      "3 times 9 is 27\n",
      "4 times 9 is 36\n",
      "5 times 9 is 45\n",
      "6 times 9 is 54\n",
      "7 times 9 is 63\n",
      "8 times 9 is 72\n",
      "9 times 9 is 81\n",
      "10 times 9 is 90\n",
      "11 times 9 is 99\n",
      "12 times 9 is 108\n",
      "----------------\n",
      "1 times 10 is 10\n",
      "2 times 10 is 20\n",
      "3 times 10 is 30\n",
      "4 times 10 is 40\n",
      "5 times 10 is 50\n",
      "6 times 10 is 60\n",
      "7 times 10 is 70\n",
      "8 times 10 is 80\n",
      "9 times 10 is 90\n",
      "10 times 10 is 100\n",
      "11 times 10 is 110\n",
      "12 times 10 is 120\n",
      "----------------\n",
      "1 times 11 is 11\n",
      "2 times 11 is 22\n",
      "3 times 11 is 33\n",
      "4 times 11 is 44\n",
      "5 times 11 is 55\n",
      "6 times 11 is 66\n",
      "7 times 11 is 77\n",
      "8 times 11 is 88\n",
      "9 times 11 is 99\n",
      "10 times 11 is 110\n",
      "11 times 11 is 121\n",
      "12 times 11 is 132\n",
      "----------------\n",
      "1 times 12 is 12\n",
      "2 times 12 is 24\n",
      "3 times 12 is 36\n",
      "4 times 12 is 48\n",
      "5 times 12 is 60\n",
      "6 times 12 is 72\n",
      "7 times 12 is 84\n",
      "8 times 12 is 96\n",
      "9 times 12 is 108\n",
      "10 times 12 is 120\n",
      "11 times 12 is 132\n",
      "12 times 12 is 144\n",
      "----------------\n"
     ]
    }
   ],
   "source": [
    "for i in range(1,13):\n",
    "    for j in range(1,13):\n",
    "        print(\"{0} times {1} is {2}\".format(j, i, i*j))\n",
    "    print(\"----------------\")"
   ]
  },
  {
   "cell_type": "markdown",
   "metadata": {},
   "source": [
    "### `Continue in a for loop.`"
   ]
  },
  {
   "cell_type": "markdown",
   "metadata": {},
   "source": [
    "#### `Lists.`\n",
    "- A **List**, in python is an ordered  sequence of values, enclosed in square brackets."
   ]
  },
  {
   "cell_type": "code",
   "execution_count": 1,
   "metadata": {},
   "outputs": [],
   "source": [
    "sl= ['milk','pasta', 'eggs', 'bread', 'spam']"
   ]
  },
  {
   "cell_type": "code",
   "execution_count": 20,
   "metadata": {},
   "outputs": [
    {
     "name": "stdout",
     "output_type": "stream",
     "text": [
      "Buy milk\n",
      "Buy pasta\n",
      "Buy eggs\n",
      "Buy bread\n"
     ]
    }
   ],
   "source": [
    "for item in sl:\n",
    "    if item !='spam':# Excluding spam.\n",
    "        print(\"Buy \" + item)"
   ]
  },
  {
   "cell_type": "markdown",
   "metadata": {},
   "source": [
    "**`Continue causes remaining code in the block to be skipped. `**"
   ]
  },
  {
   "cell_type": "code",
   "execution_count": 21,
   "metadata": {},
   "outputs": [
    {
     "name": "stdout",
     "output_type": "stream",
     "text": [
      "Buy milk\n",
      "Buy pasta\n",
      "Buy eggs\n",
      "Buy bread\n"
     ]
    }
   ],
   "source": [
    "for item in sl:\n",
    "    if item == \"spam\":\n",
    "        continue # This excludes 'spam' item. And other items in the list will be executed. \n",
    "        \n",
    "    print(\"Buy \" + item)"
   ]
  },
  {
   "cell_type": "code",
   "execution_count": 1,
   "metadata": {},
   "outputs": [
    {
     "name": "stdout",
     "output_type": "stream",
     "text": [
      "milk\n",
      "pasta\n",
      "eggs\n",
      "bread\n",
      "non_spam\n",
      "ticket\n"
     ]
    }
   ],
   "source": [
    "sls= ['milk','pasta', 'eggs', 'bread', 'spam', 'non_spam','ticket']\n",
    "for item in sls:\n",
    "    if item == 'spam':\n",
    "        continue\n",
    "    print(item)"
   ]
  },
  {
   "cell_type": "markdown",
   "metadata": {},
   "source": [
    "### `Break in a for loop.`"
   ]
  },
  {
   "cell_type": "code",
   "execution_count": 2,
   "metadata": {},
   "outputs": [],
   "source": [
    "sl= ['milk','pasta', 'eggs', 'bread', 'spam', 'rice', 'millets']"
   ]
  },
  {
   "cell_type": "code",
   "execution_count": 3,
   "metadata": {},
   "outputs": [
    {
     "name": "stdout",
     "output_type": "stream",
     "text": [
      "Buy milk\n",
      "Buy pasta\n",
      "Buy eggs\n",
      "Buy bread\n"
     ]
    }
   ],
   "source": [
    "for item in sl:\n",
    "    if item == 'spam':\n",
    "        break\n",
    "    print(\"Buy \"+ item)"
   ]
  },
  {
   "cell_type": "code",
   "execution_count": 16,
   "metadata": {},
   "outputs": [
    {
     "name": "stdout",
     "output_type": "stream",
     "text": [
      "Item spam is found at position 4 \n"
     ]
    }
   ],
   "source": [
    "item_to_find=\"spam\"\n",
    "found_at=None\n",
    "\n",
    "# for index in range(6)\n",
    "for index in range(len(sl)): # 'len' refers to number of items in list\n",
    "    if sl[index]==item_to_find:\n",
    "        found_at=index\n",
    "print(\"Item {} is found at position {} \".format(item_to_find,found_at))"
   ]
  },
  {
   "cell_type": "code",
   "execution_count": 4,
   "metadata": {},
   "outputs": [
    {
     "name": "stdout",
     "output_type": "stream",
     "text": [
      "Item spam is found at position 4. \n"
     ]
    }
   ],
   "source": [
    "# Other method\n",
    "sls= ['milk','pasta', 'eggs', 'bread', 'spam', 'non_spam','ticket']\n",
    "\n",
    "for index in range(len(sls)):\n",
    "    if sls[index] =='spam':\n",
    "        num = index\n",
    "print(\"Item {} is found at position {}. \".format('spam', num))"
   ]
  },
  {
   "cell_type": "code",
   "execution_count": 27,
   "metadata": {},
   "outputs": [
    {
     "name": "stdout",
     "output_type": "stream",
     "text": [
      "Item found at position 4\n"
     ]
    }
   ],
   "source": [
    "# Including break in the code.\n",
    "item_to_find = \"spam\"\n",
    "found_at =None\n",
    "\n",
    "# for index in range(6)\n",
    "for index in range(len(sl)): # 'len' refers to number of items in list\n",
    "    if sl[index] == item_to_find:\n",
    "        found_at=index\n",
    "        break\n",
    "        \n",
    "print(\"Item found at position {}\".format(found_at))"
   ]
  },
  {
   "cell_type": "markdown",
   "metadata": {},
   "source": [
    "### `Initialising Variables and None.`"
   ]
  },
  {
   "cell_type": "code",
   "execution_count": 1,
   "metadata": {},
   "outputs": [
    {
     "name": "stdout",
     "output_type": "stream",
     "text": [
      "Item found at position None\n"
     ]
    }
   ],
   "source": [
    "sl= ['milk','pasta', 'eggs', 'bread', 'spam', 'rice', 'millets']\n",
    "item_to_find = 'chicken'\n",
    "found_at=None\n",
    "\n",
    "for index in range(len(sl)):\n",
    "    if sl[index]==item_to_find:\n",
    "        found_at=index\n",
    "        break\n",
    "\n",
    "print(\"Item found at position {}\".format(found_at))"
   ]
  },
  {
   "cell_type": "markdown",
   "metadata": {},
   "source": [
    "- `Below Method should not be used practically to write the code i.e including 'for' loop.`"
   ]
  },
  {
   "cell_type": "code",
   "execution_count": 2,
   "metadata": {},
   "outputs": [
    {
     "name": "stdout",
     "output_type": "stream",
     "text": [
      "chicken not found \n"
     ]
    }
   ],
   "source": [
    "sl= ['milk','pasta', 'eggs', 'bread', 'spam', 'rice', 'millets']\n",
    "item_to_find= 'chicken'\n",
    "found_at=None\n",
    "\n",
    "for index in range(len(sl)):\n",
    "    if sl[index]==item_to_find:\n",
    "        found_at=index\n",
    "        break\n",
    "if found_at is not None:\n",
    "    print(\"Item found at position {}\".format(found_at))\n",
    "else:\n",
    "    print(\"{} not found \".format(item_to_find))"
   ]
  },
  {
   "cell_type": "code",
   "execution_count": 4,
   "metadata": {},
   "outputs": [
    {
     "name": "stdout",
     "output_type": "stream",
     "text": [
      "chicken not found.\n"
     ]
    }
   ],
   "source": [
    "sl= ['milk','pasta', 'eggs', 'bread', 'spam', 'rice', 'millets']\n",
    "item_to_find= 'chicken'\n",
    "found_at=None\n",
    "\n",
    "if item_to_find in sl:\n",
    "    found_at = sl.index(item_to_find)\n",
    "if found_at is not None:\n",
    "    print(\"Item found at position {} \".format(found_at))\n",
    "else:\n",
    "    print(\"{} not found.\".format(item_to_find))"
   ]
  },
  {
   "cell_type": "markdown",
   "metadata": {},
   "source": [
    "# `while loops.`\n",
    "- Sometimes we need to keep looping as long as some conditions is **True**, and stop when ot becomes **False**. We do this using **while** loop."
   ]
  },
  {
   "cell_type": "markdown",
   "metadata": {},
   "source": [
    "#### Syntax\n",
    "\n",
    "while \"condition\":\n",
    "\n",
    "    execute block of code\n",
    "This condition can be anything that can evaluate to True or False."
   ]
  },
  {
   "cell_type": "code",
   "execution_count": 7,
   "metadata": {},
   "outputs": [
    {
     "name": "stdout",
     "output_type": "stream",
     "text": [
      "i is now 0\n",
      "i is now 1\n",
      "i is now 2\n",
      "i is now 3\n",
      "i is now 4\n",
      "i is now 5\n",
      "i is now 6\n",
      "i is now 7\n",
      "i is now 8\n",
      "i is now 9\n"
     ]
    }
   ],
   "source": [
    "for i in range(10):\n",
    "    print(\"i is now {}\".format(i))"
   ]
  },
  {
   "cell_type": "code",
   "execution_count": 14,
   "metadata": {},
   "outputs": [
    {
     "name": "stdout",
     "output_type": "stream",
     "text": [
      "i is now 0.\n",
      "i is now 1.\n",
      "i is now 2.\n",
      "i is now 3.\n",
      "i is now 4.\n",
      "i is now 5.\n",
      "i is now 6.\n",
      "i is now 7.\n",
      "i is now 8.\n",
      "i is now 9.\n"
     ]
    }
   ],
   "source": [
    "# Using while loop.\n",
    "i=0 # Initializing the condition.\n",
    "while i < 10:\n",
    "    print(\"i is now {}.\".format(i))\n",
    "    i+=1 # Number of increments for every iterations. "
   ]
  },
  {
   "cell_type": "markdown",
   "metadata": {},
   "source": [
    "### `More on while loops.`\n",
    "\n",
    "- 1. Condition must be initialized at starting. Ex: i=0; else it errors as 'i' not defined/\n",
    "- 2. Mention certain condition to be false inside the loop. Ex: i+=1; else loop will be continuing forever."
   ]
  },
  {
   "cell_type": "code",
   "execution_count": 16,
   "metadata": {},
   "outputs": [
    {
     "name": "stdout",
     "output_type": "stream",
     "text": [
      "i is now 0.\n",
      "i is now 1.\n",
      "i is now 2.\n",
      "i is now 3.\n",
      "i is now 4.\n",
      "i is now 5.\n",
      "i is now 6.\n",
      "i is now 7.\n",
      "i is now 8.\n",
      "i is now 9.\n"
     ]
    }
   ],
   "source": [
    "i =0\n",
    "while i<10: # If we give 'while=True' here code will run to infinity\n",
    "    print(\"i is now {}.\".format(i))\n",
    "    i+=1"
   ]
  },
  {
   "cell_type": "code",
   "execution_count": 17,
   "metadata": {},
   "outputs": [
    {
     "name": "stdout",
     "output_type": "stream",
     "text": [
      "Please choose a direction:s\n",
      "Please choose a direction:sount\n",
      "Please choose a direction:south\n",
      "aren't you glad you got out of there.\n"
     ]
    }
   ],
   "source": [
    "available_exits =['north', 'south', 'east', 'west']\n",
    "\n",
    "chosen_exit= \"\"\n",
    "while chosen_exit not in available_exits:\n",
    "    chosen_exit = input(\"Please choose a direction:\")\n",
    "    \n",
    "print(\"aren't you glad you got out of there.\")"
   ]
  },
  {
   "cell_type": "markdown",
   "metadata": {},
   "source": [
    "- `One of the most important features of while loops is that they can be used when you can't determine, in advance, how many times we need to loop.`\n",
    "- `A for loop will repeat for each item in a pre-determined sequence, whereas with a while loop we don't need to know how many times the loop will execute.`\n",
    "- `One important application of this is reading data from a file, or an internet stream.`\n",
    "- `It's difficult (not important) to know in advance how much data there is to read.`"
   ]
  },
  {
   "cell_type": "markdown",
   "metadata": {},
   "source": [
    "### `Break in a while loop`."
   ]
  },
  {
   "cell_type": "code",
   "execution_count": 23,
   "metadata": {},
   "outputs": [
    {
     "name": "stdout",
     "output_type": "stream",
     "text": [
      "Please choose a direction:Quit\n",
      "Please choose a direction:up\n",
      "Please choose a direction:quit\n",
      "Game Over\n"
     ]
    }
   ],
   "source": [
    "available_exits =['north', 'south', 'east', 'west']\n",
    "\n",
    "chosen_exit= \"\"\n",
    "while chosen_exit not in available_exits:\n",
    "    chosen_exit = input(\"Please choose a direction:\")\n",
    "    if chosen_exit==\"quit\":\n",
    "        print(\"Game Over\")\n",
    "        break"
   ]
  },
  {
   "cell_type": "code",
   "execution_count": 25,
   "metadata": {},
   "outputs": [
    {
     "name": "stdout",
     "output_type": "stream",
     "text": [
      "Please choose a direction:up \n",
      "Please choose a direction:Next\n",
      "Please choose a direction:Quit\n",
      "Game Over\n",
      "aren't you glad you got out of there.\n"
     ]
    }
   ],
   "source": [
    "available_exits =['north', 'south', 'east', 'west']\n",
    "\n",
    "chosen_exit= \"\"\n",
    "while chosen_exit not in available_exits:\n",
    "    chosen_exit = input(\"Please choose a direction:\")\n",
    "    if chosen_exit.casefold()==\"quit\": # .casefold() converts uppercase to lower case input.\n",
    "        print(\"Game Over\")\n",
    "        break\n",
    "print(\"aren't you glad you got out of there.\")\n",
    "    # Quit with upper case litter 'Q' will be taken as lowercase."
   ]
  },
  {
   "cell_type": "markdown",
   "metadata": {},
   "source": [
    "- **`.casefold()** converts uppercase input to lower case.`"
   ]
  },
  {
   "cell_type": "markdown",
   "metadata": {},
   "source": [
    "### `Random Module and Import.`"
   ]
  },
  {
   "cell_type": "code",
   "execution_count": 2,
   "metadata": {},
   "outputs": [],
   "source": [
    "import random"
   ]
  },
  {
   "cell_type": "markdown",
   "metadata": {},
   "source": [
    "- `Using .randint() function.`"
   ]
  },
  {
   "cell_type": "code",
   "execution_count": 15,
   "metadata": {},
   "outputs": [
    {
     "name": "stdout",
     "output_type": "stream",
     "text": [
      "Random answer 9\n",
      "Please guess number between 1 and 10:\n",
      "5\n",
      "Please guess higher\n"
     ]
    }
   ],
   "source": [
    "highest=10\n",
    "answer = random.randint(1,highest) # Setting 1 to 10 range which gives random number between them.\n",
    "# .randint() function is present in the random module.\n",
    "\n",
    "print(\"Random answer\",answer)\n",
    "print(\"Please guess number between 1 and {}:\".format(highest))\n",
    "guess =int(input())\n",
    "\n",
    "if guess==answer:\n",
    "    print(\"You got it first time\")\n",
    "else:\n",
    "    if guess<answer:\n",
    "        print(\"Please guess higher\")"
   ]
  },
  {
   "cell_type": "markdown",
   "metadata": {},
   "source": [
    "#### `Applying above program using 'while' loop.`"
   ]
  },
  {
   "cell_type": "code",
   "execution_count": 1,
   "metadata": {},
   "outputs": [
    {
     "name": "stdout",
     "output_type": "stream",
     "text": [
      "Random Number 3\n",
      "\n",
      "Please guess number between 1 and  10:\n",
      "5\n",
      "Please guess lower\n",
      "2\n",
      "Please guess higher\n",
      "3\n",
      "Well done, you done it!\n"
     ]
    }
   ],
   "source": [
    "import random\n",
    "highest=10\n",
    "answer = random.randint(1,highest)\n",
    "print(\"Random Number\", answer)\n",
    "print()\n",
    "print(\"Please guess number between 1 and  {}:\".format(highest))\n",
    "\n",
    "guess=0 # Initializing to any number that doesn't equal to answer.\n",
    "\n",
    "while guess!=answer:\n",
    "    guess =int(input())\n",
    "    \n",
    "    if guess ==answer:\n",
    "        print(\"Well done, you done it!\")\n",
    "        break\n",
    "    elif guess > answer:\n",
    "        print(\"Please guess lower\")\n",
    "    else:\n",
    "        print(\"Please guess higher\")"
   ]
  },
  {
   "cell_type": "markdown",
   "metadata": {},
   "source": [
    "### `Binary Search`.\n",
    "- When we have ordered set of data to search through, we can split the data in half each time. \n",
    "- Guessing a number is very much like searching for the a value inan ordered set of data.\n",
    "- By continuing to half the range of values that we've to guess, we can guess any number from 1 to 1000 in a maximum of 10 guesses."
   ]
  },
  {
   "cell_type": "code",
   "execution_count": 1,
   "metadata": {},
   "outputs": [],
   "source": [
    "# Guessing a number between 1 and 10. It should be guessed within 4 guesses."
   ]
  },
  {
   "cell_type": "markdown",
   "metadata": {},
   "source": [
    "### `Hi Lo Game snd Pass Statement. `"
   ]
  },
  {
   "cell_type": "markdown",
   "metadata": {},
   "source": [
    "- an **`algorithm`** is a set of steps that are followed, to perform a task or calculate a result.\n",
    "- **`Pass`** statement is a keyword which makes code syntactically correct"
   ]
  },
  {
   "cell_type": "code",
   "execution_count": null,
   "metadata": {},
   "outputs": [],
   "source": [
    "low= 1\n",
    "high=1000\n",
    "\n",
    "print(\"Pleas think a number between {} and {}\".format(low, high))\n",
    "input(\"Please ENTER to start \")\n",
    "\n",
    "guesses=1\n",
    "while True:\n",
    "    guess= low +(high-low)//2 # This is a formula which calculates the midpoint brtween lowand high value to produce the next guess.\n",
    "    high_low = input(\"My guess is {}. Should I guess higher or lower? \"\n",
    "                     \"Enter h or l, or c if my guess was correct \"\n",
    "                     .format(guess)).casefold()\n",
    "    \n",
    "    if high_low=='h':\n",
    "        # Guess higher. The low end of the range becomes 1 greater than the guess.\n",
    "        pass\n",
    "    elif high_low=='l':\n",
    "        # Guess lower. The high end of the range becomes one less than the guess.\n",
    "        pass\n",
    "    elif high_low=='c':\n",
    "        print(\"I got it in {} guesses!\".format(guess))\n",
    "        break\n",
    "    else:\n",
    "        print(\"Please enter h,l or c\")\n",
    "    \n",
    "    guesses=guesses + 1"
   ]
  },
  {
   "cell_type": "markdown",
   "metadata": {},
   "source": [
    "### `PEP.`\n",
    "- **PEP** is a `Python Enhancement Proposal`. All changes, and new features, to the Python language start with a proposal.\n",
    "- The proposal is reviewed, discussed, improved, if necessary, then either accepted or rejected."
   ]
  },
  {
   "cell_type": "markdown",
   "metadata": {},
   "source": [
    "### `else in a loop.`"
   ]
  },
  {
   "cell_type": "markdown",
   "metadata": {},
   "source": [
    "#### To check if numbers are divisible by 8."
   ]
  },
  {
   "cell_type": "code",
   "execution_count": 23,
   "metadata": {},
   "outputs": [
    {
     "name": "stdout",
     "output_type": "stream",
     "text": [
      "The numbers are unacceptable.\n",
      "32\n"
     ]
    }
   ],
   "source": [
    "numbers = [1,45,32,12,60]\n",
    "\n",
    "for n in numbers:\n",
    "    if n % 8==0:\n",
    "        print(\"The numbers are unacceptable.\")\n",
    "        print(n)\n",
    "        break"
   ]
  },
  {
   "cell_type": "code",
   "execution_count": 28,
   "metadata": {},
   "outputs": [
    {
     "name": "stdout",
     "output_type": "stream",
     "text": [
      "The numbers are unacceptable.\n",
      "\n",
      "16\n"
     ]
    }
   ],
   "source": [
    "numbers = [1,45,31,16,60]\n",
    "\n",
    "for n in numbers:\n",
    "    if n % 8==0:\n",
    "        print(\"The numbers are unacceptable.\")\n",
    "        print()\n",
    "        print(n)\n",
    "        break\n",
    "else:\n",
    "        print(\"All those numbers are fine.\")"
   ]
  },
  {
   "cell_type": "code",
   "execution_count": 33,
   "metadata": {},
   "outputs": [
    {
     "name": "stdout",
     "output_type": "stream",
     "text": [
      "Please choose a direction: east\n",
      "aren't you glad you got out of there \n"
     ]
    }
   ],
   "source": [
    "available_exits = [\"north\", \"south\", \"east\", \"west\"]\n",
    "\n",
    "chosen_exit=\"\"\n",
    "\n",
    "while chosen_exit not in available_exits:\n",
    "    chosen_exit=input(\"Please choose a direction: \")\n",
    "    if chosen_exit.casefold()=='quit':\n",
    "        break\n",
    "else:\n",
    "    print(\"aren't you glad you got out of there \")"
   ]
  }
 ],
 "metadata": {
  "kernelspec": {
   "display_name": "Python 3 (ipykernel)",
   "language": "python",
   "name": "python3"
  },
  "language_info": {
   "codemirror_mode": {
    "name": "ipython",
    "version": 3
   },
   "file_extension": ".py",
   "mimetype": "text/x-python",
   "name": "python",
   "nbconvert_exporter": "python",
   "pygments_lexer": "ipython3",
   "version": "3.9.7"
  }
 },
 "nbformat": 4,
 "nbformat_minor": 2
}
