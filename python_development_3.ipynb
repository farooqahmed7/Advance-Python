{
 "cells": [
  {
   "cell_type": "markdown",
   "metadata": {},
   "source": [
    "### `Introduction to Sequence Types. `\n",
    "- https://docs.python.org/3/library/stdtypes.html\n",
    "- A **Sequence** is an `ordered` collection of items. The word **ordered** is important. If a sequence wasn't ordered, we couldn't refer to individual items by their index position.\n",
    "- In Python, anything that we can iterate is an **iterable** i.e if we use it in a **for loop**, then it's **iterable**.\n",
    "- Iterable is an object that contains either an **`_ _ iter_ _ `** or **`_ _ getitem_ _`**."
   ]
  },
  {
   "cell_type": "markdown",
   "metadata": {},
   "source": [
    "# `Lists.`"
   ]
  },
  {
   "cell_type": "code",
   "execution_count": 2,
   "metadata": {},
   "outputs": [],
   "source": [
    "computer_parts= [\"computer\",\n",
    "    \"monitor\",\n",
    "    \"keyboard\",\n",
    "    \"mouse\",\n",
    "    \"mouse mat\"\n",
    "   ]"
   ]
  },
  {
   "cell_type": "code",
   "execution_count": 5,
   "metadata": {},
   "outputs": [
    {
     "name": "stdout",
     "output_type": "stream",
     "text": [
      "computer\n",
      "monitor\n",
      "keyboard\n",
      "mouse\n",
      "mouse mat\n",
      "\n",
      "keyboard\n"
     ]
    }
   ],
   "source": [
    "for part in computer_parts:\n",
    "    print(part)\n",
    "print()\n",
    "print(computer_parts[2]) # slicing to print keyboard."
   ]
  },
  {
   "cell_type": "code",
   "execution_count": 7,
   "metadata": {},
   "outputs": [
    {
     "name": "stdout",
     "output_type": "stream",
     "text": [
      "['computer', 'monitor', 'keyboard']\n",
      "\n",
      "mouse mat\n"
     ]
    }
   ],
   "source": [
    "print(computer_parts[:3])\n",
    "print()\n",
    "print(computer_parts[-1]) # Negative Slicing ."
   ]
  },
  {
   "cell_type": "markdown",
   "metadata": {},
   "source": [
    "\n",
    "### `Immutable Objects.`\n",
    "- When an object is describes as **immutable**, that means it **can't be changed**.\n",
    "- The following immutable types are built into python:\n",
    "  - **`int`**\n",
    "  - **`float`**\n",
    "  - **`bool`** (True or False): a subclass of `int`\n",
    "  - **`str`** (string)"
   ]
  },
  {
   "cell_type": "code",
   "execution_count": 9,
   "metadata": {},
   "outputs": [
    {
     "name": "stdout",
     "output_type": "stream",
     "text": [
      "1507717280\n",
      "1507717280\n"
     ]
    }
   ],
   "source": [
    "result = True\n",
    "another_result=result\n",
    "\n",
    "print(id(result))# It returns identification for the object.\n",
    "print(id(another_result))"
   ]
  },
  {
   "cell_type": "code",
   "execution_count": 10,
   "metadata": {},
   "outputs": [
    {
     "name": "stdout",
     "output_type": "stream",
     "text": [
      "1507717312\n"
     ]
    }
   ],
   "source": [
    "result = False\n",
    "print(id(result)) # New id is generated."
   ]
  },
  {
   "cell_type": "code",
   "execution_count": 11,
   "metadata": {},
   "outputs": [
    {
     "name": "stdout",
     "output_type": "stream",
     "text": [
      "2742049454208\n",
      "2742049454208\n"
     ]
    }
   ],
   "source": [
    "result = \"Correct\"\n",
    "another_result=result\n",
    "\n",
    "print(id(result))# It has different id for objects when value of variable is changed.\n",
    "print(id(another_result))"
   ]
  },
  {
   "cell_type": "code",
   "execution_count": 24,
   "metadata": {},
   "outputs": [
    {
     "name": "stdout",
     "output_type": "stream",
     "text": [
      "2742050051312\n",
      "2742050051312\n"
     ]
    }
   ],
   "source": [
    "result += \"answer\"\n",
    "another_result=result\n",
    "\n",
    "print(id(result))# It has different id for objects when value of variable is changed.\n",
    "print(id(result))"
   ]
  },
  {
   "cell_type": "markdown",
   "metadata": {},
   "source": [
    "#### When we try to append a string to existing variable, It has `created a new object` and `assigned new id` for it."
   ]
  },
  {
   "cell_type": "markdown",
   "metadata": {},
   "source": [
    "### `Mutable Objects.`\n",
    "- A **mutable** object is one whose value **can be changed**.\n",
    "- Python has the following ***mutable*** objects built in:\n",
    "  - ***`list`***\n",
    "  - ***`dict`***\n",
    "  - ***`set`***\n",
    "  - ***`Bytearray`***"
   ]
  },
  {
   "cell_type": "code",
   "execution_count": 2,
   "metadata": {},
   "outputs": [
    {
     "name": "stdout",
     "output_type": "stream",
     "text": [
      "2142376178560\n",
      "2142376178560\n"
     ]
    }
   ],
   "source": [
    "lst = [\n",
    "    \"milk\",\n",
    "    \"pasta\",\n",
    "    \"eggs\",\n",
    "    \"spam\",\n",
    "    \"bread\",\n",
    "    \"rice\"\n",
    "      ]\n",
    "another_lst= lst\n",
    "print(id(lst))\n",
    "print(id(another_lst))"
   ]
  },
  {
   "cell_type": "markdown",
   "metadata": {},
   "source": [
    "### `Concatenation of Lists.`"
   ]
  },
  {
   "cell_type": "code",
   "execution_count": 3,
   "metadata": {},
   "outputs": [
    {
     "name": "stdout",
     "output_type": "stream",
     "text": [
      "['milk', 'pasta', 'eggs', 'spam', 'bread', 'rice', 'cookies']\n"
     ]
    }
   ],
   "source": [
    "lst +=[\"cookies\"] # Concatenating the lists.\n",
    "print(lst)"
   ]
  },
  {
   "cell_type": "code",
   "execution_count": 4,
   "metadata": {},
   "outputs": [
    {
     "name": "stdout",
     "output_type": "stream",
     "text": [
      "['milk', 'pasta', 'eggs', 'spam', 'bread', 'rice', 'cookies', 'momos']\n"
     ]
    }
   ],
   "source": [
    "# Adding an element using append method.\n",
    "lst.append('momos')\n",
    "print(lst)"
   ]
  },
  {
   "cell_type": "code",
   "execution_count": 18,
   "metadata": {},
   "outputs": [
    {
     "name": "stdout",
     "output_type": "stream",
     "text": [
      "2742048562824\n",
      "2742048562824\n"
     ]
    }
   ],
   "source": [
    "print(id(lst))\n",
    "print(id(another_lst))"
   ]
  },
  {
   "cell_type": "markdown",
   "metadata": {},
   "source": [
    "#### `In the above, id remains same since lists are MUTABLE.`\n",
    "- Strings are **`immutable`**. When we tried to change a string, Python created a new object- new string- and re-attached the name to it.\n",
    "- Lists are **`mutable`** they **`can`** be changed. When we appended a new item, Python was able to change the contents of the lists, without creating a new one.\n",
    "\n",
    "So the difference between mutable and immutable objects are:\n",
    "- An **`immutable`** object can't be changed. We can create a new object and use the same variable name for it, but we **`can't`** change the value of an immutable object.\n",
    "- **`Mutable`** objects such as lists,**`can`** be changed."
   ]
  },
  {
   "cell_type": "markdown",
   "metadata": {},
   "source": [
    "### `Binding Multiple Names to a List. `"
   ]
  },
  {
   "cell_type": "code",
   "execution_count": 1,
   "metadata": {},
   "outputs": [
    {
     "name": "stdout",
     "output_type": "stream",
     "text": [
      "2589285356872\n",
      "2589285356872\n"
     ]
    }
   ],
   "source": [
    "lst = [\n",
    "    \"milk\",\n",
    "    \"pasta\",\n",
    "    \"eggs\",\n",
    "    \"spam\",\n",
    "    \"bread\",\n",
    "    \"rice\"\n",
    "      ]\n",
    "another_lst= lst\n",
    "print(id(lst))\n",
    "print(id(another_lst))"
   ]
  },
  {
   "cell_type": "code",
   "execution_count": 2,
   "metadata": {},
   "outputs": [],
   "source": [
    "a=b=c=d=e=f=another_lst"
   ]
  },
  {
   "cell_type": "code",
   "execution_count": 3,
   "metadata": {},
   "outputs": [
    {
     "name": "stdout",
     "output_type": "stream",
     "text": [
      "Adding cream\n",
      "['milk', 'pasta', 'eggs', 'spam', 'bread', 'rice', 'cream']\n",
      "\n",
      "['milk', 'pasta', 'eggs', 'spam', 'bread', 'rice', 'cream']\n"
     ]
    }
   ],
   "source": [
    "print(\"Adding cream\")\n",
    "b.append(\"cream\") # It adds cream at the end of the list.\n",
    "\n",
    "print(c)\n",
    "print()\n",
    "print(d)"
   ]
  },
  {
   "cell_type": "markdown",
   "metadata": {},
   "source": [
    "### `Common Sequence Operations.`"
   ]
  },
  {
   "cell_type": "code",
   "execution_count": 38,
   "metadata": {},
   "outputs": [
    {
     "name": "stdout",
     "output_type": "stream",
     "text": [
      "2\n",
      "8\n",
      "1\n",
      "9\n"
     ]
    }
   ],
   "source": [
    "even= [2,4,6,8]\n",
    "odd=[1,3,5,7,9]\n",
    "\n",
    "print(min(even))\n",
    "print(max(even))\n",
    "print(min(odd))\n",
    "print(max(odd))"
   ]
  },
  {
   "cell_type": "code",
   "execution_count": 43,
   "metadata": {},
   "outputs": [
    {
     "name": "stdout",
     "output_type": "stream",
     "text": [
      "4\n",
      "5\n"
     ]
    }
   ],
   "source": [
    "# len returns number of items in sequence.\n",
    "print(len(even))\n",
    "print(len(odd))"
   ]
  },
  {
   "cell_type": "code",
   "execution_count": 44,
   "metadata": {},
   "outputs": [
    {
     "name": "stdout",
     "output_type": "stream",
     "text": [
      "4\n"
     ]
    }
   ],
   "source": [
    "# To print number of times \"s\" is present in the string.\n",
    "print(\"mississippi\".count(\"s\"))"
   ]
  },
  {
   "cell_type": "code",
   "execution_count": 45,
   "metadata": {},
   "outputs": [
    {
     "name": "stdout",
     "output_type": "stream",
     "text": [
      "2\n"
     ]
    }
   ],
   "source": [
    "print(\"mississippi\".count(\"is\"))"
   ]
  },
  {
   "cell_type": "markdown",
   "metadata": {},
   "source": [
    "### `Operations on Mutable Sequences.`"
   ]
  },
  {
   "cell_type": "markdown",
   "metadata": {},
   "source": [
    "#### `Methods and Functions.`\n",
    "- A method is the same as a function, except that it's bound to an object. That means we need an object, to call the **method.**\n",
    "- In above code we used **min**, **max** and **len** function.\n",
    "-  When we call a **function**, we just type its name and provide any arguments in parentheses.\n",
    "- When we call a **method**, we tell it which object it's called on. In other words, which object it should be using when it performs its function.\n",
    "\n",
    "- Ex: **s.append(x)**\n",
    "  - In above we'll be appending **x** to a list called **s**.\n",
    "  - **append** is a method we call.\n",
    "  - We pass **x** argument, so that teh method knows what to append.\n",
    "  - We start with the name of an object. The documentation uses **s**,   because it's talking about **sequence** types.\n",
    "  \n",
    "  "
   ]
  },
  {
   "cell_type": "markdown",
   "metadata": {},
   "source": [
    "### `Appending to a List.`"
   ]
  },
  {
   "cell_type": "code",
   "execution_count": 1,
   "metadata": {},
   "outputs": [
    {
     "name": "stdout",
     "output_type": "stream",
     "text": [
      "Please add options from the list below\n",
      "1: computer\n",
      "2: monitor\n",
      "3: keyboard\n",
      "4: mouse\n",
      "5: mouse mat\n",
      "0: to finish\n",
      "1\n",
      "Adding 1\n",
      "4\n",
      "Adding 4\n",
      "3\n",
      "Adding 3\n",
      "5\n",
      "Adding 5\n",
      "0\n",
      "['computer', 'mouse', 'keyboard', 'mouse mat']\n"
     ]
    }
   ],
   "source": [
    "# Initializing the variables.\n",
    "current_choice=\"-\"\n",
    "computer_parts= [] # Creating an empty lists.\n",
    "\n",
    "while current_choice !='0':\n",
    "    if current_choice in \"12345\":\n",
    "        print(\"Adding {}\".format(current_choice))\n",
    "        if current_choice=='1':\n",
    "            computer_parts.append('computer')\n",
    "        elif current_choice=='2':\n",
    "            computer_parts.append('monitor')\n",
    "        elif current_choice=='3':\n",
    "            computer_parts.append('keyboard')\n",
    "        elif current_choice=='4':\n",
    "            computer_parts.append('mouse')\n",
    "        elif current_choice=='5':\n",
    "            computer_parts.append('mouse mat')\n",
    "    else:\n",
    "        print(\"Please add options from the list below\")\n",
    "        print(\"1: computer\")\n",
    "        print(\"2: monitor\")\n",
    "        print(\"3: keyboard\")\n",
    "        print(\"4: mouse\")\n",
    "        print(\"5: mouse mat\")\n",
    "        print(\"0: to finish\")\n",
    "        \n",
    "    current_choice=input()\n",
    "    \n",
    "print(computer_parts)"
   ]
  },
  {
   "cell_type": "code",
   "execution_count": 2,
   "metadata": {},
   "outputs": [
    {
     "name": "stdout",
     "output_type": "stream",
     "text": [
      "Please add options from the list below\n",
      "1: computer\n",
      "2: monitor\n",
      "3: keyboard\n",
      "4: mouse\n",
      "5: mouse mat\n",
      "6: hdmi cable\n",
      "0: to finish\n",
      "2\n",
      "Adding 2\n",
      "1\n",
      "Adding 1\n",
      "5\n",
      "Adding 5\n",
      "6\n",
      "Adding 6\n",
      "4\n",
      "Adding 4\n",
      "3\n",
      "Adding 3\n",
      "0\n",
      "['monitor', 'computer', 'mouse mat', 'hdmi cable', 'mouse', 'keyboard']\n"
     ]
    }
   ],
   "source": [
    "current_choice=\"-\"\n",
    "computer_parts= [] # Creating an empty lists.\n",
    "\n",
    "while current_choice !='0':\n",
    "    if current_choice in \"123456\":\n",
    "        print(\"Adding {}\".format(current_choice))\n",
    "        if current_choice=='1':\n",
    "            computer_parts.append('computer')\n",
    "        elif current_choice=='2':\n",
    "            computer_parts.append('monitor')\n",
    "        elif current_choice=='3':\n",
    "            computer_parts.append('keyboard')\n",
    "        elif current_choice=='4':\n",
    "            computer_parts.append('mouse')\n",
    "        elif current_choice=='5':\n",
    "            computer_parts.append('mouse mat')\n",
    "        elif current_choice=='6':\n",
    "            computer_parts.append('hdmi cable')\n",
    "    else:\n",
    "        print(\"Please add options from the list below\")\n",
    "        print(\"1: computer\")\n",
    "        print(\"2: monitor\")\n",
    "        print(\"3: keyboard\")\n",
    "        print(\"4: mouse\")\n",
    "        print(\"5: mouse mat\")\n",
    "        print(\"6: hdmi cable\")\n",
    "        print(\"0: to finish\")\n",
    "        \n",
    "    current_choice=input()\n",
    "    \n",
    "print(computer_parts)"
   ]
  },
  {
   "cell_type": "markdown",
   "metadata": {},
   "source": [
    "### `Iterating Over a List.`"
   ]
  },
  {
   "cell_type": "code",
   "execution_count": 2,
   "metadata": {},
   "outputs": [
    {
     "name": "stdout",
     "output_type": "stream",
     "text": [
      "Please add options from the list below\n",
      "1:computer\n",
      "2:monitor\n",
      "3:keyboard\n",
      "4:mouse\n",
      "5:mouse pad\n",
      "6:hdmi cable\n",
      "2\n",
      "Adding 2 to  the list.\n",
      "1\n",
      "Adding 1 to  the list.\n",
      "4\n",
      "Adding 4 to  the list.\n",
      "5\n",
      "Adding 5 to  the list.\n",
      "6\n",
      "Adding 6 to  the list.\n",
      "7\n",
      "Please add options from the list below\n",
      "1:computer\n",
      "2:monitor\n",
      "3:keyboard\n",
      "4:mouse\n",
      "5:mouse pad\n",
      "6:hdmi cable\n",
      "0\n",
      "['monitor', 'computer', 'mouse', 'mouse pad', 'hdmi cable']\n"
     ]
    }
   ],
   "source": [
    "# For above code using for loop in the else part of the code.\n",
    "available_parts=[\"computer\", \n",
    "                 \"monitor\", \n",
    "                 \"keyboard\", \n",
    "                 \"mouse\",\n",
    "                 \"mouse pad\",\n",
    "                 \"hdmi cable\"]\n",
    "current_choice= \"-\"\n",
    "computer_parts=[]\n",
    "\n",
    "while current_choice!='0':\n",
    "    if current_choice in \"123456\":\n",
    "        print(\"Adding {} to  the list.\".format(current_choice))\n",
    "        if current_choice=='1':\n",
    "            computer_parts.append('computer')\n",
    "        elif current_choice=='2':\n",
    "            computer_parts.append('monitor')\n",
    "        elif current_choice=='3':\n",
    "            computer_parts.append('keyboard')\n",
    "        elif current_choice=='4':\n",
    "            computer_parts.append('mouse')\n",
    "        elif current_choice=='5':\n",
    "            computer_parts.append('mouse pad')\n",
    "        elif current_choice=='6':\n",
    "            computer_parts.append('hdmi cable')\n",
    "    else:\n",
    "        print(\"Please add options from the list below\")\n",
    "        \n",
    "        # Using for loop to iterate the pre-defined list\n",
    "        for part in available_parts:\n",
    "            print(\"{0}:{1}\".format(available_parts.index(part)+1,part))\n",
    "            # \"+1\" is given because indexing starts from 0.\n",
    "    current_choice=input()\n",
    "print(computer_parts)"
   ]
  },
  {
   "cell_type": "markdown",
   "metadata": {},
   "source": [
    "### `The Enumerate Function.`\n",
    "- **enumerate** returns each item, with its index position."
   ]
  },
  {
   "cell_type": "code",
   "execution_count": 1,
   "metadata": {},
   "outputs": [
    {
     "name": "stdout",
     "output_type": "stream",
     "text": [
      "Please add  options from the the list below\n",
      "1:computer\n",
      "2:monitor\n",
      "3:keyboard\n",
      "4:mouse\n",
      "5:mouse pad\n",
      "6:hdmi cable\n",
      "7:dvd player\n",
      "5\n",
      "Adding 5 to  the list.\n",
      "3\n",
      "Adding 3 to  the list.\n",
      "1\n",
      "Adding 1 to  the list.\n",
      "4\n",
      "Adding 4 to  the list.\n",
      "2\n",
      "Adding 2 to  the list.\n",
      "6\n",
      "Adding 6 to  the list.\n",
      "0\n",
      "['mouse pad', 'keyboard', 'computer', 'mouse', 'monitor', 'hdmi cable']\n"
     ]
    }
   ],
   "source": [
    "# Improving  above for loop using enumerate function.\n",
    "available_parts=[\"computer\", \n",
    "                 \"monitor\", \n",
    "                 \"keyboard\", \n",
    "                 \"mouse\",\n",
    "                 \"mouse pad\",\n",
    "                 \"hdmi cable\",\n",
    "                 \"dvd player\"]\n",
    "\n",
    "current_choice=\"-\"\n",
    "computer_parts=[]\n",
    "while current_choice!='0':\n",
    "    if current_choice in \"123456\":\n",
    "        print(\"Adding {} to  the list.\".format(current_choice))\n",
    "        if current_choice=='1':\n",
    "            computer_parts.append('computer')\n",
    "        elif current_choice=='2':\n",
    "            computer_parts.append('monitor')\n",
    "        elif current_choice=='3':\n",
    "            computer_parts.append('keyboard')\n",
    "        elif current_choice=='4':\n",
    "            computer_parts.append('mouse')\n",
    "        elif current_choice=='5':\n",
    "            computer_parts.append('mouse pad')\n",
    "        elif current_choice=='6':\n",
    "            computer_parts.append('hdmi cable')\n",
    "        elif current_choice=='7':\n",
    "            computer_parts.append('dvd player')\n",
    "    else:\n",
    "        print(\"Please add options from the list below\")  \n",
    "        \n",
    "        # Using for loop to iterate the pre-defined list\n",
    "        for number, part in enumerate(available_parts):\n",
    "            print(\"{0}:{1}\".format(number +1, part))\n",
    "        \n",
    "    current_choice=input()\n",
    "print(computer_parts)"
   ]
  },
  {
   "cell_type": "code",
   "execution_count": 5,
   "metadata": {},
   "outputs": [
    {
     "name": "stdout",
     "output_type": "stream",
     "text": [
      "1 a\n",
      "2 b\n",
      "3 c\n",
      "4 d\n",
      "5 e\n",
      "6 f\n",
      "7 g\n",
      "8 h\n"
     ]
    }
   ],
   "source": [
    "for index, character in enumerate(\"abcdefgh\"):\n",
    "    print(index+1, character)"
   ]
  },
  {
   "cell_type": "markdown",
   "metadata": {},
   "source": [
    "### `Improving the Code.`"
   ]
  },
  {
   "cell_type": "code",
   "execution_count": 11,
   "metadata": {},
   "outputs": [
    {
     "name": "stdout",
     "output_type": "stream",
     "text": [
      "['1', '2', '3', '4', '5', '6', '7']\n"
     ]
    }
   ],
   "source": [
    "# To print the indexes of the list.\n",
    "available_parts=[\"computer\", \n",
    "                 \"monitor\", \n",
    "                 \"keyboard\", \n",
    "                 \"mouse\",\n",
    "                 \"mouse pad\",\n",
    "                 \"hdmi cable\",\n",
    "                 \"dvd player\"\n",
    "                ]\n",
    "# Using Lists Comprehension.\n",
    "valid_choices=[str(i) for i in range(1, len(available_parts)+1)]\n",
    "print(valid_choices)"
   ]
  },
  {
   "cell_type": "code",
   "execution_count": 15,
   "metadata": {},
   "outputs": [
    {
     "name": "stdout",
     "output_type": "stream",
     "text": [
      "['1', '2', '3', '4', '5', '6', '7']\n",
      "Please add  options from the list below:\n",
      "1: computer\n",
      "2: monitor\n",
      "3: keyboard\n",
      "4: mouse\n",
      "5: mouse pad\n",
      "6: hdmi cable\n",
      "7: dvd player\n",
      "4\n",
      "Adding 4\n",
      "3\n",
      "Adding 3\n",
      "2\n",
      "Adding 2\n",
      "1\n",
      "Adding 1\n",
      "5\n",
      "Adding 5\n",
      "6\n",
      "Adding 6\n",
      "0\n",
      "['mouse', 'keyboard', 'monitor', 'computer', 'mouse pad', 'hdmi cable']\n"
     ]
    }
   ],
   "source": [
    "# We get same output using below line of code instead of lists comprehension.\n",
    "available_parts=[\"computer\", \n",
    "                 \"monitor\", \n",
    "                 \"keyboard\", \n",
    "                 \"mouse\",\n",
    "                 \"mouse pad\",\n",
    "                 \"hdmi cable\",\n",
    "                 \"dvd player\"\n",
    "                ]\n",
    "valid_choices=[]\n",
    "# Creating index values for the above list of elements.\n",
    "for i in range(1, len(available_parts) + 1):\n",
    "    valid_choices.append(str(i)) # We use str function because the customers will be using 'Strings'.\n",
    "print(valid_choices)\n",
    "current_choice=\"-\"\n",
    "computer_parts=[]\n",
    "\n",
    "while current_choice!='0':\n",
    "    if current_choice in valid_choices:\n",
    "        print(\"Adding {}\".format(current_choice))\n",
    "        index=int(current_choice)-1 # Choices one is greater than item index, hence we subtract 1.\n",
    "        # current_choice is 'str' and indexes have to be 'int'\n",
    "        chosen_part=available_parts[index]\n",
    "        computer_parts.append(chosen_part)\n",
    "    else:\n",
    "        print(\"Please add  options from the list below:\")\n",
    "        for number, part in enumerate(available_parts):\n",
    "            print(\"{0}: {1}\".format(number+1, part))\n",
    "    current_choice=input()\n",
    "print(computer_parts)    "
   ]
  },
  {
   "cell_type": "markdown",
   "metadata": {},
   "source": [
    "### `Removing Items from a List.`"
   ]
  },
  {
   "cell_type": "code",
   "execution_count": 21,
   "metadata": {},
   "outputs": [
    {
     "name": "stdout",
     "output_type": "stream",
     "text": [
      "['1', '2', '3', '4', '5', '6', '7']\n",
      "Please add  options from the list below:\n",
      "1: computer\n",
      "2: monitor\n",
      "3: keyboard\n",
      "4: mouse\n",
      "5: mouse pad\n",
      "6: hdmi cable\n",
      "7: dvd player\n",
      "2\n",
      "Adding 2\n",
      "Your list now contains: ['monitor']\n",
      "3\n",
      "Adding 3\n",
      "Your list now contains: ['monitor', 'keyboard']\n",
      "1\n",
      "Adding 1\n",
      "Your list now contains: ['monitor', 'keyboard', 'computer']\n",
      "5\n",
      "Adding 5\n",
      "Your list now contains: ['monitor', 'keyboard', 'computer', 'mouse pad']\n",
      "6\n",
      "Adding 6\n",
      "Your list now contains: ['monitor', 'keyboard', 'computer', 'mouse pad', 'hdmi cable']\n",
      "7\n",
      "Adding 7\n",
      "Your list now contains: ['monitor', 'keyboard', 'computer', 'mouse pad', 'hdmi cable', 'dvd player']\n",
      "8\n",
      "Please add  options from the list below:\n",
      "1: computer\n",
      "2: monitor\n",
      "3: keyboard\n",
      "4: mouse\n",
      "5: mouse pad\n",
      "6: hdmi cable\n",
      "7: dvd player\n",
      "0\n",
      "['monitor', 'keyboard', 'computer', 'mouse pad', 'hdmi cable', 'dvd player']\n"
     ]
    }
   ],
   "source": [
    "available_parts=[\"computer\", \n",
    "                 \"monitor\", \n",
    "                 \"keyboard\", \n",
    "                 \"mouse\",\n",
    "                 \"mouse pad\",\n",
    "                 \"hdmi cable\",\n",
    "                 \"dvd player\"\n",
    "                ]\n",
    "valid_choices=[]\n",
    "for i in range(1, len(available_parts)+1):\n",
    "    valid_choices.append(str(i))\n",
    "print(valid_choices)\n",
    "current_choice=\"-\"\n",
    "computer_parts=[]\n",
    "\n",
    "while current_choice!='0':\n",
    "    if current_choice in valid_choices:\n",
    "        print(\"Adding {}\".format(current_choice))\n",
    "        index=int(current_choice)-1 # \n",
    "        chosen_part=available_parts[index]\n",
    "        if chosen_part in computer_parts:\n",
    "            print(\"Removing {}\".format(current_choice))\n",
    "            computer_parts.remove(chosen_parts)\n",
    "        else:\n",
    "            computer_parts.append(chosen_part)\n",
    "        print(\"Your list now contains: {0}\".format(computer_parts))\n",
    "    else:\n",
    "        print(\"Please add  options from the list below:\")\n",
    "        for number, part in enumerate(available_parts):\n",
    "            print(\"{0}: {1}\".format(number+1, part))\n",
    "    current_choice=input()\n",
    "print(computer_parts)"
   ]
  },
  {
   "cell_type": "markdown",
   "metadata": {},
   "source": [
    "### `Sorting Lists.`"
   ]
  },
  {
   "cell_type": "code",
   "execution_count": 15,
   "metadata": {},
   "outputs": [],
   "source": [
    "even=[2,4,6,8]\n",
    "odd=[1,3,5,7,9]"
   ]
  },
  {
   "cell_type": "code",
   "execution_count": 16,
   "metadata": {},
   "outputs": [
    {
     "name": "stdout",
     "output_type": "stream",
     "text": [
      "[2, 4, 6, 8, 1, 3, 5, 7, 9]\n"
     ]
    }
   ],
   "source": [
    "# Using extend each item of odd will be added to the even list.\n",
    "even.extend(odd)\n",
    "print(even)"
   ]
  },
  {
   "cell_type": "code",
   "execution_count": 17,
   "metadata": {},
   "outputs": [
    {
     "name": "stdout",
     "output_type": "stream",
     "text": [
      "[2, 4, 6, 8, 1, 3, 5, 7, 9]\n"
     ]
    }
   ],
   "source": [
    "another_even=even\n",
    "print(another_even)"
   ]
  },
  {
   "cell_type": "code",
   "execution_count": 18,
   "metadata": {},
   "outputs": [
    {
     "name": "stdout",
     "output_type": "stream",
     "text": [
      "[1, 2, 3, 4, 5, 6, 7, 8, 9]\n"
     ]
    }
   ],
   "source": [
    "# Sorting the list.\n",
    "even.sort()\n",
    "print(even)"
   ]
  },
  {
   "cell_type": "code",
   "execution_count": 20,
   "metadata": {},
   "outputs": [
    {
     "name": "stdout",
     "output_type": "stream",
     "text": [
      "[9, 8, 7, 6, 5, 4, 3, 2, 1]\n",
      "[9, 8, 7, 6, 5, 4, 3, 2, 1]\n"
     ]
    }
   ],
   "source": [
    "# Sorting list in reverse order.\n",
    "even.sort(reverse=True)\n",
    "print(even)\n",
    "print(another_even)"
   ]
  },
  {
   "cell_type": "code",
   "execution_count": 21,
   "metadata": {},
   "outputs": [],
   "source": [
    "#98."
   ]
  },
  {
   "cell_type": "markdown",
   "metadata": {},
   "source": [
    "### `Built-in Functions.`\n",
    "- https://docs.python.org/3/library/functions.html"
   ]
  },
  {
   "cell_type": "markdown",
   "metadata": {},
   "source": [
    "### `Sorting Things.`\n",
    "- `Sorted` function can be used to sort any iterable object."
   ]
  },
  {
   "cell_type": "code",
   "execution_count": 23,
   "metadata": {},
   "outputs": [
    {
     "name": "stdout",
     "output_type": "stream",
     "text": [
      "[' ', ' ', ' ', ' ', ' ', ' ', ' ', ' ', 'T', 'a', 'b', 'c', 'd', 'e', 'e', 'e', 'f', 'g', 'h', 'h', 'i', 'j', 'k', 'l', 'm', 'n', 'o', 'o', 'o', 'o', 'p', 'q', 'r', 'r', 's', 't', 'u', 'u', 'v', 'w', 'x', 'y', 'z']\n"
     ]
    }
   ],
   "source": [
    "# It sorts from empty spaces, capital letters, and each count of small letters.\n",
    "pangram=\"The quick brown fox jumps over the lazy dog\"\n",
    "letter=sorted(pangram)\n",
    "print(letter)"
   ]
  },
  {
   "cell_type": "code",
   "execution_count": 24,
   "metadata": {},
   "outputs": [
    {
     "name": "stdout",
     "output_type": "stream",
     "text": [
      "[1.6, 2.3, 3.1, 4.5, 8.7]\n"
     ]
    }
   ],
   "source": [
    "# It sorts the numbers in order.\n",
    "numbers=[2.3, 4.5, 8.7, 3.1, 1.6]\n",
    "sorted_numbers=sorted(numbers)\n",
    "print(sorted_numbers)"
   ]
  },
  {
   "cell_type": "code",
   "execution_count": 25,
   "metadata": {},
   "outputs": [
    {
     "name": "stdout",
     "output_type": "stream",
     "text": [
      "[2.3, 4.5, 8.7, 3.1, 1.6]\n"
     ]
    }
   ],
   "source": [
    "print(numbers)"
   ]
  },
  {
   "cell_type": "markdown",
   "metadata": {},
   "source": [
    "### `Case-Insensitive Sorting.`"
   ]
  },
  {
   "cell_type": "code",
   "execution_count": 1,
   "metadata": {},
   "outputs": [],
   "source": [
    "numbers=[2.3, 4.5, 8.7, 3.1, 1.6]\n",
    "numbers.sort()"
   ]
  },
  {
   "cell_type": "code",
   "execution_count": 2,
   "metadata": {},
   "outputs": [
    {
     "data": {
      "text/plain": [
       "[1.6, 2.3, 3.1, 4.5, 8.7]"
      ]
     },
     "execution_count": 2,
     "metadata": {},
     "output_type": "execute_result"
    }
   ],
   "source": [
    "numbers"
   ]
  },
  {
   "cell_type": "code",
   "execution_count": 7,
   "metadata": {},
   "outputs": [
    {
     "name": "stdout",
     "output_type": "stream",
     "text": [
      "[' ', ' ', ' ', ' ', ' ', ' ', ' ', ' ', 'a', 'b', 'c', 'd', 'e', 'e', 'e', 'f', 'g', 'h', 'h', 'i', 'j', 'k', 'l', 'm', 'n', 'o', 'o', 'o', 'o', 'p', 'q', 'r', 'r', 's', 'T', 't', 'u', 'u', 'v', 'w', 'x', 'y', 'z']\n"
     ]
    }
   ],
   "source": [
    "# Casefold converst any 'Capital' letters to small one.\n",
    "# Paranthesis should not be used below while specifying the function since we use using the function inside another(sorted).\n",
    "letters=sorted(\"The quick brown fox jumps over the lazy dog\", key= str.casefold)\n",
    "print(letters)"
   ]
  },
  {
   "cell_type": "code",
   "execution_count": 1,
   "metadata": {},
   "outputs": [
    {
     "name": "stdout",
     "output_type": "stream",
     "text": [
      "['Graham', 'John', 'Terry', 'eric', 'michael', 'terry']\n"
     ]
    }
   ],
   "source": [
    "names=['Graham','John','terry','eric','Terry', 'michael']\n",
    "names.sort()\n",
    "print(names)"
   ]
  },
  {
   "cell_type": "code",
   "execution_count": 2,
   "metadata": {},
   "outputs": [
    {
     "name": "stdout",
     "output_type": "stream",
     "text": [
      "['eric', 'Graham', 'John', 'michael', 'Terry', 'terry']\n"
     ]
    }
   ],
   "source": [
    "names.sort(key=str.casefold)\n",
    "print(names)"
   ]
  },
  {
   "cell_type": "markdown",
   "metadata": {},
   "source": [
    "### `Creating Lists.`"
   ]
  },
  {
   "cell_type": "code",
   "execution_count": 4,
   "metadata": {},
   "outputs": [],
   "source": [
    "# Creating an empty lists.\n",
    "empty_list = []\n",
    "even = [2,4,6,8]\n",
    "odd = [1,3,5,7,9]"
   ]
  },
  {
   "cell_type": "code",
   "execution_count": 5,
   "metadata": {},
   "outputs": [
    {
     "name": "stdout",
     "output_type": "stream",
     "text": [
      "[2, 4, 6, 8, 1, 3, 5, 7, 9]\n"
     ]
    }
   ],
   "source": [
    "# Concatenating Lists.\n",
    "numbers=even + odd\n",
    "print(numbers)"
   ]
  },
  {
   "cell_type": "code",
   "execution_count": 8,
   "metadata": {},
   "outputs": [
    {
     "name": "stdout",
     "output_type": "stream",
     "text": [
      "[1, 2, 3, 4, 5, 6, 7, 8, 9]\n",
      "\n",
      "[2, 4, 6, 8, 1, 3, 5, 7, 9]\n"
     ]
    }
   ],
   "source": [
    "sorted_numbers=sorted(numbers)\n",
    "print(sorted_numbers)\n",
    "print()\n",
    "print(numbers)"
   ]
  },
  {
   "cell_type": "code",
   "execution_count": 9,
   "metadata": {},
   "outputs": [
    {
     "name": "stdout",
     "output_type": "stream",
     "text": [
      "['1', '2', '3', '4', '5', '6', '7', '8', '9']\n"
     ]
    }
   ],
   "source": [
    "# This string sorts the values individually.\n",
    "digits=sorted(\"432985617\")\n",
    "print(digits)"
   ]
  },
  {
   "cell_type": "code",
   "execution_count": 10,
   "metadata": {},
   "outputs": [
    {
     "name": "stdout",
     "output_type": "stream",
     "text": [
      "['4', '3', '2', '9', '8', '5', '6', '1', '7']\n"
     ]
    }
   ],
   "source": [
    "# Using 'list' function we can create a new list but not in a sorted order.\n",
    "digits=list(\"432985617\")\n",
    "print(digits)"
   ]
  },
  {
   "cell_type": "code",
   "execution_count": 11,
   "metadata": {},
   "outputs": [
    {
     "name": "stdout",
     "output_type": "stream",
     "text": [
      "[2, 4, 6, 8, 1, 3, 5, 7, 9]\n"
     ]
    }
   ],
   "source": [
    "# method-1: Creating a list using 'list' function.\n",
    "more_numbers=list(numbers)\n",
    "print(more_numbers)"
   ]
  },
  {
   "cell_type": "code",
   "execution_count": 12,
   "metadata": {},
   "outputs": [
    {
     "name": "stdout",
     "output_type": "stream",
     "text": [
      "False\n"
     ]
    }
   ],
   "source": [
    "print(numbers is more_numbers)"
   ]
  },
  {
   "cell_type": "code",
   "execution_count": 16,
   "metadata": {},
   "outputs": [
    {
     "name": "stdout",
     "output_type": "stream",
     "text": [
      "True\n"
     ]
    }
   ],
   "source": [
    "print(numbers==more_numbers)"
   ]
  },
  {
   "cell_type": "code",
   "execution_count": 14,
   "metadata": {},
   "outputs": [
    {
     "name": "stdout",
     "output_type": "stream",
     "text": [
      "[2, 4, 6, 8, 1, 3, 5, 7, 9]\n"
     ]
    }
   ],
   "source": [
    "# method-2: Creating a list using 'slicing' method.\n",
    "more_numbers=numbers[:]\n",
    "print(more_numbers)"
   ]
  },
  {
   "cell_type": "code",
   "execution_count": 17,
   "metadata": {},
   "outputs": [
    {
     "name": "stdout",
     "output_type": "stream",
     "text": [
      "False\n",
      "True\n"
     ]
    }
   ],
   "source": [
    "print(numbers is more_numbers)\n",
    "print(numbers == more_numbers)"
   ]
  },
  {
   "cell_type": "code",
   "execution_count": 18,
   "metadata": {},
   "outputs": [
    {
     "name": "stdout",
     "output_type": "stream",
     "text": [
      "[2, 4, 6, 8, 1, 3, 5, 7, 9]\n"
     ]
    }
   ],
   "source": [
    "# method-3: Creating a list using 'copy' function.\n",
    "more_numbers=numbers.copy()\n",
    "print(more_numbers)"
   ]
  },
  {
   "cell_type": "code",
   "execution_count": 19,
   "metadata": {},
   "outputs": [
    {
     "name": "stdout",
     "output_type": "stream",
     "text": [
      "False\n",
      "True\n"
     ]
    }
   ],
   "source": [
    "print(numbers is more_numbers)\n",
    "print(numbers == more_numbers)"
   ]
  },
  {
   "cell_type": "markdown",
   "metadata": {},
   "source": [
    "### `Replacing a slice.`"
   ]
  },
  {
   "cell_type": "code",
   "execution_count": 21,
   "metadata": {},
   "outputs": [
    {
     "name": "stdout",
     "output_type": "stream",
     "text": [
      "['computer', 'monitor', 'keyboard', 'mouse', 'mouse pad']\n",
      "['computer', 'monitor', 'keyboard', 'trackball', 'mouse pad']\n"
     ]
    }
   ],
   "source": [
    "# Replacing a particular item of a list.\n",
    "computer_parts=[\"computer\", \n",
    "                 \"monitor\", \n",
    "                 \"keyboard\", \n",
    "                 \"mouse\",\n",
    "                 \"mouse pad\",\n",
    "                ]\n",
    "print(computer_parts)\n",
    "computer_parts[3]='trackball'\n",
    "print(computer_parts)"
   ]
  },
  {
   "cell_type": "code",
   "execution_count": 22,
   "metadata": {},
   "outputs": [
    {
     "name": "stdout",
     "output_type": "stream",
     "text": [
      "['mouse', 'mouse pad']\n",
      "['computer', 'monitor', 'keyboard', 't', 'r', 'a', 'c', 'k', 'b', 'a', 'l', 'l']\n"
     ]
    }
   ],
   "source": [
    "computer_parts=[\"computer\", \n",
    "                 \"monitor\", \n",
    "                 \"keyboard\", \n",
    "                 \"mouse\",\n",
    "                 \"mouse pad\",\n",
    "                ]\n",
    "print(computer_parts[3:])\n",
    "computer_parts[3:]='trackball'\n",
    "print(computer_parts)"
   ]
  },
  {
   "cell_type": "markdown",
   "metadata": {},
   "source": [
    "#### `From above, each of the character in the string 'trackball', have been added to the list individually.`"
   ]
  },
  {
   "cell_type": "markdown",
   "metadata": {},
   "source": [
    "### `Deleting Items from a List.`"
   ]
  },
  {
   "cell_type": "code",
   "execution_count": 32,
   "metadata": {},
   "outputs": [
    {
     "name": "stdout",
     "output_type": "stream",
     "text": [
      "[5, 104, 105, 110, 120, 130, 150, 160, 170, 183, 187, 188, 191, 360]\n"
     ]
    }
   ],
   "source": [
    "data=[4,5,104,105,110,120,130,150,160,170,183,187,188,191,350,360]\n",
    "\n",
    "min_valid=100\n",
    "max_valid=200\n",
    "for index, value in enumerate(data):\n",
    "    if (value < min_valid ) or (value > max_valid):\n",
    "        del data[index]\n",
    "print(data)"
   ]
  },
  {
   "cell_type": "markdown",
   "metadata": {},
   "source": [
    "`From above code the condition is partially worked because only first index position element is being deleted considering the condition simultaneously`."
   ]
  },
  {
   "cell_type": "markdown",
   "metadata": {},
   "source": [
    "### `Safely removing values from a list.`"
   ]
  },
  {
   "cell_type": "code",
   "execution_count": 38,
   "metadata": {},
   "outputs": [
    {
     "name": "stdout",
     "output_type": "stream",
     "text": [
      "2\n",
      "[104, 105, 110, 120, 130, 150, 160, 170, 183, 187, 188, 191, 350, 360]\n"
     ]
    }
   ],
   "source": [
    "# Removing Data from 'Sorted_Lists.'\n",
    "data=[4,5,104,105,110,120,130,150,160,170,183,187,188,191,350,360]\n",
    "\n",
    "min_valid=100\n",
    "max_valid=200\n",
    "\n",
    "# process the low values in the list.\n",
    "stop=0 # Initializing the stop to zero.\n",
    "for index, value in enumerate(data):\n",
    "    if value >=min_valid:\n",
    "        stop=index # Assigning index value to stop variable.\n",
    "        break\n",
    "        \n",
    "print(stop) # For debugging.(Logically not required.)\n",
    "\n",
    "# deleting the data outside the loop.\n",
    "del data[:stop] # Deleting the 'minimum' value using 'slice' from the begining of the list up to but not including 'stop'. \n",
    "print(data)"
   ]
  },
  {
   "cell_type": "markdown",
   "metadata": {},
   "source": [
    "### `Removing the High Values.`"
   ]
  },
  {
   "cell_type": "code",
   "execution_count": 6,
   "metadata": {},
   "outputs": [
    {
     "name": "stdout",
     "output_type": "stream",
     "text": [
      "14\n",
      "[4, 5, 104, 105, 110, 120, 130, 150, 160, 170, 183, 187, 188, 191]\n"
     ]
    }
   ],
   "source": [
    "# Process the high values in the list.\n",
    "data=[4,5,104,105,110,120,130,150,160,170,183,187,188,191,350,360]\n",
    "\n",
    "min_valid=100\n",
    "max_valid=200\n",
    "\n",
    "start =0 # Initializing the start to zero.\n",
    "# Iterating from backwards to zero, since we're removing end elements of the list.\n",
    "# using for loop we need to work at backward. We start with index postion 1 less.\n",
    "# To work backwards we give step value as '-1'\n",
    "# We can't use \"stop\" value as 0 since \"last value in range or slice is not included\". Hence '-1' is specified \n",
    "for index in range(len(data)-1, -1, -1 ):\n",
    "    if data[index]<=max_valid:\n",
    "        # We have the index of the last item to keep.\n",
    "        # Set 'start' to the position of the first item to be deleted which is '1' after 'index'.\n",
    "        start=index + 1 # Giving start value thats equal to position of last index.\n",
    "        break\n",
    "print(start)      \n",
    "del data[start:] # Deleting everything from start value to end.\n",
    "print(data)"
   ]
  },
  {
   "cell_type": "markdown",
   "metadata": {},
   "source": [
    "### `Consolidated Code.`"
   ]
  },
  {
   "cell_type": "code",
   "execution_count": 7,
   "metadata": {},
   "outputs": [
    {
     "name": "stdout",
     "output_type": "stream",
     "text": [
      "12\n",
      "[104, 105, 110, 120, 130, 150, 160, 170, 183, 187, 188, 191]\n"
     ]
    }
   ],
   "source": [
    "data=[4,5,104,105,110,120,130,150,160,170,183,187,188,191,350,360]\n",
    "\n",
    "min_valid=100\n",
    "max_valid=200\n",
    "\n",
    "# process the low values in the list.\n",
    "stop=0 # Initializing the stop to zero.\n",
    "for index, value in enumerate(data):\n",
    "    if value >=min_valid:\n",
    "        stop=index # Assigning index value to stop variable.\n",
    "        break\n",
    "        \n",
    "# deleting the data outside the loop.\n",
    "del data[:stop] # Deleting the slice from the begining of the list up to but not including 'stop'. \n",
    "# print(data)\n",
    "\n",
    "start =0 # Initializing the start to zero.\n",
    "for index in range(len(data)-1, -1, -1 ):\n",
    "    if data[index]<=max_valid:\n",
    "        # We have the index of the last item to keep.\n",
    "        # Set 'start' to the position of the first item to be deleted which is '1' after 'index'.\n",
    "        start=index + 1 # Giving start value thats equal to position of last index.\n",
    "        break\n",
    "print(start)      \n",
    "del data[start:]\n",
    "print(data)"
   ]
  },
  {
   "cell_type": "markdown",
   "metadata": {},
   "source": [
    "### `Removing Items from a List Backwards.`"
   ]
  },
  {
   "cell_type": "code",
   "execution_count": 4,
   "metadata": {},
   "outputs": [
    {
     "name": "stdout",
     "output_type": "stream",
     "text": [
      "9 [104, 101, 4, 105, 308, 103, 5, 107, 100, 306, 102, 108]\n",
      "6 [104, 101, 4, 105, 308, 103, 5, 107, 100, 102, 108]\n",
      "4 [104, 101, 4, 105, 308, 103, 107, 100, 102, 108]\n",
      "2 [104, 101, 4, 105, 103, 107, 100, 102, 108]\n",
      "[104, 101, 105, 103, 107, 100, 102, 108]\n"
     ]
    }
   ],
   "source": [
    "# Method(1).\n",
    "### Removing values from unsorted list.\n",
    "data =[104,101,4,105,308,103,5,\n",
    "      107,100,306,102,108]\n",
    "\n",
    "min_valid=100\n",
    "max_valid=200\n",
    "for index in range(len(data)-1,-1,-1):\n",
    "    \n",
    "    if data[index]< min_valid or data[index] >max_valid:\n",
    "        print(index, data)\n",
    "        del data[index]\n",
    "print(data)"
   ]
  },
  {
   "cell_type": "code",
   "execution_count": 10,
   "metadata": {},
   "outputs": [
    {
     "name": "stdout",
     "output_type": "stream",
     "text": [
      "0 108\n",
      "1 102\n",
      "2 106\n",
      "3 306\n",
      "4 100\n",
      "5 107\n",
      "6 5\n",
      "7 103\n",
      "8 308\n",
      "9 105\n",
      "10 4\n",
      "11 101\n",
      "12 104\n"
     ]
    }
   ],
   "source": [
    "# Method(2). Using 'reversed' function.\n",
    "# This function helps in interating reverse.\n",
    "data =[104,101,4,105,308,103,5,\n",
    "      107,100,306,106,102,108]\n",
    "\n",
    "min_valid=100\n",
    "max_valid=200\n",
    "\n",
    "for index, value in enumerate(reversed(data)):\n",
    "    print(index, value)"
   ]
  },
  {
   "cell_type": "markdown",
   "metadata": {},
   "source": [
    "From above, the values have been reversed but index position is considering from start. To print actual index position."
   ]
  },
  {
   "cell_type": "code",
   "execution_count": 13,
   "metadata": {},
   "outputs": [
    {
     "name": "stdout",
     "output_type": "stream",
     "text": [
      "9 306\n",
      "6 5\n",
      "4 308\n",
      "2 4\n",
      "[104, 101, 105, 103, 107, 100, 106, 102, 108]\n"
     ]
    }
   ],
   "source": [
    "# Method(2). Using 'reversed' function and removing the items from unordered list.\n",
    "# Iterating to get real index postions.\n",
    "data =[104,101,4,105,308,103,5,\n",
    "      107,100,306,106,102,108]\n",
    "\n",
    "min_valid=100\n",
    "max_valid=200\n",
    "\n",
    "top_index=len(data)-1 # creating variable of last index value and -1 Since indexing starts from 0.\n",
    "for index, value in enumerate(reversed(data)):\n",
    "    if value<min_valid or value>max_valid:\n",
    "        print(top_index-index, value)\n",
    "        del data[top_index-index]\n",
    "print(data)"
   ]
  },
  {
   "cell_type": "markdown",
   "metadata": {},
   "source": [
    "### `Algorithms Performance`"
   ]
  },
  {
   "cell_type": "markdown",
   "metadata": {},
   "source": [
    "### `Nested Lists and Code Style.`"
   ]
  },
  {
   "cell_type": "code",
   "execution_count": 22,
   "metadata": {},
   "outputs": [
    {
     "name": "stdout",
     "output_type": "stream",
     "text": [
      "[[2, 4, 6, 8], [1, 3, 5, 7, 9]]\n"
     ]
    }
   ],
   "source": [
    "empty_list = []\n",
    "even = [2,4,6,8]\n",
    "odd = [1,3,5,7,9]\n",
    "\n",
    "# Below prints list inside a list.\n",
    "numbers=[even, odd]\n",
    "print(numbers)"
   ]
  },
  {
   "cell_type": "code",
   "execution_count": 23,
   "metadata": {},
   "outputs": [
    {
     "name": "stdout",
     "output_type": "stream",
     "text": [
      "[2, 4, 6, 8]\n",
      "[1, 3, 5, 7, 9]\n"
     ]
    }
   ],
   "source": [
    "# While iterating it gives both lists.\n",
    "for number_list in numbers:\n",
    "    print(number_list)"
   ]
  },
  {
   "cell_type": "code",
   "execution_count": 24,
   "metadata": {},
   "outputs": [
    {
     "name": "stdout",
     "output_type": "stream",
     "text": [
      "[2, 4, 6, 8]\n",
      "2\n",
      "4\n",
      "6\n",
      "8\n",
      "[1, 3, 5, 7, 9]\n",
      "1\n",
      "3\n",
      "5\n",
      "7\n",
      "9\n"
     ]
    }
   ],
   "source": [
    "for number_list in numbers:\n",
    "    print(number_list)\n",
    "    \n",
    "    for value in number_list:\n",
    "        print(value)"
   ]
  },
  {
   "cell_type": "code",
   "execution_count": 25,
   "metadata": {},
   "outputs": [
    {
     "name": "stdout",
     "output_type": "stream",
     "text": [
      "2\n",
      "4\n",
      "6\n",
      "8\n",
      "1\n",
      "3\n",
      "5\n",
      "7\n",
      "9\n"
     ]
    }
   ],
   "source": [
    "for i in numbers:\n",
    "    for j in i:\n",
    "        print(j)"
   ]
  },
  {
   "cell_type": "markdown",
   "metadata": {},
   "source": [
    "### `Processing Nested Lists.`"
   ]
  },
  {
   "cell_type": "code",
   "execution_count": 4,
   "metadata": {},
   "outputs": [
    {
     "name": "stdout",
     "output_type": "stream",
     "text": [
      "['egg', 'bacon']\n",
      "egg\n",
      "bacon\n",
      "['egg', 'sausage', 'bacon']\n",
      "egg\n",
      "sausage\n",
      "bacon\n",
      "['egg', 'spam'] has a spam score of 1\n",
      "['egg', 'bacon', 'spam'] has a spam score of 1\n",
      "['egg', 'bacon', 'sausage', 'spam'] has a spam score of 1\n",
      "['spam', 'bacon', 'sausage', 'spam'] has a spam score of 2\n",
      "['spam', 'sausage', 'spam', 'bacon', 'spam', 'tomato', 'spam'] has a spam score of 4\n",
      "['spam', 'egg', 'spam', 'spam', 'bacon', 'spam'] has a spam score of 4\n"
     ]
    }
   ],
   "source": [
    "menu=[\n",
    "    ['egg', 'bacon'],\n",
    "    ['egg', 'sausage','bacon'],\n",
    "    ['egg', 'spam'],\n",
    "    ['egg','bacon','spam'],\n",
    "    ['egg','bacon','sausage','spam'],\n",
    "    ['spam','bacon','sausage','spam'],\n",
    "    ['spam','sausage','spam','bacon','spam','tomato','spam'],\n",
    "    ['spam','egg','spam','spam','bacon','spam'],\n",
    "]\n",
    "\n",
    "for meal in menu:\n",
    "    if 'spam' not in meal:\n",
    "        print(meal)\n",
    "        \n",
    "        for item in meal:\n",
    "            print(item)\n",
    "    else:\n",
    "        print('{0} has a spam score of {1}'.format(meal,meal.count('spam')))"
   ]
  },
  {
   "cell_type": "markdown",
   "metadata": {},
   "source": [
    "### `Function Signatures.`\n",
    "- The term `function signature` means the defination of a function which includes the functon's name and the parameters that it defines.\n",
    "- `print`(*objects, sep='',end='\\n', file=___,flush=false)\n",
    "- The `print` defines 4 of these in total.\n",
    "  - `sep`: If we don't provide value to 'sep', it defaults to a space.\n",
    "  - `end`: The 'end' keyword argument defaults to newline character \\n.\n",
    "- This what function signature means, It's name of function and the parameters that it defines."
   ]
  },
  {
   "cell_type": "code",
   "execution_count": 11,
   "metadata": {},
   "outputs": [
    {
     "name": "stdout",
     "output_type": "stream",
     "text": [
      "tim 25 Python 2021\n",
      "\n",
      "tim\n",
      "25\n",
      "Python\n",
      "2021\n"
     ]
    }
   ],
   "source": [
    "# More about print.\n",
    "name ='tim'\n",
    "age=25\n",
    "\n",
    "print(name, age, 'Python', 2021)\n",
    "print()\n",
    "print(name, age, 'Python', 2021, sep=\"\\n\")"
   ]
  },
  {
   "cell_type": "markdown",
   "metadata": {},
   "source": [
    "### `The Join Method.` "
   ]
  },
  {
   "cell_type": "code",
   "execution_count": 19,
   "metadata": {},
   "outputs": [
    {
     "name": "stdout",
     "output_type": "stream",
     "text": [
      "Daffodil, Evening Primrose, Hydrangea, Iris, Lavender, Sunflower, Tiger Lily\n",
      "Daffodil,Evening Primrose,Hydrangea,Iris,Lavender,Sunflower,Tiger Lily\n"
     ]
    }
   ],
   "source": [
    "flowers = [\n",
    "    'Daffodil',\n",
    "    'Evening Primrose',\n",
    "    'Hydrangea',\n",
    "    'Iris',\n",
    "    'Lavender',\n",
    "    'Sunflower',\n",
    "    'Tiger Lily',\n",
    "]\n",
    "# Using 'for' loop.\n",
    "#for flower in flowers:\n",
    "#    print(flower)\n",
    "\n",
    "# Can use .join instead of 'for' loop. \n",
    "# '.join' function iterates over each element of 'flowers' and joins with '|' separator.\n",
    "# 'join' is a method of str class and separator is a string. \n",
    "# All the items of the list must be in 'str' format. \n",
    "separator=', '\n",
    "output=separator.join(flowers)\n",
    "print(output)\n",
    "\n",
    "# Printing without space.\n",
    "print(\",\".join(flowers))"
   ]
  },
  {
   "cell_type": "markdown",
   "metadata": {},
   "source": [
    "Lists Documentation.\n",
    "https://docs.python.org/3/tutorial/datastructures.html"
   ]
  },
  {
   "cell_type": "markdown",
   "metadata": {},
   "source": [
    "### `The Split Method.`\n",
    "- `Split method splits the string into words`."
   ]
  },
  {
   "cell_type": "code",
   "execution_count": 36,
   "metadata": {},
   "outputs": [
    {
     "name": "stdout",
     "output_type": "stream",
     "text": [
      "['The', 'quick', 'brown', 'fox', 'jumps', 'over', 'the', 'lazy', 'dog']\n"
     ]
    }
   ],
   "source": [
    "panagram = \"The quick brown fox jumps over the lazy dog\"\n",
    "\n",
    "words=panagram.split()\n",
    "print(words)"
   ]
  },
  {
   "cell_type": "code",
   "execution_count": 37,
   "metadata": {},
   "outputs": [
    {
     "name": "stdout",
     "output_type": "stream",
     "text": [
      "['The', 'quick', 'brown', 'fox', 'jumps', 'over', 'the', 'lazy', 'dog']\n"
     ]
    }
   ],
   "source": [
    "panagram = \"\"\"The quick brown \n",
    "fox jumps\\tover the lazy dog\"\"\"\n",
    "words=panagram.split()\n",
    "print(words)"
   ]
  },
  {
   "cell_type": "code",
   "execution_count": 38,
   "metadata": {},
   "outputs": [
    {
     "name": "stdout",
     "output_type": "stream",
     "text": [
      "['9', '223', '372', '036', '854', '775', '807']\n"
     ]
    }
   ],
   "source": [
    "numbers='9,223,372,036,854,775,807'\n",
    "print(numbers.split(','))"
   ]
  },
  {
   "cell_type": "code",
   "execution_count": 39,
   "metadata": {},
   "outputs": [
    {
     "name": "stdout",
     "output_type": "stream",
     "text": [
      "9223372036854775807\n"
     ]
    }
   ],
   "source": [
    "generated_list=[\n",
    "    '9','',\n",
    "    '2','2','3','',\n",
    "    '3','7','2','',\n",
    "    '0','3','6','',\n",
    "    '8','5','4','',\n",
    "    '7','7','5','',\n",
    "    '8','0','7']\n",
    "values=\"\".join(generated_list)\n",
    "print(values)"
   ]
  },
  {
   "cell_type": "code",
   "execution_count": 35,
   "metadata": {},
   "outputs": [
    {
     "name": "stdout",
     "output_type": "stream",
     "text": [
      "['9223372036854775807']\n"
     ]
    }
   ],
   "source": [
    "values_list=values.split()\n",
    "print(values_list)"
   ]
  },
  {
   "cell_type": "markdown",
   "metadata": {},
   "source": [
    "# `Tuple.`\n",
    "- A `tuple` is a mathematical name for an ordered set of data.\n",
    "- In python, tuples are another sequence type; along with strings, lists and ranges, that we've already seen.\n",
    "- Tuples are differ from lists because tuples are **`immutable`**. That means they can't be changed after they're created just like stings."
   ]
  },
  {
   "cell_type": "code",
   "execution_count": 44,
   "metadata": {},
   "outputs": [
    {
     "name": "stdout",
     "output_type": "stream",
     "text": [
      "('a', 'b', 'c')\n",
      "('a', 'b', 'c')\n"
     ]
    }
   ],
   "source": [
    "f= 'a','b','c'\n",
    "t= ('a','b','c')\n",
    "\n",
    "print(f)\n",
    "print(t)\n",
    "# Both formats provides same output by considering as tuple."
   ]
  },
  {
   "cell_type": "code",
   "execution_count": 45,
   "metadata": {},
   "outputs": [
    {
     "name": "stdout",
     "output_type": "stream",
     "text": [
      "tim 25 Python 2021\n",
      "('tim', 25, 'Python', 2021)\n"
     ]
    }
   ],
   "source": [
    "# Always close a tuple with parenthesis.\n",
    "name ='tim'\n",
    "age=25\n",
    "\n",
    "print(name, age, 'Python', 2021)\n",
    "print((name, age, 'Python',2021))"
   ]
  },
  {
   "cell_type": "markdown",
   "metadata": {},
   "source": [
    "### `Tuples are Immutable.`"
   ]
  },
  {
   "cell_type": "code",
   "execution_count": 49,
   "metadata": {},
   "outputs": [
    {
     "name": "stdout",
     "output_type": "stream",
     "text": [
      "('Ride the Lightening', 'Metallica', 1984)\n",
      "Ride the Lightening\n",
      "Metallica\n",
      "1984\n"
     ]
    }
   ],
   "source": [
    "welcome = \"Welcome to my Nightmare\", \"Alice Cooper\", 1975\n",
    "bad = \"Bad Company\", \"Bad Company\", 1974\n",
    "budgie = \"Nightflight\", \"Budgie\", 1981\n",
    "imelda = \"More Mayhem\", \"Emilda May\", 2011\n",
    "metallica = \"Ride the Lightening\", \"Metallica\", 1984\n",
    "\n",
    "print(metallica)\n",
    "# Indexing the Tuple which is similar as Lists.\n",
    "# Even though we represent tuple with () braces, but [] are used for indexing.\n",
    "print(metallica[0]) \n",
    "print(metallica[1])\n",
    "print(metallica[2])"
   ]
  },
  {
   "cell_type": "code",
   "execution_count": 54,
   "metadata": {},
   "outputs": [],
   "source": [
    "# Tuples are immutable.\n",
    "# metallica[1]=\"Master of Puppets\"\n",
    "# ERROR: TypeError: 'tuple' object does not support item assignment"
   ]
  },
  {
   "cell_type": "markdown",
   "metadata": {},
   "source": [
    "- Tuples are immutable because they don't have the overhead of the methods needed to change them, tuples **`use less memory than lists`**.\n",
    "- To protect the **`integrity of the data`**.\n",
    "\n",
    "- Using a tuple, for things that shouldn't change, can help to prevent bugs in our programs.\n",
    "- We can always **`unpack`** (in unpacking we extract those values into a single variable) a tuple successfully. "
   ]
  },
  {
   "cell_type": "code",
   "execution_count": 60,
   "metadata": {},
   "outputs": [
    {
     "name": "stdout",
     "output_type": "stream",
     "text": [
      "['Ride the Lightening', 'Metallica', 1984]\n",
      "['Master of Puppets', 'Metallica', 1984]\n"
     ]
    }
   ],
   "source": [
    "# Converting a tuple to a List.  \n",
    "metallica2=list(metallica)\n",
    "print(metallica2)\n",
    "\n",
    "# Changing the values of list. \n",
    "metallica2[0]= \"Master of Puppets\"\n",
    "print(metallica2)"
   ]
  },
  {
   "cell_type": "markdown",
   "metadata": {},
   "source": [
    "### `Unpacking a Tuple`."
   ]
  },
  {
   "cell_type": "code",
   "execution_count": 63,
   "metadata": {},
   "outputs": [
    {
     "name": "stdout",
     "output_type": "stream",
     "text": [
      "12\n"
     ]
    }
   ],
   "source": [
    "a=b=c=d=e=f=12\n",
    "print(c)"
   ]
  },
  {
   "cell_type": "code",
   "execution_count": 67,
   "metadata": {},
   "outputs": [
    {
     "name": "stdout",
     "output_type": "stream",
     "text": [
      "1\n",
      "2\n",
      "76\n"
     ]
    }
   ],
   "source": [
    "x,y,z=1,2,76\n",
    "print(x)\n",
    "print(y)\n",
    "print(z)"
   ]
  },
  {
   "cell_type": "code",
   "execution_count": 72,
   "metadata": {},
   "outputs": [
    {
     "name": "stdout",
     "output_type": "stream",
     "text": [
      "Unpacking a tuple\n",
      "1\n",
      "2\n",
      "76\n"
     ]
    }
   ],
   "source": [
    "print(\"Unpacking a tuple\")\n",
    "data=1, 2, 76\n",
    "x,y,z= data\n",
    "\n",
    "print(x)\n",
    "print(y)\n",
    "print(z)"
   ]
  },
  {
   "cell_type": "code",
   "execution_count": 71,
   "metadata": {},
   "outputs": [
    {
     "name": "stdout",
     "output_type": "stream",
     "text": [
      "Unpacking a list.\n",
      "12\n",
      "13\n",
      "14\n"
     ]
    }
   ],
   "source": [
    "print(\"Unpacking a list.\")\n",
    "\n",
    "data_list = [12,13,14]\n",
    "p,q,r = data_list\n",
    "print(p)\n",
    "print(q)\n",
    "print(r)"
   ]
  },
  {
   "cell_type": "code",
   "execution_count": 73,
   "metadata": {},
   "outputs": [],
   "source": [
    "# 123."
   ]
  },
  {
   "cell_type": "markdown",
   "metadata": {},
   "source": [
    "### `Practical Uses for Unpacking Tuples.`"
   ]
  },
  {
   "cell_type": "code",
   "execution_count": 78,
   "metadata": {},
   "outputs": [
    {
     "name": "stdout",
     "output_type": "stream",
     "text": [
      "(0, 'a')\n",
      "(1, 'b')\n",
      "(2, 'c')\n",
      "(3, 'd')\n",
      "(4, 'e')\n",
      "(5, 'f')\n",
      "(6, 'g')\n",
      "(7, 'h')\n",
      "0\n",
      "a\n"
     ]
    }
   ],
   "source": [
    "#for index, character in enumerate('abcdefgh'):\n",
    "#    print(index, character)\n",
    "\n",
    "for t in enumerate(\"abcdefgh\"):\n",
    "    print(t)\n",
    "# We get 8 tuples with their index values.\n",
    "\n",
    "index, character = (0,'a')\n",
    "print(index)\n",
    "print(character)"
   ]
  },
  {
   "cell_type": "code",
   "execution_count": 79,
   "metadata": {},
   "outputs": [
    {
     "name": "stdout",
     "output_type": "stream",
     "text": [
      "0 a\n",
      "1 b\n",
      "2 c\n",
      "3 d\n",
      "4 e\n",
      "5 f\n",
      "6 g\n",
      "7 h\n"
     ]
    }
   ],
   "source": [
    "for t in enumerate(\"abcdefgh\"):\n",
    "    index, character = t # Unpacking to variables.\n",
    "    print(index, character)"
   ]
  },
  {
   "cell_type": "markdown",
   "metadata": {},
   "source": [
    "### `More Unpacking`."
   ]
  },
  {
   "cell_type": "code",
   "execution_count": 81,
   "metadata": {},
   "outputs": [],
   "source": [
    "welcome = \"Welcome to my Nightmare\", \"Alice Cooper\", 1975\n",
    "bad = \"Bad Company\", \"Bad Company\", 1974\n",
    "budgie = \"Nightflight\", \"Budgie\", 1981\n",
    "imelda = \"More Mayhem\", \"Emilda May\", 2011\n",
    "metallica = \"Ride the Lightening\", \"Metallica\", 1984"
   ]
  },
  {
   "cell_type": "code",
   "execution_count": 82,
   "metadata": {},
   "outputs": [
    {
     "name": "stdout",
     "output_type": "stream",
     "text": [
      "Ride the Lightening\n",
      "Metallica\n",
      "1984\n"
     ]
    }
   ],
   "source": [
    "# Unpacking a tuple to multiple variables.\n",
    "title, artist, year = metallica\n",
    "print(title)\n",
    "print(artist)\n",
    "print(year)"
   ]
  },
  {
   "cell_type": "code",
   "execution_count": 87,
   "metadata": {},
   "outputs": [
    {
     "name": "stdout",
     "output_type": "stream",
     "text": [
      "20000\n"
     ]
    }
   ],
   "source": [
    "# Multiplying 2nd and 3rd index element of a tuple.\n",
    "table = (\"Coffee table\", 200, 100, 75, 34.50)\n",
    "print(table[1] * table[2])"
   ]
  },
  {
   "cell_type": "code",
   "execution_count": 89,
   "metadata": {},
   "outputs": [
    {
     "name": "stdout",
     "output_type": "stream",
     "text": [
      "20000\n"
     ]
    }
   ],
   "source": [
    "# Other way.\n",
    "name, length, width, height, price = table\n",
    "print(length *width)"
   ]
  },
  {
   "cell_type": "markdown",
   "metadata": {},
   "source": [
    "### `Nested Tuples and Lists`."
   ]
  },
  {
   "cell_type": "code",
   "execution_count": 95,
   "metadata": {},
   "outputs": [
    {
     "name": "stdout",
     "output_type": "stream",
     "text": [
      "5\n",
      "Album: Welcome to my Nightmare, Artists: Alice Cooper, Year: 1975\n",
      "Album: Bad Company, Artists: Bad Company, Year: 1974\n",
      "Album: Nightflight, Artists: Budgie, Year: 1981\n",
      "Album: More Mayhem, Artists: Emilda May, Year: 2011\n",
      "Album: Ride the Lightening, Artists: Metallica, Year: 1984\n"
     ]
    }
   ],
   "source": [
    "# Creating a tuple inside a list.\n",
    "# Method:1\n",
    "albums = [(\"Welcome to my Nightmare\", \"Alice Cooper\", 1975),\n",
    "         (\"Bad Company\", \"Bad Company\", 1974),\n",
    "         (\"Nightflight\", \"Budgie\", 1981),\n",
    "         (\"More Mayhem\", \"Emilda May\", 2011),\n",
    "         (\"Ride the Lightening\", \"Metallica\", 1984),\n",
    "          ]\n",
    "print(len(albums))\n",
    "\n",
    "#\n",
    "for album in albums:\n",
    "    print(\"Album: {}, Artists: {}, Year: {}\"\n",
    "         .format(album[0],album[1],album[2]))"
   ]
  },
  {
   "cell_type": "code",
   "execution_count": 98,
   "metadata": {},
   "outputs": [
    {
     "name": "stdout",
     "output_type": "stream",
     "text": [
      "Album: Welcome to my Nightmare, Artists: Alice Cooper, Year: 1975\n",
      "Album: Bad Company, Artists: Bad Company, Year: 1974\n",
      "Album: Nightflight, Artists: Budgie, Year: 1981\n",
      "Album: More Mayhem, Artists: Emilda May, Year: 2011\n",
      "Album: Ride the Lightening, Artists: Metallica, Year: 1984\n"
     ]
    }
   ],
   "source": [
    "### Creating a tuple inside a list.\n",
    "# Method:2\n",
    "albums = [(\"Welcome to my Nightmare\", \"Alice Cooper\", 1975),\n",
    "         (\"Bad Company\", \"Bad Company\", 1974),\n",
    "         (\"Nightflight\", \"Budgie\", 1981),\n",
    "         (\"More Mayhem\", \"Emilda May\", 2011),\n",
    "         (\"Ride the Lightening\", \"Metallica\", 1984),\n",
    "          ]\n",
    "for name, artists, year in albums:\n",
    "    print(\"Album: {}, Artists: {}, Year: {}\"\n",
    "         .format(name,artists,year)) "
   ]
  },
  {
   "cell_type": "code",
   "execution_count": 99,
   "metadata": {},
   "outputs": [
    {
     "name": "stdout",
     "output_type": "stream",
     "text": [
      "Album: Welcome to my Nightmare, Artists: Alice Cooper, Year: 1975\n",
      "Album: Bad Company, Artists: Bad Company, Year: 1974\n",
      "Album: Nightflight, Artists: Budgie, Year: 1981\n",
      "Album: More Mayhem, Artists: Emilda May, Year: 2011\n",
      "Album: Ride the Lightening, Artists: Metallica, Year: 1984\n"
     ]
    }
   ],
   "source": [
    "### Creating a tuple inside a list.\n",
    "# Method:3\n",
    "albums = [(\"Welcome to my Nightmare\", \"Alice Cooper\", 1975),\n",
    "         (\"Bad Company\", \"Bad Company\", 1974),\n",
    "         (\"Nightflight\", \"Budgie\", 1981),\n",
    "         (\"More Mayhem\", \"Emilda May\", 2011),\n",
    "         (\"Ride the Lightening\", \"Metallica\", 1984),\n",
    "          ]\n",
    "\n",
    "for album in albums:\n",
    "    name,artists,year = album\n",
    "    print(\"Album: {}, Artists: {}, Year: {}\"\n",
    "         .format(name,artists,year))"
   ]
  }
 ],
 "metadata": {
  "kernelspec": {
   "display_name": "Python 3 (ipykernel)",
   "language": "python",
   "name": "python3"
  },
  "language_info": {
   "codemirror_mode": {
    "name": "ipython",
    "version": 3
   },
   "file_extension": ".py",
   "mimetype": "text/x-python",
   "name": "python",
   "nbconvert_exporter": "python",
   "pygments_lexer": "ipython3",
   "version": "3.9.7"
  }
 },
 "nbformat": 4,
 "nbformat_minor": 2
}
