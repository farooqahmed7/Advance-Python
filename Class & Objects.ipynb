{
 "cells": [
  {
   "cell_type": "markdown",
   "id": "60a2d559",
   "metadata": {},
   "source": [
    "# `Object Oriented Programming`"
   ]
  },
  {
   "cell_type": "code",
   "execution_count": 1,
   "id": "77fca582",
   "metadata": {},
   "outputs": [],
   "source": [
    "class car:\n",
    "    pass"
   ]
  },
  {
   "cell_type": "code",
   "execution_count": 3,
   "id": "9b8192b6",
   "metadata": {},
   "outputs": [
    {
     "data": {
      "text/plain": [
       "<__main__.car at 0x167d97e0e50>"
      ]
     },
     "execution_count": 3,
     "metadata": {},
     "output_type": "execute_result"
    }
   ],
   "source": [
    "# Creating a new variable for class 'car'\n",
    "bmw =car() \n",
    "bmw"
   ]
  },
  {
   "cell_type": "code",
   "execution_count": 13,
   "id": "e997245e",
   "metadata": {},
   "outputs": [],
   "source": [
    "bmw.mileage = 10\n",
    "bmw.make = 2017\n",
    "bmw.color = 'blue'\n",
    "bmw.model = '890D'"
   ]
  },
  {
   "cell_type": "code",
   "execution_count": 14,
   "id": "38fc506d",
   "metadata": {},
   "outputs": [
    {
     "data": {
      "text/plain": [
       "10"
      ]
     },
     "execution_count": 14,
     "metadata": {},
     "output_type": "execute_result"
    }
   ],
   "source": [
    "bmw.mileage"
   ]
  },
  {
   "cell_type": "code",
   "execution_count": 16,
   "id": "3b726943",
   "metadata": {},
   "outputs": [],
   "source": [
    "nano = car()"
   ]
  },
  {
   "cell_type": "code",
   "execution_count": 18,
   "id": "3c4b27d1",
   "metadata": {},
   "outputs": [],
   "source": [
    "nano.mileage =18\n",
    "nano.make = 2009\n",
    "nano.color = 'red'\n",
    "nano.model = 'N.100'\n",
    "nano.engine_no = 8965893526"
   ]
  },
  {
   "cell_type": "code",
   "execution_count": 20,
   "id": "261f8cfb",
   "metadata": {},
   "outputs": [
    {
     "name": "stdout",
     "output_type": "stream",
     "text": [
      "2009\n",
      "2017\n"
     ]
    }
   ],
   "source": [
    "print(nano.make)\n",
    "print(bmw.make)"
   ]
  },
  {
   "cell_type": "code",
   "execution_count": 22,
   "id": "e4afbbbf",
   "metadata": {},
   "outputs": [
    {
     "name": "stdout",
     "output_type": "stream",
     "text": [
      "The mileage of nano and bmw are 18 and 10\n"
     ]
    }
   ],
   "source": [
    "print('The mileage of nano and bmw are {} and {}'.format(nano.mileage, bmw.mileage))"
   ]
  },
  {
   "cell_type": "markdown",
   "id": "9578da82",
   "metadata": {},
   "source": [
    "- Above here we have not created the body of the class. To avoid the multiple defining of the variables, we can initiate the body of the objects using functions. \n",
    "-  The above method is eventually correct but its bad methodology to follow the OOP's programming.\n",
    "- There is no reusibility of code in the above method."
   ]
  },
  {
   "cell_type": "code",
   "execution_count": 6,
   "id": "3dad3948",
   "metadata": {},
   "outputs": [],
   "source": [
    "class car():\n",
    "    def __init__(self, mileage, make, color, model): # Arguments to __init__ function.\n",
    "        self.mileage = mileage\n",
    "        self.make = make\n",
    "        self.color = color\n",
    "        self.model = model"
   ]
  },
  {
   "cell_type": "markdown",
   "id": "5974ea28",
   "metadata": {},
   "source": [
    " - _ _ _ _init_ _ _ _ is an inbuilt function used for initialization of the data. It is used to pass the data to a classes.\n",
    " - **self**: It is used as pointer for the classes. It's a class variable. Instead of self even we can use any string value.\n",
    " - Inside a single class, infinite number of functions can be framed and can be called as per necessity."
   ]
  },
  {
   "cell_type": "code",
   "execution_count": 25,
   "id": "0cd0acc8",
   "metadata": {},
   "outputs": [],
   "source": [
    "audi = car(18, 2021, 'blue', 'Q7')\n",
    "bmw = car(16, 2020, 'maroon', '370d')"
   ]
  },
  {
   "cell_type": "code",
   "execution_count": 10,
   "id": "98ad1a7c",
   "metadata": {},
   "outputs": [
    {
     "name": "stdout",
     "output_type": "stream",
     "text": [
      "18\n",
      "maroon\n"
     ]
    }
   ],
   "source": [
    "# Accessing the variables.\n",
    "print(audi.mileage)\n",
    "print(bmw.color)"
   ]
  },
  {
   "cell_type": "code",
   "execution_count": 16,
   "id": "9de914c8",
   "metadata": {},
   "outputs": [],
   "source": [
    "# Creating a class with relacing a self variable.\n",
    "class new_car:\n",
    "    def __init__(a, mileage, year, color):\n",
    "        a.mileage = mileage\n",
    "        a.year = year\n",
    "        a.color = color\n",
    "tata = new_car(23, 2021, 'red')\n",
    "honda = new_car(18, 2019, 'black')"
   ]
  },
  {
   "cell_type": "code",
   "execution_count": 55,
   "id": "30bbf095",
   "metadata": {},
   "outputs": [],
   "source": [
    "# In a single class we can create as many number of functions.\n",
    "\n",
    "class car():\n",
    "    def __init__(self, mileage, make, color, model):\n",
    "        self.mileage = mileage\n",
    "        self.make = make\n",
    "        self.color = color\n",
    "        self.model = model\n",
    "\n",
    "# Creating a new function within a class as a requirement. \n",
    "    def age(self, current_year): # To get age of a car.\n",
    "        return current_year - self.make\n",
    "    \n",
    "# Creating a mileage function in addition to existing one.\n",
    "    def mileage_new(self):\n",
    "        print('The mileage of car is {}'.format(self.mileage))\n",
    "# OR    return self.mileage"
   ]
  },
  {
   "cell_type": "code",
   "execution_count": 56,
   "id": "5c92ec8b",
   "metadata": {},
   "outputs": [],
   "source": [
    "audi = car(18, 2021, 'blue', 'Q7')"
   ]
  },
  {
   "cell_type": "code",
   "execution_count": 57,
   "id": "a841aca9",
   "metadata": {},
   "outputs": [
    {
     "data": {
      "text/plain": [
       "<bound method car.age of <__main__.car object at 0x000002A2D56FC4F0>>"
      ]
     },
     "execution_count": 57,
     "metadata": {},
     "output_type": "execute_result"
    }
   ],
   "source": [
    "audi.age\n",
    "# Bound method means particular variable is associated with fucntion of a car class."
   ]
  },
  {
   "cell_type": "code",
   "execution_count": 58,
   "id": "bcd8260e",
   "metadata": {},
   "outputs": [
    {
     "data": {
      "text/plain": [
       "1"
      ]
     },
     "execution_count": 58,
     "metadata": {},
     "output_type": "execute_result"
    }
   ],
   "source": [
    "audi.age(2022)"
   ]
  },
  {
   "cell_type": "code",
   "execution_count": 59,
   "id": "8cfc3bb9",
   "metadata": {},
   "outputs": [
    {
     "name": "stdout",
     "output_type": "stream",
     "text": [
      "The mileage of car is 18\n"
     ]
    }
   ],
   "source": [
    "audi.mileage_new()"
   ]
  },
  {
   "cell_type": "code",
   "execution_count": 66,
   "id": "24f314dd",
   "metadata": {},
   "outputs": [],
   "source": [
    "## \n",
    "class car():\n",
    "    def __init__(self, mileage, make, color, model):\n",
    "        self.mileage = mileage\n",
    "        self.make = make\n",
    "        self.color = color\n",
    "        self.model = model\n",
    "\n",
    "    def age(self, current_year): # To get age of a car.\n",
    "        return current_year - self.make\n",
    "    \n",
    "    def mileage_new(self):\n",
    "        print('The mileage of car is {}'.format(self.mileage))\n",
    "        #return self.mileage\n",
    "\n",
    "# '_ _' is an inbuilt method. It's used if we have to provide some sort of messages or information whenever if someone prints object.       \n",
    "    def __str__(f):\n",
    "        return \"This is my car class I have created.\""
   ]
  },
  {
   "cell_type": "code",
   "execution_count": 67,
   "id": "a6182bc4",
   "metadata": {},
   "outputs": [],
   "source": [
    "audi = car(18, 2021, 'blue', 'Q7')"
   ]
  },
  {
   "cell_type": "code",
   "execution_count": 68,
   "id": "b82a11ca",
   "metadata": {},
   "outputs": [
    {
     "name": "stdout",
     "output_type": "stream",
     "text": [
      "This is my car class I have created.\n"
     ]
    }
   ],
   "source": [
    "print(audi)"
   ]
  },
  {
   "cell_type": "code",
   "execution_count": 113,
   "id": "be79c727",
   "metadata": {},
   "outputs": [],
   "source": [
    "### \n",
    "class member:\n",
    "    def __init__(self, name, age, num, joining_date, domain):\n",
    "        self.name = name\n",
    "        self.age = age\n",
    "        self.num = num\n",
    "        self.joining_date = joining_date\n",
    "        self.domain = domain\n",
    "    \n",
    "    def crt_domain(self):\n",
    "        print(\"Current team is {}\".format(self.domain))\n",
    "        \n",
    "# Creating a function which returns a name when its in list.\n",
    "    def name_parser(self):\n",
    "        if type(self.name) ==list:\n",
    "            for i in self.name:\n",
    "                print(\"Name of the member is {}\".format(i))\n",
    "        else:\n",
    "            print(\"Provided name is not in the form of list.\")\n",
    "        \n",
    "    def str_num(self):\n",
    "        if type(self.num)==str:\n",
    "            print(\"Do nothing.\")\n",
    "        else:\n",
    "            return str(self.num)\n",
    "    def duration(self,current_date):\n",
    "        print(\"Duration of member in this team is {}\".format(current_date - self.joining_date))\n",
    "        \n",
    "    def __str__(self):\n",
    "        return \"This is IT team where they can try to input their own data and can fetch it.\""
   ]
  },
  {
   "cell_type": "code",
   "execution_count": 114,
   "id": "c6585a8b",
   "metadata": {},
   "outputs": [],
   "source": [
    "david = member(\"david\", 28, 7857302570, 2020, 'ML')"
   ]
  },
  {
   "cell_type": "code",
   "execution_count": 115,
   "id": "dfb5aff2",
   "metadata": {},
   "outputs": [
    {
     "name": "stdout",
     "output_type": "stream",
     "text": [
      "Duration of member in this team is 2\n"
     ]
    }
   ],
   "source": [
    "# To fetch any value using the defined function.\n",
    "david.duration(2022)"
   ]
  },
  {
   "cell_type": "code",
   "execution_count": 116,
   "id": "28b9e5dc",
   "metadata": {},
   "outputs": [
    {
     "data": {
      "text/plain": [
       "'7857302570'"
      ]
     },
     "execution_count": 116,
     "metadata": {},
     "output_type": "execute_result"
    }
   ],
   "source": [
    "# To get any value in a string format.\n",
    "david.str_num()"
   ]
  },
  {
   "cell_type": "code",
   "execution_count": 117,
   "id": "58b7b584",
   "metadata": {},
   "outputs": [
    {
     "name": "stdout",
     "output_type": "stream",
     "text": [
      "Current team is ML\n",
      "None\n"
     ]
    }
   ],
   "source": [
    "print(david.crt_domain())"
   ]
  },
  {
   "cell_type": "code",
   "execution_count": 118,
   "id": "10f59c8b",
   "metadata": {},
   "outputs": [],
   "source": [
    "ahmed = member('ahmed', 27, 68965862561, 2018, 'Data Science')"
   ]
  },
  {
   "cell_type": "code",
   "execution_count": 119,
   "id": "be42198b",
   "metadata": {},
   "outputs": [
    {
     "name": "stdout",
     "output_type": "stream",
     "text": [
      "Duration of member in this team is 4\n"
     ]
    }
   ],
   "source": [
    "ahmed.duration(2022)"
   ]
  },
  {
   "cell_type": "code",
   "execution_count": 120,
   "id": "b90affa5",
   "metadata": {},
   "outputs": [
    {
     "data": {
      "text/plain": [
       "'Data Science'"
      ]
     },
     "execution_count": 120,
     "metadata": {},
     "output_type": "execute_result"
    }
   ],
   "source": [
    "ahmed.domain"
   ]
  },
  {
   "cell_type": "code",
   "execution_count": 121,
   "id": "665db495",
   "metadata": {},
   "outputs": [
    {
     "name": "stdout",
     "output_type": "stream",
     "text": [
      "Current team is Data Science\n"
     ]
    }
   ],
   "source": [
    "ahmed.crt_domain()"
   ]
  },
  {
   "cell_type": "code",
   "execution_count": 122,
   "id": "930a30cb",
   "metadata": {},
   "outputs": [],
   "source": [
    "# creating an object using lists of variables.\n",
    "Global = member(['kunal','farooq','ankit', 'mohit'],[38,27,32,33],[758982,789022,745849,2468900],[2010,2018,2016,2020],'NLP')"
   ]
  },
  {
   "cell_type": "code",
   "execution_count": 124,
   "id": "3ec7fd14",
   "metadata": {},
   "outputs": [
    {
     "name": "stdout",
     "output_type": "stream",
     "text": [
      "Name of the member is kunal\n",
      "Name of the member is farooq\n",
      "Name of the member is ankit\n",
      "Name of the member is mohit\n"
     ]
    }
   ],
   "source": [
    "Global.name_parser()"
   ]
  },
  {
   "cell_type": "raw",
   "id": "d610d31b",
   "metadata": {},
   "source": [
    "Simple Tasks on OOPS.\n",
    "1.\n",
    "class as data:\n",
    "create an init method ,inside this create variables such as create a filename, filetype, date, size]\n",
    "create a function to open a file, create a filename, write something, \n",
    "create another function to file read, \n",
    "create a funciton for file appending. \n",
    "\n",
    "2. Implement try and exception handling, implement a logger inside a class using seperate method"
   ]
  },
  {
   "cell_type": "code",
   "execution_count": 125,
   "id": "46148c0b",
   "metadata": {},
   "outputs": [],
   "source": [
    "# 1.\n",
    "class data:\n",
    "    def __init__(self, filename, filetype, date, size):\n",
    "        self.filename = filename\n",
    "        self.filetype = filetype\n",
    "        self.date = date\n",
    "        self.size = size\n",
    "        \n",
    "    def file_open(self):\n",
    "        f =open(self.filename,'w')\n",
    "        f.write(\"This is a sample assignment file for testing.\")\n",
    "        f.close()\n",
    "        \n",
    "    def file_read(self):\n",
    "        f =open(self.filename, 'r')\n",
    "        print(f.read())\n",
    "        f.close()\n",
    "        \n",
    "    def file_append(self):\n",
    "        f =open(self.filename, 'a')\n",
    "        f.write(\"This is sample data to append in the existing file\")\n",
    "        f.close()"
   ]
  },
  {
   "cell_type": "code",
   "execution_count": 126,
   "id": "45e568dc",
   "metadata": {},
   "outputs": [
    {
     "name": "stdout",
     "output_type": "stream",
     "text": [
      "This is a sample assignment file for testing.\n"
     ]
    }
   ],
   "source": [
    "file1 = data('file1', '.json', '20-05-2022', '7kb')\n",
    "file1.file_open()\n",
    "file1.file_read()\n",
    "file1.file_append()"
   ]
  },
  {
   "cell_type": "code",
   "execution_count": 127,
   "id": "6e302d18",
   "metadata": {},
   "outputs": [],
   "source": [
    "# 2. Implementing same using try and except.\n",
    "class data:\n",
    "    def __init__(self, filename, filetype, date, size):\n",
    "        self.filename = filename\n",
    "        self.filetype = filetype\n",
    "        self.date = date\n",
    "        self.size = size\n",
    "        \n",
    "    def file_open(self):\n",
    "        try:\n",
    "            f =open(self.filename,'w')\n",
    "            f.write(\"This is a sample assignment file for testing.\")\n",
    "            f.close()\n",
    "        except Exception as e:\n",
    "            print('File has an error',e)\n",
    "        \n",
    "    def file_read(self):\n",
    "        try:\n",
    "            f =open(self.filename, 'r')\n",
    "            print(f.read())\n",
    "            f.close()\n",
    "        except Exception as e:\n",
    "            print('File has an error',e)       \n",
    "        \n",
    "    def file_append(self):\n",
    "        try:\n",
    "            f =open(self.filename, 'a')\n",
    "            f.write(\"This is sample data to append in the existing file\")\n",
    "            f.close()\n",
    "        except Exception as e:\n",
    "            print('File has an error',e)"
   ]
  },
  {
   "cell_type": "code",
   "execution_count": 128,
   "id": "7526dd52",
   "metadata": {},
   "outputs": [
    {
     "name": "stdout",
     "output_type": "stream",
     "text": [
      "This is a sample assignment file for testing.\n"
     ]
    }
   ],
   "source": [
    "file2 = data('file1', '.json', '20-05-2022', '7kb')\n",
    "file2.file_open()\n",
    "file2.file_read()\n",
    "file2.file_append()"
   ]
  },
  {
   "cell_type": "code",
   "execution_count": 131,
   "id": "16a79495",
   "metadata": {},
   "outputs": [],
   "source": [
    "## 2.\n",
    "import os\n",
    "import logging as lg\n",
    "lg.basicConfig(filename ='OOPS.log', level =lg.INFO)\n",
    "\n",
    "class data:\n",
    "    def __init__(self, filename, filetype, date, size):\n",
    "        self.filename = filename\n",
    "        self.filetype = filetype\n",
    "        self.date = date\n",
    "        self.size = size\n",
    "    \n",
    "    def file_open(self):\n",
    "        lst = listdir()\n",
    "        if self.filename is not os.listdir():\n",
    "            f =open(self.filename, 'w')\n",
    "            f.write(\"This is a test file.\")\n",
    "            lg.info(\"Write the file\")\n",
    "            lg.info(self.filename)\n",
    "            f.close()\n",
    "        else:\n",
    "            print(\"The file already exist.\")\n",
    "    \n",
    "    def file_read(self):\n",
    "        try:\n",
    "            f =open(self.filename, 'r')\n",
    "            for i in f:\n",
    "                print(i)\n",
    "            f.close()\n",
    "        except Exception as e:\n",
    "            print(\"File doesn't exist.\", e)\n",
    "            \n",
    "    def file_append(self):\n",
    "        try:\n",
    "            f =open(self.filename,'a')\n",
    "            f.write(\"This is sample content to append the file\")\n",
    "            lg.info(\"Appended the content to the existing file.\")\n",
    "        except Exception as e:\n",
    "            print(\"There is an error while appending the content to the file\")"
   ]
  },
  {
   "cell_type": "code",
   "execution_count": 132,
   "id": "4d5e8b6f",
   "metadata": {},
   "outputs": [],
   "source": [
    "file3 = data('file1', '.json', '20-05-2022', '7kb')"
   ]
  }
 ],
 "metadata": {
  "kernelspec": {
   "display_name": "Python 3 (ipykernel)",
   "language": "python",
   "name": "python3"
  },
  "language_info": {
   "codemirror_mode": {
    "name": "ipython",
    "version": 3
   },
   "file_extension": ".py",
   "mimetype": "text/x-python",
   "name": "python",
   "nbconvert_exporter": "python",
   "pygments_lexer": "ipython3",
   "version": "3.9.7"
  }
 },
 "nbformat": 4,
 "nbformat_minor": 5
}
