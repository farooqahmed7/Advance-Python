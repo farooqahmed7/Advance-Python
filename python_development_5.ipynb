{
 "cells": [
  {
   "cell_type": "markdown",
   "metadata": {},
   "source": [
    "## `Dictionaries`."
   ]
  },
  {
   "cell_type": "code",
   "execution_count": 2,
   "metadata": {},
   "outputs": [
    {
     "name": "stdout",
     "output_type": "stream",
     "text": [
      "{'orange': 'a  sweet, organge, citrus fruit', 'apple': 'good for making cider', 'lemon': 'a sour, yellow citrus fruit', 'grape': 'a small, sweet fruit growing in bunches', 'lime': 'a sour, green citrus fruit'}\n"
     ]
    }
   ],
   "source": [
    "fruit = {\n",
    "        'orange':\"a  sweet, organge, citrus fruit\",\n",
    "        'apple': \"good for making cider\",\n",
    "        'lemon':\"a sour, yellow citrus fruit\",\n",
    "        'grape':\"a small, sweet fruit growing in bunches\",\n",
    "        'lime':\"a sour, green citrus fruit\"\n",
    "        }\n",
    "print(fruit)"
   ]
  },
  {
   "cell_type": "code",
   "execution_count": 3,
   "metadata": {},
   "outputs": [
    {
     "name": "stdout",
     "output_type": "stream",
     "text": [
      "a sour, yellow citrus fruit\n",
      "\n",
      "\n",
      "good for making cider\n"
     ]
    }
   ],
   "source": [
    "# Retriving elements with thier keys.\n",
    "print(fruit['lemon'])\n",
    "print('\\n')\n",
    "print(fruit['apple'])"
   ]
  },
  {
   "cell_type": "code",
   "execution_count": 4,
   "metadata": {},
   "outputs": [
    {
     "name": "stdout",
     "output_type": "stream",
     "text": [
      "red\n",
      "250\n"
     ]
    }
   ],
   "source": [
    "bike = {\n",
    "    'make':'honda',\n",
    "    'model':'250 dream',\n",
    "    'colour':'red',\n",
    "    'engine_size':'250'\n",
    "}\n",
    "print(bike['colour'])\n",
    "\n",
    "print(bike['engine_size'])"
   ]
  },
  {
   "cell_type": "code",
   "execution_count": 5,
   "metadata": {},
   "outputs": [
    {
     "name": "stdout",
     "output_type": "stream",
     "text": [
      "{'orange': 'a  sweet, organge, citrus fruit', 'apple': 'good for making cider', 'lemon': 'a sour, yellow citrus fruit', 'grape': 'a small, sweet fruit growing in bunches', 'lime': 'a sour, green citrus fruit', 'pear': 'an odd shaped apple'}\n"
     ]
    }
   ],
   "source": [
    "fruit['pear']=\"an odd shaped apple\"\n",
    "print(fruit)"
   ]
  },
  {
   "cell_type": "markdown",
   "metadata": {},
   "source": [
    "#### `When we append a value to same key element('pear') it over writes the pair with new value`.\n"
   ]
  },
  {
   "cell_type": "code",
   "execution_count": 6,
   "metadata": {},
   "outputs": [
    {
     "name": "stdout",
     "output_type": "stream",
     "text": [
      "{'orange': 'a  sweet, organge, citrus fruit', 'apple': 'good for making cider', 'lemon': 'a sour, yellow citrus fruit', 'grape': 'a small, sweet fruit growing in bunches', 'lime': 'a sour, green citrus fruit', 'pear': 'great with tequila'}\n"
     ]
    }
   ],
   "source": [
    "fruit['pear']=\"great with tequila\"\n",
    "print(fruit)"
   ]
  },
  {
   "cell_type": "code",
   "execution_count": 7,
   "metadata": {},
   "outputs": [
    {
     "name": "stdout",
     "output_type": "stream",
     "text": [
      "{'orange': 'a  sweet, organge, citrus fruit', 'apple': 'round and crunchy', 'lemon': 'a sour, yellow citrus fruit', 'grape': 'a small, sweet fruit growing in bunches', 'lime': 'a sour, green citrus fruit'}\n"
     ]
    }
   ],
   "source": [
    "# Adding 'apple' key pair again.\n",
    "fruit = {\n",
    "        'orange':\"a  sweet, organge, citrus fruit\",\n",
    "        'apple': \"good for making cider\",\n",
    "        'lemon':\"a sour, yellow citrus fruit\",\n",
    "        'grape':\"a small, sweet fruit growing in bunches\",\n",
    "        'lime':\"a sour, green citrus fruit\",\n",
    "        'apple':\"round and crunchy\"\n",
    "        }\n",
    "print(fruit)"
   ]
  },
  {
   "cell_type": "markdown",
   "metadata": {},
   "source": [
    "#### `After adding key pair with same 'key' name, the value of the key replaces with new value.`"
   ]
  },
  {
   "cell_type": "markdown",
   "metadata": {},
   "source": [
    "#### `To delete a Key Pair.`"
   ]
  },
  {
   "cell_type": "code",
   "execution_count": 8,
   "metadata": {},
   "outputs": [
    {
     "name": "stdout",
     "output_type": "stream",
     "text": [
      "{'orange': 'a  sweet, organge, citrus fruit', 'apple': 'round and crunchy', 'grape': 'a small, sweet fruit growing in bunches', 'lime': 'a sour, green citrus fruit'}\n"
     ]
    }
   ],
   "source": [
    "del fruit['lemon']\n",
    "print(fruit)"
   ]
  },
  {
   "cell_type": "code",
   "execution_count": 9,
   "metadata": {},
   "outputs": [
    {
     "name": "stdout",
     "output_type": "stream",
     "text": [
      "{'orange': 'a  sweet, organge, citrus fruit', 'apple': 'good for making cider', 'lemon': 'a sour, yellow citrus fruit', 'grape': 'a small, sweet fruit growing in bunches', 'lime': 'a sour, green citrus fruit'}\n"
     ]
    }
   ],
   "source": [
    "fruit = {\n",
    "        'orange':\"a  sweet, organge, citrus fruit\",\n",
    "        'apple': \"good for making cider\",\n",
    "        'lemon':\"a sour, yellow citrus fruit\",\n",
    "        'grape':\"a small, sweet fruit growing in bunches\",\n",
    "        'lime':\"a sour, green citrus fruit\",\n",
    "        }\n",
    "print(fruit)"
   ]
  },
  {
   "cell_type": "code",
   "execution_count": 10,
   "metadata": {},
   "outputs": [
    {
     "name": "stdout",
     "output_type": "stream",
     "text": [
      "Please enter a fruit: orange\n",
      "a  sweet, organge, citrus fruit\n",
      "Please enter a fruit: lime\n",
      "a sour, green citrus fruit\n",
      "Please enter a fruit: pear\n",
      "None\n",
      "Please enter a fruit: grape\n",
      "a small, sweet fruit growing in bunches\n",
      "Please enter a fruit: mango\n",
      "None\n",
      "Please enter a fruit: quit\n"
     ]
    }
   ],
   "source": [
    "while True:\n",
    "    dict_key=input(\"Please enter a fruit: \")\n",
    "    if dict_key=='quit':\n",
    "        break\n",
    "    description = fruit.get(dict_key) # get method retrieves a value from a dictionary.\n",
    "    print(description)"
   ]
  },
  {
   "cell_type": "markdown",
   "metadata": {},
   "source": [
    "#### `Approach1`."
   ]
  },
  {
   "cell_type": "code",
   "execution_count": 2,
   "metadata": {},
   "outputs": [
    {
     "name": "stdout",
     "output_type": "stream",
     "text": [
      "{'orange': 'a  sweet, organge, citrus fruit', 'apple': 'good for making cider', 'lemon': 'a sour, yellow citrus fruit', 'grape': 'a small, sweet fruit growing in bunches', 'lime': 'a sour, green citrus fruit'}\n"
     ]
    }
   ],
   "source": [
    "fruit = {\n",
    "        'orange':\"a  sweet, organge, citrus fruit\",\n",
    "        'apple': \"good for making cider\",\n",
    "        'lemon':\"a sour, yellow citrus fruit\",\n",
    "        'grape':\"a small, sweet fruit growing in bunches\",\n",
    "        'lime':\"a sour, green citrus fruit\",\n",
    "        }\n",
    "print(fruit)"
   ]
  },
  {
   "cell_type": "code",
   "execution_count": 2,
   "metadata": {},
   "outputs": [
    {
     "name": "stdout",
     "output_type": "stream",
     "text": [
      "Please enter a fruit: apple\n",
      "good for making cider\n",
      "Please enter a fruit: orange\n",
      "a  sweet, organge, citrus fruit\n",
      "Please enter a fruit: grape\n",
      "a small, sweet fruit growing in bunches\n",
      "Please enter a fruit: banana\n",
      "we don't have a banana\n",
      "Please enter a fruit: mango\n",
      "we don't have a mango\n",
      "Please enter a fruit: quit\n"
     ]
    }
   ],
   "source": [
    "while True:\n",
    "    dict_key=input(\"Please enter a fruit: \")\n",
    "    if dict_key=='quit':\n",
    "        break\n",
    "    if dict_key in fruit:\n",
    "        description=fruit.get(dict_key)\n",
    "        print(description)\n",
    "    else:\n",
    "        print(\"we don't have a \"+ dict_key)"
   ]
  },
  {
   "cell_type": "markdown",
   "metadata": {},
   "source": [
    "#### `Approach 2.`"
   ]
  },
  {
   "cell_type": "code",
   "execution_count": 1,
   "metadata": {},
   "outputs": [
    {
     "name": "stdout",
     "output_type": "stream",
     "text": [
      "{'orange': 'a  sweet, orange, citrus fruit', 'apple': 'good for making cider', 'lemon': 'a sour, yellow citrus fruit', 'grape': 'a small, sweet fruit growing in bunches', 'lime': 'a sour, green citrus fruit'}\n"
     ]
    }
   ],
   "source": [
    "fruit = {\n",
    "        'orange' : \"a  sweet, orange, citrus fruit\",\n",
    "        'apple' : \"good for making cider\",\n",
    "        'lemon' : \"a sour, yellow citrus fruit\",\n",
    "        'grape' : \"a small, sweet fruit growing in bunches\",\n",
    "        'lime' : \"a sour, green citrus fruit\",\n",
    "        }\n",
    "print(fruit)"
   ]
  },
  {
   "cell_type": "code",
   "execution_count": 8,
   "metadata": {},
   "outputs": [
    {
     "name": "stdout",
     "output_type": "stream",
     "text": [
      "Please enter a fruit: apple\n",
      "good for making cider\n",
      "Please enter a fruit: quit\n"
     ]
    }
   ],
   "source": [
    "### \n",
    "while True:\n",
    "    dict_key = input(\"Please enter a fruit: \")\n",
    "    if dict_key=='quit':\n",
    "        break\n",
    "    description=fruit.get(dict_key, \"We don't have a \"+ dict_key+ \"fruit.\")\n",
    "    print(description)"
   ]
  },
  {
   "cell_type": "markdown",
   "metadata": {},
   "source": [
    "#### `\"We don't have a \"+ dict_key+ \"fruit.\"` is a default value if we don't have it in dictionary."
   ]
  },
  {
   "cell_type": "code",
   "execution_count": 5,
   "metadata": {},
   "outputs": [
    {
     "name": "stdout",
     "output_type": "stream",
     "text": [
      "a  sweet, organge, citrus fruit\n",
      "good for making cider\n",
      "a sour, yellow citrus fruit\n",
      "a small, sweet fruit growing in bunches\n",
      "a sour, green citrus fruit\n"
     ]
    }
   ],
   "source": [
    "# Looping a dictionary.\n",
    "for f in fruit:\n",
    "    print(fruit[f])"
   ]
  },
  {
   "cell_type": "code",
   "execution_count": 8,
   "metadata": {},
   "outputs": [
    {
     "name": "stdout",
     "output_type": "stream",
     "text": [
      "orange is a  sweet, orange, citrus fruit\n",
      "apple is good for making cider\n",
      "lemon is a sour, yellow citrus fruit\n",
      "grape is a small, sweet fruit growing in bunches\n",
      "lime is a sour, green citrus fruit\n",
      "********************************************************************************\n",
      "orange is a  sweet, orange, citrus fruit\n",
      "apple is good for making cider\n",
      "lemon is a sour, yellow citrus fruit\n",
      "grape is a small, sweet fruit growing in bunches\n",
      "lime is a sour, green citrus fruit\n",
      "********************************************************************************\n",
      "orange is a  sweet, orange, citrus fruit\n",
      "apple is good for making cider\n",
      "lemon is a sour, yellow citrus fruit\n",
      "grape is a small, sweet fruit growing in bunches\n",
      "lime is a sour, green citrus fruit\n",
      "********************************************************************************\n",
      "orange is a  sweet, orange, citrus fruit\n",
      "apple is good for making cider\n",
      "lemon is a sour, yellow citrus fruit\n",
      "grape is a small, sweet fruit growing in bunches\n",
      "lime is a sour, green citrus fruit\n",
      "********************************************************************************\n",
      "orange is a  sweet, orange, citrus fruit\n",
      "apple is good for making cider\n",
      "lemon is a sour, yellow citrus fruit\n",
      "grape is a small, sweet fruit growing in bunches\n",
      "lime is a sour, green citrus fruit\n",
      "********************************************************************************\n",
      "orange is a  sweet, orange, citrus fruit\n",
      "apple is good for making cider\n",
      "lemon is a sour, yellow citrus fruit\n",
      "grape is a small, sweet fruit growing in bunches\n",
      "lime is a sour, green citrus fruit\n",
      "********************************************************************************\n",
      "orange is a  sweet, orange, citrus fruit\n",
      "apple is good for making cider\n",
      "lemon is a sour, yellow citrus fruit\n",
      "grape is a small, sweet fruit growing in bunches\n",
      "lime is a sour, green citrus fruit\n",
      "********************************************************************************\n",
      "orange is a  sweet, orange, citrus fruit\n",
      "apple is good for making cider\n",
      "lemon is a sour, yellow citrus fruit\n",
      "grape is a small, sweet fruit growing in bunches\n",
      "lime is a sour, green citrus fruit\n",
      "********************************************************************************\n",
      "orange is a  sweet, orange, citrus fruit\n",
      "apple is good for making cider\n",
      "lemon is a sour, yellow citrus fruit\n",
      "grape is a small, sweet fruit growing in bunches\n",
      "lime is a sour, green citrus fruit\n",
      "********************************************************************************\n",
      "orange is a  sweet, orange, citrus fruit\n",
      "apple is good for making cider\n",
      "lemon is a sour, yellow citrus fruit\n",
      "grape is a small, sweet fruit growing in bunches\n",
      "lime is a sour, green citrus fruit\n",
      "********************************************************************************\n"
     ]
    }
   ],
   "source": [
    "for i in range(10):\n",
    "    for f in fruit:\n",
    "        print(f + \" is \" + fruit[f] )\n",
    "    print(\"**\"*40)"
   ]
  },
  {
   "cell_type": "markdown",
   "metadata": {},
   "source": [
    "#### `Ordering(Sorting) a Dictionary.`"
   ]
  },
  {
   "cell_type": "markdown",
   "metadata": {},
   "source": [
    "#### `Approach 1.`"
   ]
  },
  {
   "cell_type": "code",
   "execution_count": 12,
   "metadata": {},
   "outputs": [
    {
     "name": "stdout",
     "output_type": "stream",
     "text": [
      "apple - good for making cider\n",
      "grape - a small, sweet fruit growing in bunches\n",
      "lemon - a sour, yellow citrus fruit\n",
      "lime - a sour, green citrus fruit\n",
      "orange - a  sweet, orange, citrus fruit\n"
     ]
    }
   ],
   "source": [
    "ordered_keys = list(fruit.keys())\n",
    "ordered_keys.sort()\n",
    "for f in ordered_keys:\n",
    "    print(f+\" - \"+ fruit[f])"
   ]
  },
  {
   "cell_type": "markdown",
   "metadata": {},
   "source": [
    "#### `Approach 2.`"
   ]
  },
  {
   "cell_type": "code",
   "execution_count": 13,
   "metadata": {},
   "outputs": [
    {
     "name": "stdout",
     "output_type": "stream",
     "text": [
      "apple-good for making cider\n",
      "grape-a small, sweet fruit growing in bunches\n",
      "lemon-a sour, yellow citrus fruit\n",
      "lime-a sour, green citrus fruit\n",
      "orange-a  sweet, orange, citrus fruit\n"
     ]
    }
   ],
   "source": [
    "### To make code less complex.\n",
    "ordered_keys = sorted(list(fruit.keys()))\n",
    "for f in ordered_keys:\n",
    "    print(f+ ' - '+fruit[f])"
   ]
  },
  {
   "cell_type": "markdown",
   "metadata": {},
   "source": [
    "#### `Approach 3.`"
   ]
  },
  {
   "cell_type": "code",
   "execution_count": 14,
   "metadata": {},
   "outputs": [
    {
     "name": "stdout",
     "output_type": "stream",
     "text": [
      "apple-good for making cider\n",
      "grape-a small, sweet fruit growing in bunches\n",
      "lemon-a sour, yellow citrus fruit\n",
      "lime-a sour, green citrus fruit\n",
      "orange-a  sweet, orange, citrus fruit\n"
     ]
    }
   ],
   "source": [
    "### \n",
    "for f in sorted(fruit.keys()):\n",
    "    print(f+' - '+fruit[f])"
   ]
  },
  {
   "cell_type": "code",
   "execution_count": 20,
   "metadata": {},
   "outputs": [
    {
     "name": "stdout",
     "output_type": "stream",
     "text": [
      "a  sweet, orange, citrus fruit\n",
      "good for making cider\n",
      "a sour, yellow citrus fruit\n",
      "a small, sweet fruit growing in bunches\n",
      "a sour, green citrus fruit\n",
      "************************************************************\n",
      "a  sweet, orange, citrus fruit\n",
      "good for making cider\n",
      "a sour, yellow citrus fruit\n",
      "a small, sweet fruit growing in bunches\n",
      "a sour, green citrus fruit\n"
     ]
    }
   ],
   "source": [
    "# Always use .keys() for printing dicts.\n",
    "for val in fruit.values():\n",
    "    print(val)\n",
    "print('**'*30)\n",
    "for key in fruit:\n",
    "    print(fruit[key])"
   ]
  },
  {
   "cell_type": "code",
   "execution_count": 21,
   "metadata": {},
   "outputs": [
    {
     "name": "stdout",
     "output_type": "stream",
     "text": [
      "dict_keys(['orange', 'apple', 'lemon', 'grape', 'lime'])\n",
      "\n",
      "dict_values(['a  sweet, orange, citrus fruit', 'good for making cider', 'a sour, yellow citrus fruit', 'a small, sweet fruit growing in bunches', 'a sour, green citrus fruit'])\n"
     ]
    }
   ],
   "source": [
    "print(fruit.keys())\n",
    "print()\n",
    "print(fruit.values())"
   ]
  },
  {
   "cell_type": "code",
   "execution_count": 22,
   "metadata": {},
   "outputs": [
    {
     "name": "stdout",
     "output_type": "stream",
     "text": [
      "dict_keys(['orange', 'apple', 'lemon', 'grape', 'lime'])\n"
     ]
    }
   ],
   "source": [
    "fruit_keys=fruit.keys()\n",
    "print(fruit_keys)"
   ]
  },
  {
   "cell_type": "code",
   "execution_count": 24,
   "metadata": {},
   "outputs": [
    {
     "name": "stdout",
     "output_type": "stream",
     "text": [
      "dict_keys(['orange', 'apple', 'lemon', 'grape', 'lime', 'tomato'])\n"
     ]
    }
   ],
   "source": [
    "fruit['tomato']= \"not nice  with icecream\"\n",
    "print(fruit_keys)"
   ]
  },
  {
   "cell_type": "code",
   "execution_count": 27,
   "metadata": {},
   "outputs": [
    {
     "name": "stdout",
     "output_type": "stream",
     "text": [
      "{'orange': 'a  sweet, orange, citrus fruit', 'apple': 'good for making cider', 'lemon': 'a sour, yellow citrus fruit', 'grape': 'a small, sweet fruit growing in bunches', 'lime': 'a sour, green citrus fruit'}\n",
      "\n",
      "\n",
      "dict_items([('orange', 'a  sweet, orange, citrus fruit'), ('apple', 'good for making cider'), ('lemon', 'a sour, yellow citrus fruit'), ('grape', 'a small, sweet fruit growing in bunches'), ('lime', 'a sour, green citrus fruit')])\n"
     ]
    }
   ],
   "source": [
    "# '.items()' gives in a tuple form.\n",
    "fruit = {\n",
    "        'orange' : \"a  sweet, orange, citrus fruit\",\n",
    "        'apple' : \"good for making cider\",\n",
    "        'lemon' : \"a sour, yellow citrus fruit\",\n",
    "        'grape' : \"a small, sweet fruit growing in bunches\",\n",
    "        'lime' : \"a sour, green citrus fruit\",\n",
    "        }\n",
    "print(fruit)\n",
    "print('\\n')\n",
    "print(fruit.items())"
   ]
  },
  {
   "cell_type": "code",
   "execution_count": 28,
   "metadata": {},
   "outputs": [
    {
     "name": "stdout",
     "output_type": "stream",
     "text": [
      "(('orange', 'a  sweet, orange, citrus fruit'), ('apple', 'good for making cider'), ('lemon', 'a sour, yellow citrus fruit'), ('grape', 'a small, sweet fruit growing in bunches'), ('lime', 'a sour, green citrus fruit'))\n"
     ]
    }
   ],
   "source": [
    "f_tuple =tuple(fruit.items())\n",
    "print(f_tuple)"
   ]
  },
  {
   "cell_type": "code",
   "execution_count": 31,
   "metadata": {},
   "outputs": [
    {
     "name": "stdout",
     "output_type": "stream",
     "text": [
      "orange is a  sweet, orange, citrus fruit\n",
      "apple is good for making cider\n",
      "lemon is a sour, yellow citrus fruit\n",
      "grape is a small, sweet fruit growing in bunches\n",
      "lime is a sour, green citrus fruit\n",
      "\n",
      "\n",
      "{'orange': 'a  sweet, orange, citrus fruit', 'apple': 'good for making cider', 'lemon': 'a sour, yellow citrus fruit', 'grape': 'a small, sweet fruit growing in bunches', 'lime': 'a sour, green citrus fruit'}\n"
     ]
    }
   ],
   "source": [
    "for k in f_tuple:\n",
    "    item, description=k\n",
    "    print(item + \" is \" + description)\n",
    "print('\\n')    \n",
    "\n",
    "# Using 'dict()' fucntion, tuple can be converted back to dictionary form.\n",
    "print(dict(f_tuple))"
   ]
  },
  {
   "cell_type": "code",
   "execution_count": 33,
   "metadata": {},
   "outputs": [
    {
     "name": "stdout",
     "output_type": "stream",
     "text": [
      "a,b,c,d,\n"
     ]
    }
   ],
   "source": [
    "mylist = ['a','b','c','d']\n",
    "newstring =''\n",
    "for c in mylist:\n",
    "    newstring+= c+ \",\"\n",
    "print(newstring)"
   ]
  },
  {
   "cell_type": "code",
   "execution_count": 35,
   "metadata": {},
   "outputs": [
    {
     "name": "stdout",
     "output_type": "stream",
     "text": [
      "a,b,c,d\n"
     ]
    }
   ],
   "source": [
    "mylist = ['a','b','c','d']\n",
    "newstring =''\n",
    "newstring=\",\".join(mylist)\n",
    "print(newstring)"
   ]
  },
  {
   "cell_type": "code",
   "execution_count": 45,
   "metadata": {},
   "outputs": [
    {
     "name": "stdout",
     "output_type": "stream",
     "text": [
      "q, w, e, r, t, y, u, i, o, p, l, k, j, h, g, f, d, s, a, z, x, c, v, b, n, m\n"
     ]
    }
   ],
   "source": [
    "a=\"qwertyuioplkjhgfdsazxcvbnm\"\n",
    "newstring=\" \"\n",
    "newstring=\", \".join(a)\n",
    "print(newstring)"
   ]
  },
  {
   "cell_type": "code",
   "execution_count": 48,
   "metadata": {},
   "outputs": [
    {
     "name": "stdout",
     "output_type": "stream",
     "text": [
      "1 mississippi 2 mississippi 3 mississippi 4 mississippi 5 mississippi 6 mississippi 7 mississippi 8 mississippi 9\n"
     ]
    }
   ],
   "source": [
    "numbers = \"123456789\"\n",
    "newstring=\" mississippi \".join(numbers)\n",
    "print(newstring)"
   ]
  },
  {
   "cell_type": "markdown",
   "metadata": {},
   "source": [
    "#### `Direction Game.`"
   ]
  },
  {
   "cell_type": "code",
   "execution_count": 1,
   "metadata": {},
   "outputs": [],
   "source": [
    "# Dbt.\n",
    "locations={\n",
    "    0:\"You are sitting in front of a computer learning python\",\n",
    "    1:\"You are standing at the end of a road before a small brick building\",\n",
    "    2:\"You are at the top of a hill\",\n",
    "    3:\"You are inside a building, a well house for a small stream\",\n",
    "    4:\"You are in a valley beside a stream\",\n",
    "    5:\"You are in a forest\"\n",
    "}\n",
    "exits = [\n",
    "    {\"Q\":0},\n",
    "    {\"W\":2,\"E\":3,\"N\":5,\"S\":4,\"Q\":0},\n",
    "    {\"N\":5,\"Q\":0},\n",
    "    {\"W\":1,\"Q\":0},\n",
    "    {\"N\":1,\"W\":2,\"Q\":0},\n",
    "    {\"W\":2,\"S\":1,\"Q\":0}\n",
    "]"
   ]
  },
  {
   "cell_type": "markdown",
   "metadata": {},
   "source": [
    "### `More on Dictionaries.`"
   ]
  },
  {
   "cell_type": "code",
   "execution_count": 3,
   "metadata": {},
   "outputs": [
    {
     "name": "stdout",
     "output_type": "stream",
     "text": [
      "{'orange': 'a  sweet, orange, citrus fruit', 'apple': 'good for making cider', 'lemon': 'a sour, yellow citrus fruit', 'grape': 'a small, sweet fruit growing in bunches', 'lime': 'a sour, green citrus fruit'}\n"
     ]
    }
   ],
   "source": [
    "fruit = {\n",
    "        'orange' : \"a  sweet, orange, citrus fruit\",\n",
    "        'apple' : \"good for making cider\",\n",
    "        'lemon' : \"a sour, yellow citrus fruit\",\n",
    "        'grape' : \"a small, sweet fruit growing in bunches\",\n",
    "        'lime' : \"a sour, green citrus fruit\",\n",
    "        }\n",
    "print(fruit)"
   ]
  },
  {
   "cell_type": "code",
   "execution_count": 4,
   "metadata": {},
   "outputs": [
    {
     "name": "stdout",
     "output_type": "stream",
     "text": [
      "{'cabbage': \" every child's favourite\", 'sprouts': 'mmmmm, lovely', 'spinach': 'can I have some more fruit, please'}\n"
     ]
    }
   ],
   "source": [
    "veg = {\n",
    "    \"cabbage\":\" every child's favourite\",\n",
    "    \"sprouts\": \"mmmmm, lovely\",\n",
    "    \"spinach\":\"can I have some more fruit, please\"\n",
    "    }\n",
    "print(veg)"
   ]
  },
  {
   "cell_type": "code",
   "execution_count": 6,
   "metadata": {},
   "outputs": [
    {
     "name": "stdout",
     "output_type": "stream",
     "text": [
      "{'cabbage': \" every child's favourite\", 'sprouts': 'mmmmm, lovely', 'spinach': 'can I have some more fruit, please', 'orange': 'a  sweet, orange, citrus fruit', 'apple': 'good for making cider', 'lemon': 'a sour, yellow citrus fruit', 'grape': 'a small, sweet fruit growing in bunches', 'lime': 'a sour, green citrus fruit'}\n"
     ]
    }
   ],
   "source": [
    "veg.update(fruit)\n",
    "print(veg)"
   ]
  },
  {
   "cell_type": "code",
   "execution_count": 7,
   "metadata": {},
   "outputs": [
    {
     "name": "stdout",
     "output_type": "stream",
     "text": [
      "{'orange': 'a  sweet, orange, citrus fruit', 'apple': 'good for making cider', 'lemon': 'a sour, yellow citrus fruit', 'grape': 'a small, sweet fruit growing in bunches', 'lime': 'a sour, green citrus fruit', 'cabbage': \" every child's favourite\", 'sprouts': 'mmmmm, lovely', 'spinach': 'can I have some more fruit, please'}\n"
     ]
    }
   ],
   "source": [
    "fruit.update(veg)\n",
    "print(fruit)"
   ]
  },
  {
   "cell_type": "code",
   "execution_count": 8,
   "metadata": {},
   "outputs": [
    {
     "name": "stdout",
     "output_type": "stream",
     "text": [
      "{'orange': 'a  sweet, orange, citrus fruit', 'apple': 'good for making cider', 'lemon': 'a sour, yellow citrus fruit', 'grape': 'a small, sweet fruit growing in bunches', 'lime': 'a sour, green citrus fruit', 'cabbage': \" every child's favourite\", 'sprouts': 'mmmmm, lovely', 'spinach': 'can I have some more fruit, please'}\n"
     ]
    }
   ],
   "source": [
    "nasty = fruit.copy()\n",
    "nasty.update(veg)\n",
    "print(nasty)"
   ]
  },
  {
   "cell_type": "markdown",
   "metadata": {},
   "source": [
    "## `Sets.`"
   ]
  },
  {
   "cell_type": "markdown",
   "metadata": {},
   "source": [
    "Different ways of creating sets."
   ]
  },
  {
   "cell_type": "code",
   "execution_count": 19,
   "metadata": {},
   "outputs": [
    {
     "name": "stdout",
     "output_type": "stream",
     "text": [
      "{'cow', 'sheep', 'goat'}\n",
      "\n",
      "cow\n",
      "sheep\n",
      "goat\n"
     ]
    }
   ],
   "source": [
    "# Approach1.\n",
    "farm_animals={'sheep','cow','goat'}\n",
    "print(farm_animals)\n",
    "print()\n",
    "\n",
    "for farm in farm_animals:\n",
    "    print(farm)"
   ]
  },
  {
   "cell_type": "code",
   "execution_count": 20,
   "metadata": {},
   "outputs": [
    {
     "name": "stdout",
     "output_type": "stream",
     "text": [
      "{'panther', 'tiger', 'elephant', 'lion', 'hare'}\n",
      "\n",
      "panther\n",
      "tiger\n",
      "elephant\n",
      "lion\n",
      "hare\n"
     ]
    }
   ],
   "source": [
    "# Approach2.\n",
    "# Passing a liost into a set funtion gives same result.\n",
    "wild_animals = set(['lion','tiger','elephant','panther','hare'])\n",
    "print(wild_animals)\n",
    "print()\n",
    "for animal in wild_animals:\n",
    "    print(animal)"
   ]
  },
  {
   "cell_type": "code",
   "execution_count": 22,
   "metadata": {},
   "outputs": [
    {
     "name": "stdout",
     "output_type": "stream",
     "text": [
      "{'horse', 'cow', 'sheep', 'goat'}\n",
      "{'panther', 'tiger', 'elephant', 'lion', 'horse', 'hare'}\n"
     ]
    }
   ],
   "source": [
    "farm_animals.add('horse')\n",
    "wild_animals.add('horse')\n",
    "print(farm_animals)\n",
    "print(wild_animals)"
   ]
  },
  {
   "cell_type": "code",
   "execution_count": 3,
   "metadata": {},
   "outputs": [
    {
     "name": "stdout",
     "output_type": "stream",
     "text": [
      "{'a'}\n"
     ]
    }
   ],
   "source": [
    "empty_set=set()\n",
    "empty_set_2={}\n",
    "\n",
    "empty_set.add('a')\n",
    "print(empty_set)"
   ]
  },
  {
   "cell_type": "code",
   "execution_count": 8,
   "metadata": {},
   "outputs": [
    {
     "name": "stdout",
     "output_type": "stream",
     "text": [
      "{0, 32, 2, 34, 4, 36, 6, 38, 8, 10, 12, 14, 16, 18, 20, 22, 24, 26, 28, 30}\n",
      "20\n"
     ]
    }
   ],
   "source": [
    "even=set(range(0,40,2))\n",
    "print(even)\n",
    "print(len(even))"
   ]
  },
  {
   "cell_type": "markdown",
   "metadata": {},
   "source": [
    "#### Tuple can be used to generate a set."
   ]
  },
  {
   "cell_type": "code",
   "execution_count": 7,
   "metadata": {},
   "outputs": [
    {
     "name": "stdout",
     "output_type": "stream",
     "text": [
      "{4, 6, 9, 16, 25}\n",
      "5\n"
     ]
    }
   ],
   "source": [
    "squares_tuple = (4,6,9,16,25)\n",
    "squares=set(squares_tuple)\n",
    "print(squares)\n",
    "print(len(squares))"
   ]
  },
  {
   "cell_type": "markdown",
   "metadata": {},
   "source": [
    "#### `Union of Sets.`"
   ]
  },
  {
   "cell_type": "code",
   "execution_count": 14,
   "metadata": {},
   "outputs": [
    {
     "name": "stdout",
     "output_type": "stream",
     "text": [
      "{0, 2, 4, 6, 8, 9, 10, 12, 14, 16, 18, 20, 22, 24, 25, 26, 28, 30, 32, 34, 36, 38}\n",
      "22\n",
      "\n",
      "{0, 2, 4, 6, 8, 9, 10, 12, 14, 16, 18, 20, 22, 24, 25, 26, 28, 30, 32, 34, 36, 38}\n"
     ]
    }
   ],
   "source": [
    "print(even.union(squares))\n",
    "print(len(even.union(squares)))\n",
    "print()\n",
    "print(squares.union(even))"
   ]
  },
  {
   "cell_type": "markdown",
   "metadata": {},
   "source": [
    "#### `Intersection of Sets.`"
   ]
  },
  {
   "cell_type": "code",
   "execution_count": 13,
   "metadata": {},
   "outputs": [
    {
     "name": "stdout",
     "output_type": "stream",
     "text": [
      "{16, 4, 6}\n",
      "{16, 4, 6}\n"
     ]
    }
   ],
   "source": [
    "print(even.intersection(squares))\n",
    "print(squares.intersection(even))"
   ]
  },
  {
   "cell_type": "code",
   "execution_count": 18,
   "metadata": {},
   "outputs": [
    {
     "name": "stdout",
     "output_type": "stream",
     "text": [
      "[0, 2, 4, 6, 8, 10, 12, 14, 16, 18, 20, 22, 24, 26, 28, 30, 32, 34, 36, 38]\n"
     ]
    }
   ],
   "source": [
    "even=set(range(0,40,2))\n",
    "print(sorted(even))"
   ]
  },
  {
   "cell_type": "code",
   "execution_count": 20,
   "metadata": {},
   "outputs": [
    {
     "name": "stdout",
     "output_type": "stream",
     "text": [
      "[4, 6, 9, 16, 25]\n"
     ]
    }
   ],
   "source": [
    "squares_tuple = (4,6,9,16,25)\n",
    "squares=set(squares_tuple)\n",
    "print(sorted(squares))"
   ]
  },
  {
   "cell_type": "code",
   "execution_count": 24,
   "metadata": {},
   "outputs": [
    {
     "name": "stdout",
     "output_type": "stream",
     "text": [
      "even minus squares\n",
      "[0, 2, 8, 10, 12, 14, 18, 20, 22, 24, 26, 28, 30, 32, 34, 36, 38]\n",
      "[0, 2, 8, 10, 12, 14, 18, 20, 22, 24, 26, 28, 30, 32, 34, 36, 38]\n"
     ]
    }
   ],
   "source": [
    "print(\"even minus squares\")\n",
    "print(sorted(even.difference(squares)))\n",
    "print(sorted(even-squares))"
   ]
  },
  {
   "cell_type": "code",
   "execution_count": 23,
   "metadata": {},
   "outputs": [
    {
     "name": "stdout",
     "output_type": "stream",
     "text": [
      "squares minus even\n",
      "{9, 25}\n",
      "{9, 25}\n"
     ]
    }
   ],
   "source": [
    "print(\"squares minus even\")\n",
    "print(squares.difference(even))\n",
    "print(squares-even)"
   ]
  }
 ],
 "metadata": {
  "kernelspec": {
   "display_name": "Python 3 (ipykernel)",
   "language": "python",
   "name": "python3"
  },
  "language_info": {
   "codemirror_mode": {
    "name": "ipython",
    "version": 3
   },
   "file_extension": ".py",
   "mimetype": "text/x-python",
   "name": "python",
   "nbconvert_exporter": "python",
   "pygments_lexer": "ipython3",
   "version": "3.9.7"
  }
 },
 "nbformat": 4,
 "nbformat_minor": 2
}
