{
 "cells": [
  {
   "cell_type": "markdown",
   "metadata": {},
   "source": [
    "# `Functions`."
   ]
  },
  {
   "cell_type": "code",
   "execution_count": 2,
   "metadata": {},
   "outputs": [
    {
     "name": "stdout",
     "output_type": "stream",
     "text": [
      "42.0\n"
     ]
    }
   ],
   "source": [
    "### \n",
    "# Its starts with python keywoard 'def' followed by name of function.\n",
    "def multiply():\n",
    "    result = 10.5*4\n",
    "    return result # Whats needed to be returned.\n",
    "\n",
    "\n",
    "answer = multiply()\n",
    "print(answer)"
   ]
  },
  {
   "cell_type": "code",
   "execution_count": 3,
   "metadata": {},
   "outputs": [
    {
     "data": {
      "text/plain": [
       "42.0"
      ]
     },
     "execution_count": 3,
     "metadata": {},
     "output_type": "execute_result"
    }
   ],
   "source": [
    "multiply()"
   ]
  },
  {
   "cell_type": "markdown",
   "metadata": {},
   "source": [
    "### `Parameters and arguments`.\n",
    "- **`parameters`** are placeholders for the real values that we'll pass to our function. They're just like variables but they're given a value when we call the function. They're also referred as `formal parameters.`\n",
    "- **`Arguments`** are the values that will be used by `formal parameters`, when we call a function.\n",
    "- Each parameter must be given a value, by providing an `argument` in the function call.\n",
    "- Providing values as arguments is called **`passing`** the arguments.\n",
    "- If a function defines two parameters, we pass two arguments to it when we call it."
   ]
  },
  {
   "cell_type": "code",
   "execution_count": 5,
   "metadata": {},
   "outputs": [
    {
     "name": "stdout",
     "output_type": "stream",
     "text": [
      "42.0\n"
     ]
    }
   ],
   "source": [
    "### \n",
    "def multiply(x ,y): # x, y are two parameters.\n",
    "    result = x * y\n",
    "    return result\n",
    "\n",
    "# Since there are two parameters passed in function, \n",
    "# we need to pass 2 arguments only while calling it as below.\n",
    "\n",
    "answer = multiply(10.5,4)\n",
    "print(answer)"
   ]
  },
  {
   "cell_type": "code",
   "execution_count": 6,
   "metadata": {},
   "outputs": [
    {
     "name": "stdout",
     "output_type": "stream",
     "text": [
      "42\n",
      "\n",
      "2\n",
      "4\n",
      "6\n",
      "8\n"
     ]
    }
   ],
   "source": [
    "forty_two = multiply(6,7)\n",
    "print(forty_two)\n",
    "print()\n",
    "\n",
    "for val in range(1,5):\n",
    "    two_times = multiply(2, val)\n",
    "    print(two_times)"
   ]
  },
  {
   "cell_type": "markdown",
   "metadata": {},
   "source": [
    "### `Palindromes`.\n",
    "- A palindrome is a word that reads the same backwards as forwards.\n",
    "- Palindromes are normally created for fun.\n",
    "- One of the application is in genetics. Work on DNA sequencing generates vast quantities of data, but standard compression algorithms don't compress DNA sequences well- they often end up larger, after compression."
   ]
  },
  {
   "cell_type": "code",
   "execution_count": 1,
   "metadata": {},
   "outputs": [],
   "source": [
    "# Function to detect if something is a palindrome or not.\n",
    "def palindrome(string):\n",
    "    backwards = string[::-1] # This slice reverses the original string.\n",
    "    return backwards==string # We check if reversed string is same as original.\n",
    "# or\n",
    "\n",
    "def is_palindrome(string):\n",
    "    return string[::-1]==string"
   ]
  },
  {
   "cell_type": "code",
   "execution_count": 5,
   "metadata": {},
   "outputs": [
    {
     "name": "stdout",
     "output_type": "stream",
     "text": [
      "Please enter a word to test:Radar\n",
      "'Radar' is not a palindrome\n"
     ]
    }
   ],
   "source": [
    "word = input(\"Please enter a word to test:\")\n",
    "if is_palindrome(word):\n",
    "    print(\"'{}' is a palindrome\".format(word))\n",
    "else:\n",
    "    print(\"'{}' is not a palindrome\".format(word))"
   ]
  },
  {
   "cell_type": "markdown",
   "metadata": {},
   "source": [
    "### `Palindrome Challenge.`\n",
    "- To make a minor change in the code so that the function recognises Camel Case letters in a Palindrome."
   ]
  },
  {
   "cell_type": "code",
   "execution_count": 11,
   "metadata": {},
   "outputs": [
    {
     "name": "stdout",
     "output_type": "stream",
     "text": [
      "Please enter a word to test:madam\n",
      "'madam' is a palindrome\n"
     ]
    }
   ],
   "source": [
    "def is_palindrome(string):\n",
    "    return string[::-1].casefold()==string.casefold()\n",
    "\n",
    "word = input(\"Please enter a word to test:\")\n",
    "if is_palindrome(word):\n",
    "    print(\"'{}' is a palindrome\".format(word))\n",
    "else:\n",
    "    print(\"'{}' is not a palindrome\".format(word))"
   ]
  },
  {
   "cell_type": "markdown",
   "metadata": {},
   "source": [
    "### `Palindrome Sentance Challenge.`\n",
    "- Function to check whether a sentance is a palindrome or Not."
   ]
  },
  {
   "cell_type": "code",
   "execution_count": 6,
   "metadata": {},
   "outputs": [],
   "source": [
    "# Some examples of palindrome sentances are:\n",
    "## Was it a car, or a cat, I saw?\n",
    "## Do geese see god?\n",
    "## Dense not far, Rafton sensed."
   ]
  },
  {
   "cell_type": "markdown",
   "metadata": {},
   "source": [
    "https://docs.python.org/2.5/lib/string-methods.html"
   ]
  },
  {
   "cell_type": "code",
   "execution_count": 3,
   "metadata": {},
   "outputs": [
    {
     "name": "stdout",
     "output_type": "stream",
     "text": [
      "Please enter a sentance to check: Dense not far, Rafton sensed\n",
      "'Dense not far, Rafton sensed' is not a palindrome\n"
     ]
    }
   ],
   "source": [
    "def palindrome_sentance(sentance):\n",
    "    string= \"\" \n",
    "    for char in sentance:\n",
    "        if char.isalnum(): # If a character is a alphanumeric charater then it returns True,\n",
    "            string+=char # Adds that particular character to string.\n",
    "        \n",
    "    return string[::-1].casefold()==string.casefold()\n",
    "\n",
    "word =input(\"Please enter a sentance to check: \")\n",
    "if palindrome_sentance(word):\n",
    "    print(\"'{}' is a palindrome\".format(word))\n",
    "else:\n",
    "    print(\"'{}' is not a palindrome\".format(word))    "
   ]
  },
  {
   "cell_type": "code",
   "execution_count": 5,
   "metadata": {},
   "outputs": [
    {
     "data": {
      "text/plain": [
       "True"
      ]
     },
     "execution_count": 5,
     "metadata": {},
     "output_type": "execute_result"
    }
   ],
   "source": [
    "palindrome_sentance('Do geese see god')"
   ]
  },
  {
   "cell_type": "markdown",
   "metadata": {},
   "source": [
    "### `Functions calling functions.`"
   ]
  },
  {
   "cell_type": "code",
   "execution_count": 12,
   "metadata": {},
   "outputs": [
    {
     "name": "stdout",
     "output_type": "stream",
     "text": [
      "Please enter a sentance to check: Do geese see god\n",
      "Dogeeseseegod\n",
      "'Do geese see god' is a palindrome\n"
     ]
    }
   ],
   "source": [
    "def palindrome_sentance(sentance):\n",
    "    string= \"\" \n",
    "    for char in sentance:\n",
    "        if char.isalnum():\n",
    "            string +=char\n",
    "    print(string)\n",
    "        \n",
    "    return is_palindrome(string) \n",
    "\n",
    "word =input(\"Please enter a sentance to check: \")\n",
    "if palindrome_sentance(word):\n",
    "    print(\"'{}' is a palindrome\".format(word))\n",
    "else:\n",
    "    print(\"'{}' is not a palindrome\".format(word))"
   ]
  },
  {
   "cell_type": "code",
   "execution_count": null,
   "metadata": {},
   "outputs": [],
   "source": []
  },
  {
   "cell_type": "markdown",
   "metadata": {},
   "source": [
    "### `Returning Values.`"
   ]
  },
  {
   "cell_type": "code",
   "execution_count": 1,
   "metadata": {},
   "outputs": [],
   "source": [
    "# Using guessing game. \n",
    "import random\n",
    "\n",
    "def get_integer(prompt):\n",
    "    while True:\n",
    "        temp =input(prompt)\n",
    "        if temp.isnumeric:\n",
    "            return int(temp)\n",
    "        else :\n",
    "            print(\"{0} is not a valid number\".format(temp))       "
   ]
  },
  {
   "cell_type": "markdown",
   "metadata": {},
   "source": [
    "### `Returning None.`"
   ]
  },
  {
   "cell_type": "code",
   "execution_count": 25,
   "metadata": {},
   "outputs": [
    {
     "name": "stdout",
     "output_type": "stream",
     "text": [
      "None\n"
     ]
    }
   ],
   "source": [
    "def multiply(x, y):\n",
    "    result = x*y\n",
    "    #return result\n",
    "\n",
    "\n",
    "def is_palindrome(string):\n",
    "    return string[::-1].casefold()==string[::-1].casefold()\n",
    "\n",
    "def palindrome_sentance(sentance):\n",
    "    string=\"\"\n",
    "    for char in sentance:\n",
    "        if char.isalnum():\n",
    "            string+=char\n",
    "    print(string)\n",
    "    return is_palindrome(string)\n",
    "answer = multiply(18,3)\n",
    "print(answer)"
   ]
  },
  {
   "cell_type": "code",
   "execution_count": 26,
   "metadata": {},
   "outputs": [
    {
     "name": "stdout",
     "output_type": "stream",
     "text": [
      "None\n"
     ]
    }
   ],
   "source": [
    "answer = multiply(18,3)\n",
    "print(answer)"
   ]
  },
  {
   "cell_type": "markdown",
   "metadata": {},
   "source": [
    "- If return statement is commented out, it returns as **None**."
   ]
  },
  {
   "cell_type": "code",
   "execution_count": 11,
   "metadata": {},
   "outputs": [],
   "source": [
    "def fibonacci(n):\n",
    "    \"\"\"Return the 'n'th Fibonacci number, for positive 'n'.\"\"\"\n",
    "    if 0<=n<=1:\n",
    "        return n\n",
    "    n_minus1, n_minus2 = 1,0\n",
    "    \n",
    "    result=None\n",
    "    for f in range(n-1):\n",
    "        result = n_minus2+n_minus1\n",
    "        n_minus2=n_minus1=result\n",
    "        #n_minus1=result\n",
    "    return result"
   ]
  },
  {
   "cell_type": "code",
   "execution_count": 12,
   "metadata": {},
   "outputs": [
    {
     "name": "stdout",
     "output_type": "stream",
     "text": [
      "0 0\n",
      "1 1\n",
      "2 1\n",
      "3 2\n",
      "4 4\n",
      "5 8\n",
      "6 16\n",
      "7 32\n",
      "8 64\n",
      "9 128\n",
      "10 256\n",
      "11 512\n",
      "12 1024\n",
      "13 2048\n",
      "14 4096\n",
      "15 8192\n",
      "16 16384\n",
      "17 32768\n",
      "18 65536\n",
      "19 131072\n",
      "20 262144\n",
      "21 524288\n",
      "22 1048576\n",
      "23 2097152\n",
      "24 4194304\n",
      "25 8388608\n",
      "26 16777216\n",
      "27 33554432\n",
      "28 67108864\n",
      "29 134217728\n",
      "30 268435456\n",
      "31 536870912\n",
      "32 1073741824\n",
      "33 2147483648\n",
      "34 4294967296\n",
      "35 8589934592\n"
     ]
    }
   ],
   "source": [
    "for i in range(36):\n",
    "    print(i, fibonacci(i))"
   ]
  }
 ],
 "metadata": {
  "kernelspec": {
   "display_name": "Python 3 (ipykernel)",
   "language": "python",
   "name": "python3"
  },
  "language_info": {
   "codemirror_mode": {
    "name": "ipython",
    "version": 3
   },
   "file_extension": ".py",
   "mimetype": "text/x-python",
   "name": "python",
   "nbconvert_exporter": "python",
   "pygments_lexer": "ipython3",
   "version": "3.9.7"
  }
 },
 "nbformat": 4,
 "nbformat_minor": 2
}
