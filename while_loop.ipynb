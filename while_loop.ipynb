{
 "cells": [
  {
   "cell_type": "markdown",
   "id": "7d50b300",
   "metadata": {},
   "source": [
    "## `While Loop.`"
   ]
  },
  {
   "cell_type": "code",
   "execution_count": 3,
   "id": "22bfb8f2",
   "metadata": {},
   "outputs": [
    {
     "name": "stdout",
     "output_type": "stream",
     "text": [
      "This is my requirement\n"
     ]
    }
   ],
   "source": [
    "a=10\n",
    "b=20\n",
    "\n",
    "if a==10 and b==20:\n",
    "    print(\"This is my requirement\")"
   ]
  },
  {
   "cell_type": "code",
   "execution_count": 1,
   "id": "f04026c9",
   "metadata": {},
   "outputs": [
    {
     "name": "stdout",
     "output_type": "stream",
     "text": [
      "Condition is not valid\n"
     ]
    }
   ],
   "source": [
    "a= 10\n",
    "b= 20\n",
    "if a==10 and b>20:\n",
    "    print(\"This is a valid statement\")\n",
    "elif a==10 and b<20:\n",
    "    print(\"This statement is valid inside elif\")\n",
    "else:\n",
    "    print(\"Condition is not valid\")"
   ]
  },
  {
   "cell_type": "raw",
   "id": "a718af1c",
   "metadata": {},
   "source": [
    "task :\n",
    "Take an input from system as first name and last name and then try to validate by writing multiple conditions.\n"
   ]
  },
  {
   "cell_type": "code",
   "execution_count": 4,
   "id": "2e23d202",
   "metadata": {},
   "outputs": [
    {
     "name": "stdout",
     "output_type": "stream",
     "text": [
      "Please enter your first name:data\n",
      "Please enter your last name:science\n",
      "It's data science\n"
     ]
    }
   ],
   "source": [
    "f_name = str(input(\"Please enter your first name:\"))\n",
    "l_name = str(input(\"Please enter your last name:\"))\n",
    "if f_name == 'data' and l_name== 'science':\n",
    "        #print(\"It's data science\")\n",
    "        print(\"It's {0} {1}\".format(f_name,l_name))\n",
    "elif f_name=='machine'and l_name=='learning':\n",
    "    print(\"It's machine learning\")\n",
    "elif f_name =='deep' and l_name =='learning':\n",
    "    print(\"It's deep learning\")\n",
    "elif f_name =='artificial'and l_name =='intelligence':\n",
    "    print(\"Its artificial intelligence\")\n",
    "else:\n",
    "    print(\"It's unknown group\")"
   ]
  },
  {
   "cell_type": "markdown",
   "id": "45604e4c",
   "metadata": {},
   "source": [
    "- **`while statement`**: To perform a repetative task or set of statements for a certain period of time or to reach and fulfill certain requirements."
   ]
  },
  {
   "cell_type": "code",
   "execution_count": 12,
   "id": "51d5e6bb",
   "metadata": {},
   "outputs": [
    {
     "name": "stdout",
     "output_type": "stream",
     "text": [
      "This is the level.\n",
      "This is the level.\n",
      "This is the level.\n",
      "This is the level.\n",
      "This is the level.\n",
      "This is the level.\n",
      "This is the level.\n",
      "This is the level.\n",
      "This is the level.\n"
     ]
    }
   ],
   "source": [
    "# Infinite Loop.\n",
    "initial_level = 0\n",
    "final_level =100\n",
    "count =1\n",
    "\n",
    "while initial_level< final_level: # Condition till this the loop program should run.\n",
    "    print(\"This is the level.\")\n",
    "    count = count+1 # Number of times it should run and execute\n",
    "    if count==10: # Its condition to terminate our function.\n",
    "        break # From here it stops execution."
   ]
  },
  {
   "cell_type": "code",
   "execution_count": 13,
   "id": "6bd5762b",
   "metadata": {},
   "outputs": [
    {
     "name": "stdout",
     "output_type": "stream",
     "text": [
      "1\n",
      "2\n",
      "3\n",
      "4\n"
     ]
    }
   ],
   "source": [
    "i =1\n",
    "j=5\n",
    "while i<j:\n",
    "    print(i)\n",
    "    i=i+1"
   ]
  },
  {
   "cell_type": "code",
   "execution_count": 16,
   "id": "11c5c535",
   "metadata": {},
   "outputs": [
    {
     "name": "stdout",
     "output_type": "stream",
     "text": [
      "1\n",
      "2\n",
      "3\n",
      "4\n",
      "No. 10 is not available\n"
     ]
    }
   ],
   "source": [
    "# While Else Statement.\n",
    "note = 5\n",
    "i=1\n",
    "while i<note:\n",
    "    print(i)\n",
    "    i=i+1\n",
    "# ORi+=1\n",
    "else:\n",
    "    print(\"No. 10 is not available\")"
   ]
  },
  {
   "cell_type": "code",
   "execution_count": 19,
   "id": "4738cfd0",
   "metadata": {},
   "outputs": [
    {
     "name": "stdout",
     "output_type": "stream",
     "text": [
      "1\n",
      "3\n",
      "5\n",
      "7\n",
      "9\n",
      "11\n",
      "No.10 is available\n"
     ]
    }
   ],
   "source": [
    "note =10\n",
    "i=1\n",
    "j=1\n",
    "while i<note:\n",
    "    print(i)\n",
    "    i+=2\n",
    "else:\n",
    "    while j<2:\n",
    "        print(i)\n",
    "        j= j+1\n",
    "        print(\"No.10 is available\")"
   ]
  },
  {
   "cell_type": "code",
   "execution_count": 23,
   "id": "8ba2c064",
   "metadata": {},
   "outputs": [
    {
     "data": {
      "text/plain": [
       "2377929214320"
      ]
     },
     "execution_count": 23,
     "metadata": {},
     "output_type": "execute_result"
    }
   ],
   "source": [
    "f ='science'\n",
    "id(f)"
   ]
  },
  {
   "cell_type": "code",
   "execution_count": 26,
   "id": "26c90f3d",
   "metadata": {},
   "outputs": [
    {
     "name": "stdout",
     "output_type": "stream",
     "text": [
      "m\n",
      "y\n",
      " \n",
      "n\n",
      "a\n",
      "m\n",
      "e\n",
      " \n",
      "i\n",
      "s\n",
      " \n",
      "f\n",
      "a\n",
      "r\n",
      "o\n",
      "o\n",
      "q\n",
      " \n",
      "s\n",
      "i\n",
      "d\n",
      "d\n",
      "i\n",
      "q\n",
      "u\n",
      "e\n"
     ]
    }
   ],
   "source": [
    "s = 'my name is farooq siddique'\n",
    "for i in s:\n",
    "    print(i)"
   ]
  },
  {
   "cell_type": "code",
   "execution_count": 29,
   "id": "ade069d5",
   "metadata": {},
   "outputs": [
    {
     "name": "stdout",
     "output_type": "stream",
     "text": [
      "m\n",
      "y\n",
      " \n",
      "n\n",
      "a\n",
      "m\n",
      "e\n",
      " \n",
      "i\n",
      "s\n",
      " \n",
      "f\n",
      "a\n",
      "r\n",
      "  I got the letter\n",
      "o\n",
      "  I got the letter\n",
      "o\n",
      "q\n",
      " \n",
      "s\n",
      "i\n",
      "d\n",
      "d\n",
      "i\n",
      "q\n",
      "u\n",
      "e\n"
     ]
    }
   ],
   "source": [
    "for i in s:\n",
    "    if i=='o':\n",
    "        print('  I got the letter')\n",
    "    print(i)"
   ]
  }
 ],
 "metadata": {
  "kernelspec": {
   "display_name": "Python 3 (ipykernel)",
   "language": "python",
   "name": "python3"
  },
  "language_info": {
   "codemirror_mode": {
    "name": "ipython",
    "version": 3
   },
   "file_extension": ".py",
   "mimetype": "text/x-python",
   "name": "python",
   "nbconvert_exporter": "python",
   "pygments_lexer": "ipython3",
   "version": "3.9.7"
  }
 },
 "nbformat": 4,
 "nbformat_minor": 5
}
