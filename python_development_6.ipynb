{
 "cells": [
  {
   "cell_type": "markdown",
   "metadata": {},
   "source": [
    "### `Reading and Writing Text Files.`"
   ]
  },
  {
   "cell_type": "code",
   "execution_count": 2,
   "metadata": {},
   "outputs": [],
   "source": [
    "# Opens the text file.\n",
    "file =open('sample.txt')"
   ]
  },
  {
   "cell_type": "code",
   "execution_count": 3,
   "metadata": {},
   "outputs": [
    {
     "name": "stdout",
     "output_type": "stream",
     "text": [
      "'Twas brillig, and the slithy toves\n",
      "\n",
      "Did gyre and gimble in the wabe;\n",
      "\n",
      "All mimsy were the borogoves,\n",
      "\n",
      "And the mome raths outgrabe.\n",
      "\n",
      "\n",
      "\n",
      "\"Beware the Jabberwock, my son!\n",
      "\n",
      "The jaws that bite, the claws that catch!\n",
      "\n",
      "Beware the Jubjub bird, and shun\n",
      "\n",
      "The frumious Bandersnatch!\"\n",
      "\n",
      "\n",
      "\n",
      "He took his vorpal sword in hand:\n",
      "\n",
      "Long time the manxome foe he sought,\n",
      "\n",
      "So rested he by the Tumtum tree,\n",
      "\n",
      "And stood a while in thought.\n",
      "\n",
      "\n",
      "\n",
      "And, as in uffish thought he stood,\n",
      "\n",
      "The Jabberwock, with eyes of flame,\n",
      "\n",
      "Came whiffling through the tulgey wood,\n",
      "\n",
      "And burbled as it came!\n",
      "\n",
      "\n",
      "\n",
      "One two! One two! And through and through\n",
      "\n",
      "The vorpal blade went snicker-snack!\n",
      "\n",
      "He left it dead, and with its head\n",
      "\n",
      "He went galumphing back.\n",
      "\n",
      "\n",
      "\n",
      "\"And hast thou slain the Jabberwock?\n",
      "\n",
      "Come to my arms, my beamish boy!\"\n",
      "\n",
      "\"Oh frabjous day! Callooh! Callay!\"\n",
      "\n",
      "He chortled in his joy.\n",
      "\n",
      "\n",
      "\n",
      "'Twas brillig, and the slithy toves\n",
      "\n",
      "Did gyre and gimble in the wabe:\n",
      "\n",
      "All mimsy were the borogoves,\n",
      "\n",
      "And the mome raths outgrabe.\n",
      "\n",
      "\n",
      "\n"
     ]
    }
   ],
   "source": [
    "# Printing each line.\n",
    "for line in file:\n",
    "    print(line)"
   ]
  },
  {
   "cell_type": "code",
   "execution_count": 4,
   "metadata": {},
   "outputs": [],
   "source": [
    "# To close the file.\n",
    "file.close()"
   ]
  },
  {
   "cell_type": "code",
   "execution_count": 5,
   "metadata": {
    "scrolled": true
   },
   "outputs": [
    {
     "name": "stdout",
     "output_type": "stream",
     "text": [
      "'Twas brillig, and the slithy toves\n",
      "\n",
      "Did gyre and gimble in the wabe;\n",
      "\n",
      "All mimsy were the borogoves,\n",
      "\n",
      "And the mome raths outgrabe.\n",
      "\n",
      "\n",
      "\n",
      "\"Beware the Jabberwock, my son!\n",
      "\n",
      "The jaws that bite, the claws that catch!\n",
      "\n",
      "Beware the Jubjub bird, and shun\n",
      "\n",
      "The frumious Bandersnatch!\"\n",
      "\n",
      "\n",
      "\n",
      "He took his vorpal sword in hand:\n",
      "\n",
      "Long time the manxome foe he sought,\n",
      "\n",
      "So rested he by the Tumtum tree,\n",
      "\n",
      "And stood a while in thought.\n",
      "\n",
      "\n",
      "\n",
      "And, as in uffish thought he stood,\n",
      "\n",
      "The Jabberwock, with eyes of flame,\n",
      "\n",
      "Came whiffling through the tulgey wood,\n",
      "\n",
      "And burbled as it came!\n",
      "\n",
      "\n",
      "\n",
      "One two! One two! And through and through\n",
      "\n",
      "The vorpal blade went snicker-snack!\n",
      "\n",
      "He left it dead, and with its head\n",
      "\n",
      "He went galumphing back.\n",
      "\n",
      "\n",
      "\n",
      "\"And hast thou slain the Jabberwock?\n",
      "\n",
      "Come to my arms, my beamish boy!\"\n",
      "\n",
      "\"Oh frabjous day! Callooh! Callay!\"\n",
      "\n",
      "He chortled in his joy.\n",
      "\n",
      "\n",
      "\n",
      "'Twas brillig, and the slithy toves\n",
      "\n",
      "Did gyre and gimble in the wabe:\n",
      "\n",
      "All mimsy were the borogoves,\n",
      "\n",
      "And the mome raths outgrabe.\n",
      "\n",
      "\n",
      "\n"
     ]
    }
   ],
   "source": [
    "# 'r' indicates to read only.\n",
    "file =open('sample.txt', 'r')\n",
    "# Printing each line.\n",
    "for line in file:\n",
    "    print(line)"
   ]
  },
  {
   "cell_type": "code",
   "execution_count": 6,
   "metadata": {},
   "outputs": [],
   "source": [
    "file.close()"
   ]
  },
  {
   "cell_type": "code",
   "execution_count": 7,
   "metadata": {},
   "outputs": [
    {
     "name": "stdout",
     "output_type": "stream",
     "text": [
      "\"Beware the Jabberwock, my son!\n",
      "The Jabberwock, with eyes of flame,\n",
      "\"And hast thou slain the Jabberwock?\n"
     ]
    }
   ],
   "source": [
    "# Search for particular words in text. prints for lines qwhich has word 'jabberwock'.\n",
    "file = open('sample.txt','r')\n",
    "for line in file:\n",
    "    if 'jabberwock' in line.lower():\n",
    "        print(line,end='')"
   ]
  },
  {
   "cell_type": "markdown",
   "metadata": {},
   "source": [
    "#### Opening a file using `with` function."
   ]
  },
  {
   "cell_type": "code",
   "execution_count": 8,
   "metadata": {},
   "outputs": [
    {
     "name": "stdout",
     "output_type": "stream",
     "text": [
      "\"Beware the Jabberwock, my son!\n",
      "The Jabberwock, with eyes of flame,\n",
      "\"And hast thou slain the Jabberwock?\n"
     ]
    }
   ],
   "source": [
    "### \n",
    "with open('sample.txt','r') as jabber:\n",
    "    for line in jabber:\n",
    "        if 'JAB' in line.upper():\n",
    "            print(line, end='')"
   ]
  },
  {
   "cell_type": "code",
   "execution_count": 9,
   "metadata": {
    "scrolled": true
   },
   "outputs": [
    {
     "name": "stdout",
     "output_type": "stream",
     "text": [
      "'Twas brillig, and the slithy toves\n",
      "Did gyre and gimble in the wabe;\n",
      "All mimsy were the borogoves,\n",
      "And the mome raths outgrabe.\n",
      "\n",
      "\"Beware the Jabberwock, my son!\n",
      "The jaws that bite, the claws that catch!\n",
      "Beware the Jubjub bird, and shun\n",
      "The frumious Bandersnatch!\"\n",
      "\n",
      "He took his vorpal sword in hand:\n",
      "Long time the manxome foe he sought,\n",
      "So rested he by the Tumtum tree,\n",
      "And stood a while in thought.\n",
      "\n",
      "And, as in uffish thought he stood,\n",
      "The Jabberwock, with eyes of flame,\n",
      "Came whiffling through the tulgey wood,\n",
      "And burbled as it came!\n",
      "\n",
      "One two! One two! And through and through\n",
      "The vorpal blade went snicker-snack!\n",
      "He left it dead, and with its head\n",
      "He went galumphing back.\n",
      "\n",
      "\"And hast thou slain the Jabberwock?\n",
      "Come to my arms, my beamish boy!\"\n",
      "\"Oh frabjous day! Callooh! Callay!\"\n",
      "He chortled in his joy.\n",
      "\n",
      "'Twas brillig, and the slithy toves\n",
      "Did gyre and gimble in the wabe:\n",
      "All mimsy were the borogoves,\n",
      "And the mome raths outgrabe.\n",
      "\n"
     ]
    }
   ],
   "source": [
    "# Other method to read file using while loop.\n",
    "with open('sample.txt','r') as jabber:\n",
    "    line=jabber.readline()\n",
    "    while line:\n",
    "        print(line, end='')\n",
    "        line=jabber.readline()"
   ]
  },
  {
   "cell_type": "markdown",
   "metadata": {},
   "source": [
    "### `Writing Text Files.`"
   ]
  },
  {
   "cell_type": "code",
   "execution_count": 11,
   "metadata": {},
   "outputs": [],
   "source": [
    "cities =['Adelaide','Alice Springs','Darwin','Melbourne','Sydney']\n",
    "\n",
    "with open('cities.txt','w') as city_file:\n",
    "    for city in cities:\n",
    "        print(city,file=city_file)"
   ]
  },
  {
   "cell_type": "markdown",
   "metadata": {},
   "source": [
    "- A new `'cities.txt'` will be created in PWD."
   ]
  },
  {
   "cell_type": "markdown",
   "metadata": {},
   "source": [
    "#### To read the same txt file which created earlier."
   ]
  },
  {
   "cell_type": "code",
   "execution_count": 12,
   "metadata": {},
   "outputs": [
    {
     "name": "stdout",
     "output_type": "stream",
     "text": [
      "['Adelaide\\n', 'Alice Springs\\n', 'Darwin\\n', 'Melbourne\\n', 'Sydney\\n']\n",
      "Adelaide\n",
      "\n",
      "Alice Springs\n",
      "\n",
      "Darwin\n",
      "\n",
      "Melbourne\n",
      "\n",
      "Sydney\n",
      "\n"
     ]
    }
   ],
   "source": [
    "cities =[]\n",
    "with open('cities.txt','r') as city_file:\n",
    "    for city in city_file:\n",
    "        cities.append(city)\n",
    "print(cities)\n",
    "for city in cities:\n",
    "    print(city)"
   ]
  },
  {
   "cell_type": "code",
   "execution_count": 13,
   "metadata": {},
   "outputs": [
    {
     "name": "stdout",
     "output_type": "stream",
     "text": [
      "['Adelaide', 'Alice Springs', 'Darwin', 'Melbourne', 'Sydney']\n",
      "Adelaide\n",
      "Alice Springs\n",
      "Darwin\n",
      "Melbourne\n",
      "Sydney\n"
     ]
    }
   ],
   "source": [
    "cities =[]\n",
    "with open('cities.txt','r') as city_file:\n",
    "    for city in city_file:\n",
    "        cities.append(city.strip('\\n')) # To remove '\\n' from the text file.\n",
    "print(cities)\n",
    "for city in cities:\n",
    "    print(city)"
   ]
  },
  {
   "cell_type": "code",
   "execution_count": 15,
   "metadata": {},
   "outputs": [
    {
     "name": "stdout",
     "output_type": "stream",
     "text": [
      "delaide\n",
      "Adelai\n"
     ]
    }
   ],
   "source": [
    "print(\"Adelaide\".strip('A'))\n",
    "print(\"Adelaide\".strip('del'))"
   ]
  },
  {
   "cell_type": "code",
   "execution_count": 19,
   "metadata": {},
   "outputs": [],
   "source": [
    "imelda=\"More Mayhem\",\"Imelda MAy\",\"2011\",(1, \"Pulling the Rug\"),(2, \"Psycho\"),(3,\"Mayhem\"),(4, \"Kentish Town Waltz\")\n",
    "\n",
    "with open('imelda.txt','w') as imelda_file:\n",
    "    print(imelda, file=imelda_file)\n",
    "        "
   ]
  },
  {
   "cell_type": "raw",
   "metadata": {},
   "source": [
    "with open('imelda.txt','r') as imelda_file:\n",
    "    contents= imelda_file.readline()\n",
    "imelda =eval(contents) # Evaluates the python expression.\n",
    "\n",
    "print(imelda)\n",
    "title, artist, year,tracks =imelda\n",
    "print(title)\n",
    "print(artist)\n",
    "print(year)"
   ]
  },
  {
   "cell_type": "markdown",
   "metadata": {},
   "source": [
    "### `Appending the Files and Challenge.`"
   ]
  },
  {
   "cell_type": "markdown",
   "metadata": {},
   "source": [
    "Write a program to append the times tables to our sample.txt file. We want the tables from 2 to 12."
   ]
  },
  {
   "cell_type": "code",
   "execution_count": 4,
   "metadata": {},
   "outputs": [],
   "source": [
    "with open('sample.txt', 'a') as tables:\n",
    "    for i in range(2,13):\n",
    "        for j in range(1,13):\n",
    "            print(\"{1:>2} times {0} is {2}\".format(i,j,i*j), file=tables)\n",
    "        print(\"-\"*20, file=tables)\n",
    "    "
   ]
  }
 ],
 "metadata": {
  "kernelspec": {
   "display_name": "Python 3 (ipykernel)",
   "language": "python",
   "name": "python3"
  },
  "language_info": {
   "codemirror_mode": {
    "name": "ipython",
    "version": 3
   },
   "file_extension": ".py",
   "mimetype": "text/x-python",
   "name": "python",
   "nbconvert_exporter": "python",
   "pygments_lexer": "ipython3",
   "version": "3.9.7"
  }
 },
 "nbformat": 4,
 "nbformat_minor": 2
}
