{
 "cells": [
  {
   "cell_type": "markdown",
   "metadata": {},
   "source": [
    "- "
   ]
  },
  {
   "cell_type": "code",
   "execution_count": 1,
   "metadata": {},
   "outputs": [
    {
     "name": "stdout",
     "output_type": "stream",
     "text": [
      "Hello, World!\n"
     ]
    }
   ],
   "source": [
    "# The first python program.\n",
    "# print 'Hello World!'\n",
    "print('Hello, World!')"
   ]
  },
  {
   "cell_type": "code",
   "execution_count": 2,
   "metadata": {},
   "outputs": [],
   "source": [
    "# print is a function. \n",
    "# To call a function in python we provides the things we needed to print inside the parenthesis "
   ]
  },
  {
   "cell_type": "code",
   "execution_count": 3,
   "metadata": {},
   "outputs": [
    {
     "name": "stdout",
     "output_type": "stream",
     "text": [
      "3\n",
      "42\n",
      "\n",
      "The end or is it Keep practicing \n"
     ]
    }
   ],
   "source": [
    "# Some more Examples on 'print'\n",
    "print(1+2)\n",
    "print(7*6)\n",
    "print()\n",
    "\n",
    "# can add multuiple strings\n",
    "print(\"The end\", \"or is it\", \"Keep practicing \")"
   ]
  },
  {
   "cell_type": "code",
   "execution_count": 4,
   "metadata": {},
   "outputs": [
    {
     "name": "stdout",
     "output_type": "stream",
     "text": [
      "15\n",
      "9\n",
      "36\n",
      "4.0\n",
      "4\n",
      "0\n",
      "\n"
     ]
    }
   ],
   "source": [
    "# Expressions.\n",
    "\n",
    "a=12\n",
    "b=3\n",
    "print(a+b)\n",
    "print(a-b)\n",
    "print(a*b)\n",
    "print(a/b)\n",
    "print(a//b) # Integer division, rounded down towards minus infinity\n",
    "print(a%b)  # Remainder operator \n",
    "\n",
    "print()"
   ]
  },
  {
   "cell_type": "code",
   "execution_count": 5,
   "metadata": {},
   "outputs": [
    {
     "name": "stdout",
     "output_type": "stream",
     "text": [
      "1\n",
      "2\n",
      "3\n"
     ]
    }
   ],
   "source": [
    "i=1\n",
    "print(i)\n",
    "i=2\n",
    "print(i)\n",
    "i=3\n",
    "print(i)"
   ]
  },
  {
   "cell_type": "code",
   "execution_count": 6,
   "metadata": {},
   "outputs": [
    {
     "name": "stdout",
     "output_type": "stream",
     "text": [
      "1\n",
      "2\n",
      "3\n"
     ]
    }
   ],
   "source": [
    "# Instead of above operations we have range function to print continously.\n",
    "# range function. From given below we have range of nos from 1 to 3\n",
    "for i in range(1,4):\n",
    "    print(i)"
   ]
  },
  {
   "cell_type": "code",
   "execution_count": 7,
   "metadata": {},
   "outputs": [
    {
     "name": "stdout",
     "output_type": "stream",
     "text": [
      "1\n",
      "2\n",
      "3\n"
     ]
    }
   ],
   "source": [
    "for i in range(1, a//b):\n",
    "    print(i)"
   ]
  },
  {
   "cell_type": "code",
   "execution_count": 8,
   "metadata": {},
   "outputs": [
    {
     "name": "stdout",
     "output_type": "stream",
     "text": [
      "-35.0\n"
     ]
    }
   ],
   "source": [
    "print(a+b/3-4*12)"
   ]
  },
  {
   "cell_type": "markdown",
   "metadata": {},
   "source": [
    "#### `Escape Characters`."
   ]
  },
  {
   "cell_type": "code",
   "execution_count": 9,
   "metadata": {},
   "outputs": [
    {
     "name": "stdout",
     "output_type": "stream",
     "text": [
      "This string has been \n",
      "split over\n",
      "several\n",
      " lines\n"
     ]
    }
   ],
   "source": [
    "splitString = \"This string has been \\nsplit over\\nseveral\\n lines\"\n",
    "print(splitString )"
   ]
  },
  {
   "cell_type": "code",
   "execution_count": 10,
   "metadata": {},
   "outputs": [
    {
     "name": "stdout",
     "output_type": "stream",
     "text": [
      "1\t2\t3\t4\t5\n"
     ]
    }
   ],
   "source": [
    "tabbedstring = \"1\\t2\\t3\\t4\\t5\"\n",
    "print(tabbedstring)"
   ]
  },
  {
   "cell_type": "code",
   "execution_count": 11,
   "metadata": {},
   "outputs": [
    {
     "name": "stdout",
     "output_type": "stream",
     "text": [
      "The pet shop owner said \"No, no, 'e's uh,...he's resting\". \n"
     ]
    }
   ],
   "source": [
    "print(\"\"\"The pet shop owner said \"No, no, 'e's uh,...he's resting\". \"\"\")"
   ]
  },
  {
   "cell_type": "markdown",
   "metadata": {},
   "source": [
    "## `Variables and Types`\n",
    "- When a program's running, everything the program needs ends up stored in the computer's memory. The program's code itself will be stored in one area of the memory and the data it works on will also be stored somewhere in memory.\n",
    "\n",
    "- A **Variable** is basically just a way to give a (meaningful)name to an area of memory, into which we can place certain values."
   ]
  },
  {
   "cell_type": "markdown",
   "metadata": {},
   "source": [
    "#### Examples."
   ]
  },
  {
   "cell_type": "code",
   "execution_count": 13,
   "metadata": {
    "scrolled": true
   },
   "outputs": [
    {
     "name": "stdout",
     "output_type": "stream",
     "text": [
      "Please enter your name Ahmed\n",
      "Hello Ahmed\n"
     ]
    }
   ],
   "source": [
    "greeting= \"Hello \"\n",
    "name = input(\"Please enter your name \")\n",
    "print(greeting + name)"
   ]
  },
  {
   "cell_type": "code",
   "execution_count": 14,
   "metadata": {},
   "outputs": [
    {
     "name": "stdout",
     "output_type": "stream",
     "text": [
      "Hello Ahmed\n"
     ]
    }
   ],
   "source": [
    "# If we need to add space we can add empty string.\n",
    "print(greeting +''+name)"
   ]
  },
  {
   "cell_type": "markdown",
   "metadata": {},
   "source": [
    "-  When we create a variable `'greeting'`, python allocates an area of memory for us. Because we created greeting by attaching it to a string value, Python also decided that 'greeting' was a variable of type string and ensures that we can only do things with it that make sense for strings.\n",
    "-  Rules for Variable names:\n",
    "   - Python variable names must begin with a letter (either upper case or lower) or an underscore_character.\n",
    "   - They can contain letters, numbers or underscore characters (but **cannot begin with a number**)\n",
    "   - Variables are created when they are first attached to a value, using **=**"
   ]
  },
  {
   "cell_type": "code",
   "execution_count": 15,
   "metadata": {},
   "outputs": [
    {
     "name": "stdout",
     "output_type": "stream",
     "text": [
      "24\n"
     ]
    }
   ],
   "source": [
    "# In the 'int' format.\n",
    "age = 24\n",
    "print(age)"
   ]
  },
  {
   "cell_type": "markdown",
   "metadata": {},
   "source": [
    "-  Type we also called as datatype which says the **kind of information we are storing**."
   ]
  },
  {
   "cell_type": "code",
   "execution_count": 16,
   "metadata": {},
   "outputs": [
    {
     "name": "stdout",
     "output_type": "stream",
     "text": [
      "<class 'str'>\n",
      "<class 'int'>\n"
     ]
    }
   ],
   "source": [
    "print(type(greeting))\n",
    "print(type(age))"
   ]
  },
  {
   "cell_type": "code",
   "execution_count": 18,
   "metadata": {},
   "outputs": [
    {
     "name": "stdout",
     "output_type": "stream",
     "text": [
      "24\n",
      "<class 'str'>\n"
     ]
    }
   ],
   "source": [
    "age_in_words = \"24\"\n",
    "print(age_in_words)\n",
    "print(type(age_in_words))"
   ]
  },
  {
   "cell_type": "markdown",
   "metadata": {},
   "source": [
    "`With same name of variable  we can assign same value to the variable but in the different data type.`\n"
   ]
  },
  {
   "cell_type": "code",
   "execution_count": 19,
   "metadata": {},
   "outputs": [],
   "source": [
    "#print(name + \" is \"+ (age) + \" years old.\")"
   ]
  },
  {
   "cell_type": "markdown",
   "metadata": {},
   "source": [
    "### `String Concatenation`"
   ]
  },
  {
   "cell_type": "markdown",
   "metadata": {},
   "source": [
    "### `TypeError: must be str, not int`\n",
    "- In syntax if we won't specify the str  for age the it gives type error in the above code.\n",
    "-- `It concatenates only \"str\" but not \"int\"`"
   ]
  },
  {
   "cell_type": "code",
   "execution_count": 20,
   "metadata": {},
   "outputs": [
    {
     "name": "stdout",
     "output_type": "stream",
     "text": [
      "Ahmed is 24 years old.\n"
     ]
    }
   ],
   "source": [
    "print(name + \" is \"+ str(age) + \" years old.\")"
   ]
  },
  {
   "cell_type": "markdown",
   "metadata": {},
   "source": [
    "### `Built-in` Data types.\n",
    "Python has several **`built-in`** data types, that can be classified as:\n",
    "-  `numeric`\n",
    "- `iterator`\n",
    "- `sequence` (which are also iterators)\n",
    "- `mapping`\n",
    "- `file`\n",
    "- `class`\n",
    "- `exception`"
   ]
  },
  {
   "cell_type": "markdown",
   "metadata": {},
   "source": [
    "### `numeric` data types\n",
    "- **`int`**: The python interger data type is called as `int`. \n",
    "  - Integres are just whole numbers- where numbers having `no fractional part`\n",
    "- **`float`**: Float is another name for real numbers where numbers having a fractional part after the decimal point.\n",
    "- **`complex`**: Complex numbers contain a real and an imaginary part, based on the square root of minus one."
   ]
  },
  {
   "cell_type": "markdown",
   "metadata": {},
   "source": [
    "### `Numeric Operators.`"
   ]
  },
  {
   "cell_type": "code",
   "execution_count": 21,
   "metadata": {},
   "outputs": [
    {
     "name": "stdout",
     "output_type": "stream",
     "text": [
      "15\n",
      "9\n",
      "36\n",
      "4.0\n",
      "4\n",
      "0\n"
     ]
    }
   ],
   "source": [
    "a=12\n",
    "b=3\n",
    "\n",
    "print(a+b) # 15\n",
    "print(a-b) # 9\n",
    "print(a*b) # 36\n",
    "print(a/b) # 4.0\n",
    "print(a//b) # 4 integer division, roinded down towards minus infinity.\n",
    "print(a%b) # 0 modulo: the remainder after integer division."
   ]
  },
  {
   "cell_type": "code",
   "execution_count": 22,
   "metadata": {},
   "outputs": [
    {
     "name": "stdout",
     "output_type": "stream",
     "text": [
      "\n",
      "1\n",
      "2\n",
      "3\n"
     ]
    }
   ],
   "source": [
    "print() # Empty line\n",
    "for i in range(1,4):\n",
    "    print(i)"
   ]
  },
  {
   "cell_type": "code",
   "execution_count": 23,
   "metadata": {},
   "outputs": [
    {
     "name": "stdout",
     "output_type": "stream",
     "text": [
      "1\n",
      "2\n",
      "3\n"
     ]
    }
   ],
   "source": [
    "for i  in range(1, a//b):\n",
    "    print(i)"
   ]
  },
  {
   "cell_type": "markdown",
   "metadata": {},
   "source": [
    "### `Expressions`\n",
    "- In python an expression can be anything that can be calculated."
   ]
  },
  {
   "cell_type": "code",
   "execution_count": 24,
   "metadata": {},
   "outputs": [
    {
     "name": "stdout",
     "output_type": "stream",
     "text": [
      "1\n",
      "2\n",
      "3\n"
     ]
    }
   ],
   "source": [
    "for i in range(1, a//b): # a//b is an  expression given inside the code.It evaluates \n",
    "    print(i)\n",
    "# i is not an expression but a value bound to each of the values produced by range. "
   ]
  },
  {
   "cell_type": "markdown",
   "metadata": {},
   "source": [
    "### `Operator Precedence`\n",
    "- Relative importance given to each of the operators."
   ]
  },
  {
   "cell_type": "code",
   "execution_count": 26,
   "metadata": {},
   "outputs": [
    {
     "name": "stdout",
     "output_type": "stream",
     "text": [
      "-35.0\n",
      "-35.0\n"
     ]
    }
   ],
   "source": [
    "print(a+b/3-4*12)\n",
    "print(a+(b / 3) -(4 * 12))"
   ]
  },
  {
   "cell_type": "markdown",
   "metadata": {},
   "source": [
    "#### Method:1"
   ]
  },
  {
   "cell_type": "code",
   "execution_count": 27,
   "metadata": {},
   "outputs": [
    {
     "name": "stdout",
     "output_type": "stream",
     "text": [
      "12.0\n"
     ]
    }
   ],
   "source": [
    "print((((a+b)/3)-4)*12)"
   ]
  },
  {
   "cell_type": "markdown",
   "metadata": {},
   "source": [
    "#### Method:2"
   ]
  },
  {
   "cell_type": "code",
   "execution_count": 28,
   "metadata": {},
   "outputs": [
    {
     "name": "stdout",
     "output_type": "stream",
     "text": [
      "12.0\n"
     ]
    }
   ],
   "source": [
    "c= a+b\n",
    "d= c/3\n",
    "e= d-4\n",
    "print(e*12)"
   ]
  },
  {
   "cell_type": "markdown",
   "metadata": {},
   "source": [
    "### `Operator Precedence Acronyms.`\n",
    "- **`PEMDAS`**: Parenthesis,Exponents, Multiplication / Division, Addition / Subtraction.\n",
    "- **`BEDMAS`**: Brackets, Exponents, Division / Multiplication, Addition / Subtraction.\n",
    "- **`BODMAS`**: Brackets, order, Division / Multiplication, Addition / Subtraction.\n",
    "- **`BIDMAS`**: Brackets, Index, Division / Multiplication, Addition / Subtraction."
   ]
  },
  {
   "cell_type": "code",
   "execution_count": 29,
   "metadata": {},
   "outputs": [
    {
     "name": "stdout",
     "output_type": "stream",
     "text": [
      "0.1111111111111111\n"
     ]
    }
   ],
   "source": [
    "print(a/(b*a)/b)"
   ]
  },
  {
   "cell_type": "markdown",
   "metadata": {},
   "source": [
    "### `The str String Data Type.`"
   ]
  },
  {
   "cell_type": "code",
   "execution_count": 31,
   "metadata": {},
   "outputs": [],
   "source": [
    "# Index positioning\n",
    "\n",
    "#         012345678901234\n",
    "parrot = \"Norwegian Blue\""
   ]
  },
  {
   "cell_type": "code",
   "execution_count": 32,
   "metadata": {},
   "outputs": [
    {
     "name": "stdout",
     "output_type": "stream",
     "text": [
      "Norwegian Blue\n"
     ]
    }
   ],
   "source": [
    "print(parrot)"
   ]
  },
  {
   "cell_type": "code",
   "execution_count": 33,
   "metadata": {},
   "outputs": [
    {
     "name": "stdout",
     "output_type": "stream",
     "text": [
      "w\n"
     ]
    }
   ],
   "source": [
    "# Printing individual character.\n",
    "print(parrot[3])"
   ]
  },
  {
   "cell_type": "code",
   "execution_count": 34,
   "metadata": {},
   "outputs": [
    {
     "name": "stdout",
     "output_type": "stream",
     "text": [
      "e\n"
     ]
    }
   ],
   "source": [
    "# Indexing is accessed using [].\n",
    "print(parrot[13])"
   ]
  },
  {
   "cell_type": "code",
   "execution_count": 35,
   "metadata": {},
   "outputs": [],
   "source": [
    "# Get 'we win' from parrot variable."
   ]
  },
  {
   "cell_type": "code",
   "execution_count": 36,
   "metadata": {},
   "outputs": [
    {
     "name": "stdout",
     "output_type": "stream",
     "text": [
      "w\n",
      "e\n",
      " \n",
      "w\n",
      "i\n",
      "n\n"
     ]
    }
   ],
   "source": [
    "print(parrot[3])\n",
    "print(parrot[4])\n",
    "print(parrot[9])\n",
    "print(parrot[3])\n",
    "print(parrot[6])\n",
    "print(parrot[8])"
   ]
  },
  {
   "cell_type": "markdown",
   "metadata": {},
   "source": [
    "- Negative Indexing Strings: `We start counting from -1`."
   ]
  },
  {
   "cell_type": "code",
   "execution_count": 37,
   "metadata": {},
   "outputs": [
    {
     "name": "stdout",
     "output_type": "stream",
     "text": [
      "e\n"
     ]
    }
   ],
   "source": [
    "print(parrot[-1])"
   ]
  },
  {
   "cell_type": "code",
   "execution_count": 38,
   "metadata": {},
   "outputs": [
    {
     "name": "stdout",
     "output_type": "stream",
     "text": [
      "N\n"
     ]
    }
   ],
   "source": [
    "print(parrot[-14])"
   ]
  },
  {
   "cell_type": "markdown",
   "metadata": {},
   "source": [
    "#### Method:1"
   ]
  },
  {
   "cell_type": "code",
   "execution_count": 39,
   "metadata": {},
   "outputs": [
    {
     "name": "stdout",
     "output_type": "stream",
     "text": [
      "w\n",
      "e\n",
      " \n",
      "w\n",
      "i\n",
      "n\n"
     ]
    }
   ],
   "source": [
    "# Get 'We win' using Negative indexing.\n",
    "\n",
    "parrot = \"Norwegian Blue\"\n",
    "print(parrot[-11])\n",
    "print(parrot[-10])\n",
    "print(parrot[-5])\n",
    "print(parrot[-11])\n",
    "print(parrot[-8])\n",
    "print(parrot[-6])"
   ]
  },
  {
   "cell_type": "markdown",
   "metadata": {},
   "source": [
    "#### Method:2"
   ]
  },
  {
   "cell_type": "code",
   "execution_count": 40,
   "metadata": {},
   "outputs": [
    {
     "name": "stdout",
     "output_type": "stream",
     "text": [
      "w\n",
      "e\n",
      " \n",
      "w\n",
      "i\n",
      "n\n"
     ]
    }
   ],
   "source": [
    "print(parrot[3-14])\n",
    "print(parrot[4-14])\n",
    "print(parrot[9-14])\n",
    "print(parrot[3-14])\n",
    "print(parrot[6-14])\n",
    "print(parrot[8-14])"
   ]
  },
  {
   "cell_type": "markdown",
   "metadata": {},
   "source": [
    "## `Slicing.`"
   ]
  },
  {
   "cell_type": "code",
   "execution_count": 41,
   "metadata": {},
   "outputs": [
    {
     "name": "stdout",
     "output_type": "stream",
     "text": [
      "Norweg\n"
     ]
    }
   ],
   "source": [
    "# Starts from 0th position but not including 6th position.\n",
    "print(parrot[0:6])"
   ]
  },
  {
   "cell_type": "code",
   "execution_count": 42,
   "metadata": {},
   "outputs": [
    {
     "name": "stdout",
     "output_type": "stream",
     "text": [
      "we\n"
     ]
    }
   ],
   "source": [
    "print(parrot[3:5])"
   ]
  },
  {
   "cell_type": "code",
   "execution_count": 43,
   "metadata": {},
   "outputs": [
    {
     "name": "stdout",
     "output_type": "stream",
     "text": [
      "Norwegian\n",
      "Norwegian\n"
     ]
    }
   ],
   "source": [
    "print(parrot[0:9])\n",
    "print(parrot[:9]) # Even without using Start index position number it gives same result."
   ]
  },
  {
   "cell_type": "code",
   "execution_count": 44,
   "metadata": {},
   "outputs": [
    {
     "name": "stdout",
     "output_type": "stream",
     "text": [
      "Blue\n",
      "Blue\n",
      "Norwegian\n",
      "Norwegian\n"
     ]
    }
   ],
   "source": [
    "print(parrot[10:14])\n",
    "print(parrot[10:]) \n",
    "print(parrot[0:9])\n",
    "print(parrot[:9]) # Even without using end index position number it gives same result."
   ]
  },
  {
   "cell_type": "code",
   "execution_count": 45,
   "metadata": {},
   "outputs": [
    {
     "name": "stdout",
     "output_type": "stream",
     "text": [
      "Norwegian Blue\n"
     ]
    }
   ],
   "source": [
    "print(parrot[:6] + parrot[6:])"
   ]
  },
  {
   "cell_type": "code",
   "execution_count": 46,
   "metadata": {},
   "outputs": [
    {
     "name": "stdout",
     "output_type": "stream",
     "text": [
      "Norwegian Blue\n"
     ]
    }
   ],
   "source": [
    "print(parrot[:])"
   ]
  },
  {
   "cell_type": "markdown",
   "metadata": {},
   "source": [
    "### `Slicing with Negative Numbers.`"
   ]
  },
  {
   "cell_type": "code",
   "execution_count": 48,
   "metadata": {},
   "outputs": [
    {
     "name": "stdout",
     "output_type": "stream",
     "text": [
      "Norweg\n"
     ]
    }
   ],
   "source": [
    "print(parrot[0:6])"
   ]
  },
  {
   "cell_type": "code",
   "execution_count": 49,
   "metadata": {},
   "outputs": [
    {
     "name": "stdout",
     "output_type": "stream",
     "text": [
      "Bl\n",
      "Bl\n"
     ]
    }
   ],
   "source": [
    "print(parrot[-4:-2])\n",
    "print(parrot[-4:12])"
   ]
  },
  {
   "cell_type": "code",
   "execution_count": 50,
   "metadata": {},
   "outputs": [
    {
     "name": "stdout",
     "output_type": "stream",
     "text": [
      "Norwegian Blue\n"
     ]
    }
   ],
   "source": [
    "print(parrot[:])"
   ]
  },
  {
   "cell_type": "markdown",
   "metadata": {},
   "source": [
    "### `Using a Step in a Slice.`"
   ]
  },
  {
   "cell_type": "code",
   "execution_count": 51,
   "metadata": {},
   "outputs": [
    {
     "name": "stdout",
     "output_type": "stream",
     "text": [
      "Nre\n",
      "Nw\n"
     ]
    }
   ],
   "source": [
    "print(parrot[0:6:2])\n",
    "print(parrot[0:6:3])"
   ]
  },
  {
   "cell_type": "code",
   "execution_count": 52,
   "metadata": {},
   "outputs": [],
   "source": [
    "number = \"9,223,372,036,854,775,807\""
   ]
  },
  {
   "cell_type": "code",
   "execution_count": 53,
   "metadata": {},
   "outputs": [
    {
     "name": "stdout",
     "output_type": "stream",
     "text": [
      ",,,,,,\n"
     ]
    }
   ],
   "source": [
    "print(number[1::4])\n",
    "# Starts from the position '1' which is first ',' and slicing every 4th character."
   ]
  },
  {
   "cell_type": "code",
   "execution_count": 54,
   "metadata": {},
   "outputs": [],
   "source": [
    "numbers = \"9223372036854775807\""
   ]
  },
  {
   "cell_type": "code",
   "execution_count": 55,
   "metadata": {},
   "outputs": [
    {
     "name": "stdout",
     "output_type": "stream",
     "text": [
      "9232384787\n"
     ]
    }
   ],
   "source": [
    "# Printing alternate value from the string.\n",
    "print(numbers[0::2])"
   ]
  },
  {
   "cell_type": "code",
   "execution_count": 56,
   "metadata": {},
   "outputs": [
    {
     "name": "stdout",
     "output_type": "stream",
     "text": [
      ",;: ,;\n"
     ]
    }
   ],
   "source": [
    "number = \"9,223;372:036 854,775;807\"\n",
    "print(number[1::4])"
   ]
  },
  {
   "cell_type": "markdown",
   "metadata": {},
   "source": [
    "### `Slicing Backwards.`"
   ]
  },
  {
   "cell_type": "code",
   "execution_count": 58,
   "metadata": {},
   "outputs": [],
   "source": [
    "letters = \"abcdefghijklmnopqrstuvwxyz\""
   ]
  },
  {
   "cell_type": "code",
   "execution_count": 59,
   "metadata": {},
   "outputs": [
    {
     "name": "stdout",
     "output_type": "stream",
     "text": [
      "zyxwvutsrqponmlkjihgfedcb\n"
     ]
    }
   ],
   "source": [
    "backwards = letters[25:0:-1]\n",
    "print(backwards)"
   ]
  },
  {
   "cell_type": "code",
   "execution_count": 60,
   "metadata": {},
   "outputs": [
    {
     "name": "stdout",
     "output_type": "stream",
     "text": [
      "zyxwvutsrqponmlkjihgfedcba\n"
     ]
    }
   ],
   "source": [
    "backwards = letters[25::-1]\n",
    "print(backwards)"
   ]
  },
  {
   "cell_type": "code",
   "execution_count": 61,
   "metadata": {},
   "outputs": [
    {
     "name": "stdout",
     "output_type": "stream",
     "text": [
      "zyxwvutsrqponmlkjihgfedcba\n"
     ]
    }
   ],
   "source": [
    "backwards = letters[::-1]\n",
    "print(backwards)"
   ]
  },
  {
   "cell_type": "code",
   "execution_count": 62,
   "metadata": {},
   "outputs": [
    {
     "name": "stdout",
     "output_type": "stream",
     "text": [
      "zyxwvuts\n"
     ]
    }
   ],
   "source": [
    "# Slice the string to produce the last 8 characters, in the REVERSE Order.\n",
    "print(letters[:-9:-1])"
   ]
  },
  {
   "cell_type": "code",
   "execution_count": 63,
   "metadata": {},
   "outputs": [
    {
     "name": "stdout",
     "output_type": "stream",
     "text": [
      "wxyz\n"
     ]
    }
   ],
   "source": [
    "# To print last 4 letters \n",
    "print(letters[-4:])"
   ]
  },
  {
   "cell_type": "code",
   "execution_count": 64,
   "metadata": {},
   "outputs": [
    {
     "name": "stdout",
     "output_type": "stream",
     "text": [
      "z\n"
     ]
    }
   ],
   "source": [
    "# To get last item by specifying '-1'\n",
    "print(letters[-1:])"
   ]
  },
  {
   "cell_type": "code",
   "execution_count": 65,
   "metadata": {},
   "outputs": [
    {
     "name": "stdout",
     "output_type": "stream",
     "text": [
      "a\n",
      "a\n"
     ]
    }
   ],
   "source": [
    "print(letters[:1])\n",
    "print(letters[0])"
   ]
  },
  {
   "cell_type": "markdown",
   "metadata": {},
   "source": [
    "## `String Operations.`\n",
    "Python 3 has `5 sequence types built in`:\n",
    "- The string type\n",
    "- list\n",
    "- tuple\n",
    "- range\n",
    "- bytes and bytearray\n",
    "\n",
    "`Sequence` is defined as an ordered set of items.\n",
    "\n",
    "- A **list** is also a sequence type. For example ['computer', 'mouse', 'keyboard', 'mouse mat'] "
   ]
  },
  {
   "cell_type": "code",
   "execution_count": 67,
   "metadata": {},
   "outputs": [],
   "source": [
    "computer_parts = ['computer','mouse','keyboard','monitor','mouse pad']"
   ]
  },
  {
   "cell_type": "code",
   "execution_count": 68,
   "metadata": {},
   "outputs": [
    {
     "data": {
      "text/plain": [
       "'computer'"
      ]
     },
     "execution_count": 68,
     "metadata": {},
     "output_type": "execute_result"
    }
   ],
   "source": [
    "computer_parts[0]"
   ]
  },
  {
   "cell_type": "code",
   "execution_count": 69,
   "metadata": {},
   "outputs": [
    {
     "data": {
      "text/plain": [
       "'c'"
      ]
     },
     "execution_count": 69,
     "metadata": {},
     "output_type": "execute_result"
    }
   ],
   "source": [
    "# To access fiorst element of the list and even first letter of the element.\n",
    "computer_parts[0][0]"
   ]
  },
  {
   "cell_type": "markdown",
   "metadata": {},
   "source": [
    "### `String Concatenation.`"
   ]
  },
  {
   "cell_type": "code",
   "execution_count": 70,
   "metadata": {},
   "outputs": [],
   "source": [
    "string1= \"he's \"\n",
    "string2= \"probably \"\n",
    "string3=\"pining \"\n",
    "string4=\"for the \"\n",
    "string5= \"fjords\""
   ]
  },
  {
   "cell_type": "code",
   "execution_count": 71,
   "metadata": {},
   "outputs": [
    {
     "name": "stdout",
     "output_type": "stream",
     "text": [
      "he's probably pining for the fjords\n"
     ]
    }
   ],
   "source": [
    "print(string1+string2+string3+string4+string5)"
   ]
  },
  {
   "cell_type": "markdown",
   "metadata": {},
   "source": [
    "#### Lists and tuples can also be multiplied."
   ]
  },
  {
   "cell_type": "code",
   "execution_count": 72,
   "metadata": {},
   "outputs": [
    {
     "name": "stdout",
     "output_type": "stream",
     "text": [
      "Hello Hello Hello Hello Hello \n"
     ]
    }
   ],
   "source": [
    "print(\"Hello \"*5)"
   ]
  },
  {
   "cell_type": "code",
   "execution_count": 73,
   "metadata": {},
   "outputs": [
    {
     "name": "stdout",
     "output_type": "stream",
     "text": [
      "Hello Hello Hello Hello Hello Hello Hello Hello Hello \n",
      "Hello Hello Hello Hello Hello 4\n"
     ]
    }
   ],
   "source": [
    "print(\"Hello \"*(5+4) )\n",
    "print(\"Hello \" *5 + \"4\")"
   ]
  },
  {
   "cell_type": "markdown",
   "metadata": {},
   "source": [
    "#### ` \"in\" in another`"
   ]
  },
  {
   "cell_type": "code",
   "execution_count": 74,
   "metadata": {},
   "outputs": [
    {
     "name": "stdout",
     "output_type": "stream",
     "text": [
      "True\n",
      "True\n",
      "False\n"
     ]
    }
   ],
   "source": [
    "today=\"friday \"\n",
    "print(\"day\" in today)\n",
    "print(\"fri\"in today)\n",
    "print(\"fry\" in today)"
   ]
  },
  {
   "cell_type": "markdown",
   "metadata": {},
   "source": [
    "### `String Replacement Fields`\n",
    "- When printing strings and numbers, it would often be convinient to display both values using a single call to print. We've often seen that numbers **can't** be concatenated with strings using **+**, as the presence of a numer instructs Python to attempt addition, and that fails.\n",
    "- One approach we could take is to coerce our numbers into string, using the **str** function."
   ]
  },
  {
   "cell_type": "code",
   "execution_count": 76,
   "metadata": {},
   "outputs": [
    {
     "name": "stdout",
     "output_type": "stream",
     "text": [
      "My age is 24 years.\n"
     ]
    }
   ],
   "source": [
    "age = 24\n",
    "print(\"My age is \" +str(age) + \" years.\")"
   ]
  },
  {
   "cell_type": "markdown",
   "metadata": {},
   "source": [
    "\n",
    "### `.format`"
   ]
  },
  {
   "cell_type": "code",
   "execution_count": 77,
   "metadata": {},
   "outputs": [
    {
     "name": "stdout",
     "output_type": "stream",
     "text": [
      "My age is 28 years. \n"
     ]
    }
   ],
   "source": [
    "print(\"My age is {0} years. \".format(28))"
   ]
  },
  {
   "cell_type": "code",
   "execution_count": 78,
   "metadata": {},
   "outputs": [
    {
     "name": "stdout",
     "output_type": "stream",
     "text": [
      "There are 31 days in Jan, Mar, May, Jul, Aug, Oct and Dec\n"
     ]
    }
   ],
   "source": [
    "print(\"There are {0} days in {1}, {2}, {3}, {4}, {5}, {6} and {7}\".format(31,\"Jan\", \"Mar\", \"May\", \"Jul\", \"Aug\", \"Oct\", \"Dec\"))"
   ]
  },
  {
   "cell_type": "markdown",
   "metadata": {},
   "source": [
    "### `or`"
   ]
  },
  {
   "cell_type": "code",
   "execution_count": 86,
   "metadata": {},
   "outputs": [
    {
     "name": "stdout",
     "output_type": "stream",
     "text": [
      "There are 31 days in Jan, Mar,May,Jul, Aug, Oct, Dec\n"
     ]
    }
   ],
   "source": [
    "print(\"There are {0} days in Jan, Mar,May,Jul, Aug, Oct, Dec\".format(31))"
   ]
  },
  {
   "cell_type": "code",
   "execution_count": 79,
   "metadata": {},
   "outputs": [
    {
     "name": "stdout",
     "output_type": "stream",
     "text": [
      "My age is 26 years.\n"
     ]
    }
   ],
   "source": [
    "print(\"My age is {0} years.\" .format(26))"
   ]
  },
  {
   "cell_type": "code",
   "execution_count": 83,
   "metadata": {},
   "outputs": [
    {
     "name": "stdout",
     "output_type": "stream",
     "text": [
      "My father age is 60 years. \n",
      "My mother age is 51 years. \n",
      "My age is 26 years. \n",
      "My brother age is  22 years.\n"
     ]
    }
   ],
   "source": [
    "print(\"My father age is {0} years. \\nMy mother age is {1} years. \\nMy age is {2} years. \\nMy brother age is  {3} years.\".format(60,51,26,22))"
   ]
  },
  {
   "cell_type": "code",
   "execution_count": 89,
   "metadata": {},
   "outputs": [
    {
     "name": "stdout",
     "output_type": "stream",
     "text": [
      "Jan: 31, Feb: 28, Mar:31, Apr:30, May: 31, Jun: 30\n"
     ]
    }
   ],
   "source": [
    "print(\"Jan: {2}, Feb: {0}, Mar:{2}, Apr:{1}, May: {2}, Jun: {1}\".format(28,30,31))"
   ]
  },
  {
   "cell_type": "code",
   "execution_count": 97,
   "metadata": {},
   "outputs": [
    {
     "name": "stdout",
     "output_type": "stream",
     "text": [
      "Jan:31\n",
      "Feb:28\n",
      "Mar:31\n",
      "Apr:30\n",
      "May:31\n",
      "Jun:30\n",
      "Jul:31\n",
      "Aug:31\n",
      "Sep:30\n",
      "Oct:31\n",
      "Nov:30\n",
      "Dec:31\n"
     ]
    }
   ],
   "source": [
    "print(\"\"\"Jan:{2}\n",
    "Feb:{0}\n",
    "Mar:{2}\n",
    "Apr:{1}\n",
    "May:{2}\n",
    "Jun:{1}\n",
    "Jul:{2}\n",
    "Aug:{2}\n",
    "Sep:{1}\n",
    "Oct:{2}\n",
    "Nov:{1}\n",
    "Dec:{2}\"\"\".format(28,30,31))"
   ]
  },
  {
   "cell_type": "markdown",
   "metadata": {},
   "source": [
    "### `String Formatting`"
   ]
  },
  {
   "cell_type": "code",
   "execution_count": 108,
   "metadata": {},
   "outputs": [
    {
     "name": "stdout",
     "output_type": "stream",
     "text": [
      "No.1 squared is 1 and cubed is 1\n",
      "No.2 squared is 4 and cubed is 8\n",
      "No.3 squared is 9 and cubed is 27\n",
      "No.4 squared is 16 and cubed is 64\n",
      "No.5 squared is 25 and cubed is 125\n",
      "No.6 squared is 36 and cubed is 216\n",
      "No.7 squared is 49 and cubed is 343\n",
      "No.8 squared is 64 and cubed is 512\n",
      "No.9 squared is 81 and cubed is 729\n",
      "No.10 squared is 100 and cubed is 1000\n"
     ]
    }
   ],
   "source": [
    "for i in range(1,11):\n",
    "    print(\"No.{0} squared is {1} and cubed is {2}\".format(i, i ** 2, i ** 3))"
   ]
  },
  {
   "cell_type": "code",
   "execution_count": 111,
   "metadata": {},
   "outputs": [
    {
     "name": "stdout",
     "output_type": "stream",
     "text": [
      "No. 1 squared is   1 and cubed is    1\n",
      "No. 2 squared is   4 and cubed is    8\n",
      "No. 3 squared is   9 and cubed is   27\n",
      "No. 4 squared is  16 and cubed is   64\n",
      "No. 5 squared is  25 and cubed is  125\n",
      "No. 6 squared is  36 and cubed is  216\n",
      "No. 7 squared is  49 and cubed is  343\n",
      "No. 8 squared is  64 and cubed is  512\n",
      "No. 9 squared is  81 and cubed is  729\n",
      "No.10 squared is 100 and cubed is 1000\n"
     ]
    }
   ],
   "source": [
    "for i in range(1,11):\n",
    "    print(\"No.{0:2} squared is {1:3} and cubed is {2:4}\".format(i, i ** 2, i ** 3))\n",
    "    # {0:2} 2 is specified to include 2 digit space\n",
    "    # {0:4} 4 is specoified to include 4 digit space."
   ]
  },
  {
   "cell_type": "code",
   "execution_count": 115,
   "metadata": {},
   "outputs": [
    {
     "name": "stdout",
     "output_type": "stream",
     "text": [
      "\n",
      "No. 1 squared is   1 and cubed is    1\n",
      "No. 2 squared is   4 and cubed is    8\n",
      "No. 3 squared is   9 and cubed is   27\n",
      "No. 4 squared is  16 and cubed is   64\n",
      "No. 5 squared is  25 and cubed is  125\n",
      "No. 6 squared is  36 and cubed is  216\n",
      "No. 7 squared is  49 and cubed is  343\n",
      "No. 8 squared is  64 and cubed is  512\n",
      "No. 9 squared is  81 and cubed is  729\n",
      "No.10 squared is 100 and cubed is 1000\n",
      "\n"
     ]
    }
   ],
   "source": [
    "print()\n",
    "\n",
    "for i in range(1,11):\n",
    "    print(\"No.{0:2} squared is {1:3} and cubed is {2:4}\".format(i, i ** 2, i ** 3))\n",
    "\n",
    "print()   "
   ]
  },
  {
   "cell_type": "markdown",
   "metadata": {},
   "source": [
    "## `f-strings.`"
   ]
  },
  {
   "cell_type": "code",
   "execution_count": 121,
   "metadata": {},
   "outputs": [
    {
     "name": "stdout",
     "output_type": "stream",
     "text": [
      "\n",
      "Ahmed is 25 years old.\n"
     ]
    }
   ],
   "source": [
    "name =\"Ahmed\"\n",
    "age =25\n",
    "print()\n",
    "print(name + f\" is {age} years old.\")"
   ]
  }
 ],
 "metadata": {
  "kernelspec": {
   "display_name": "Python 3 (ipykernel)",
   "language": "python",
   "name": "python3"
  },
  "language_info": {
   "codemirror_mode": {
    "name": "ipython",
    "version": 3
   },
   "file_extension": ".py",
   "mimetype": "text/x-python",
   "name": "python",
   "nbconvert_exporter": "python",
   "pygments_lexer": "ipython3",
   "version": "3.9.7"
  }
 },
 "nbformat": 4,
 "nbformat_minor": 2
}
