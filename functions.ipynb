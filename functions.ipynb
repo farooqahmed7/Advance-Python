{
 "cells": [
  {
   "cell_type": "code",
   "execution_count": 1,
   "id": "19f79c61",
   "metadata": {},
   "outputs": [],
   "source": [
    "def test2(t,n,m):\n",
    "    return t+n"
   ]
  },
  {
   "cell_type": "code",
   "execution_count": 2,
   "id": "9417ae94",
   "metadata": {},
   "outputs": [
    {
     "data": {
      "text/plain": [
       "5"
      ]
     },
     "execution_count": 2,
     "metadata": {},
     "output_type": "execute_result"
    }
   ],
   "source": [
    "# test2(3,2) This gives an error since we have given 2 parameters instead of 3.\n",
    "test2(2,3,1)"
   ]
  },
  {
   "cell_type": "markdown",
   "id": "0cd95a54",
   "metadata": {},
   "source": [
    "### `Multiple \"return\" types.`"
   ]
  },
  {
   "cell_type": "code",
   "execution_count": 3,
   "id": "4702055e",
   "metadata": {},
   "outputs": [],
   "source": [
    "def test3(n,m):\n",
    "    return n*10, m*40, m+n\n",
    "# When we pass a multiple requirement, we get a return value as a Tuple."
   ]
  },
  {
   "cell_type": "code",
   "execution_count": 4,
   "id": "d061f431",
   "metadata": {},
   "outputs": [
    {
     "data": {
      "text/plain": [
       "(20, 280, 9)"
      ]
     },
     "execution_count": 4,
     "metadata": {},
     "output_type": "execute_result"
    }
   ],
   "source": [
    "test3(2,7)"
   ]
  },
  {
   "cell_type": "code",
   "execution_count": 5,
   "id": "1807f85b",
   "metadata": {},
   "outputs": [
    {
     "name": "stdout",
     "output_type": "stream",
     "text": [
      "20\n",
      "280\n",
      "9\n"
     ]
    }
   ],
   "source": [
    "c,x,v = test3(2,7)\n",
    "print(c)\n",
    "print(x)\n",
    "print(v)"
   ]
  },
  {
   "cell_type": "code",
   "execution_count": 6,
   "id": "13e39dfe",
   "metadata": {},
   "outputs": [
    {
     "name": "stdout",
     "output_type": "stream",
     "text": [
      "20\n",
      "280\n",
      "9\n"
     ]
    }
   ],
   "source": [
    "# If we dont want to create 3rd variable. Using a place holder(_)\n",
    "c,x,_ =test3(2,7)\n",
    "print(c)\n",
    "print(x)\n",
    "print(_)\n",
    "\n",
    "#c,x =test3(2,7) # It gives error giving too amny values to unpack"
   ]
  },
  {
   "cell_type": "code",
   "execution_count": 7,
   "id": "a9952405",
   "metadata": {},
   "outputs": [],
   "source": [
    "def test4(n):\n",
    "    return n*2"
   ]
  },
  {
   "cell_type": "code",
   "execution_count": 8,
   "id": "8737cbfc",
   "metadata": {},
   "outputs": [
    {
     "data": {
      "text/plain": [
       "[3, 4, 5, 6, 3, 4, 5, 6]"
      ]
     },
     "execution_count": 8,
     "metadata": {},
     "output_type": "execute_result"
    }
   ],
   "source": [
    "test4([3,4,5,6])"
   ]
  },
  {
   "cell_type": "code",
   "execution_count": 9,
   "id": "65898130",
   "metadata": {},
   "outputs": [
    {
     "data": {
      "text/plain": [
       "134"
      ]
     },
     "execution_count": 9,
     "metadata": {},
     "output_type": "execute_result"
    }
   ],
   "source": [
    "test4(67)"
   ]
  },
  {
   "cell_type": "markdown",
   "id": "c6d1055d",
   "metadata": {},
   "source": [
    "### Multiple types of Defining the function."
   ]
  },
  {
   "cell_type": "code",
   "execution_count": 10,
   "id": "eec71c5e",
   "metadata": {},
   "outputs": [],
   "source": [
    "def test9(n):\n",
    "    return n,n*7"
   ]
  },
  {
   "cell_type": "code",
   "execution_count": 11,
   "id": "2c988715",
   "metadata": {},
   "outputs": [
    {
     "data": {
      "text/plain": [
       "(40, 280)"
      ]
     },
     "execution_count": 11,
     "metadata": {},
     "output_type": "execute_result"
    }
   ],
   "source": [
    "test9(40)"
   ]
  },
  {
   "cell_type": "code",
   "execution_count": 12,
   "id": "ba4515d5",
   "metadata": {},
   "outputs": [
    {
     "data": {
      "text/plain": [
       "([2, 3, 4, 5],\n",
       " [2,\n",
       "  3,\n",
       "  4,\n",
       "  5,\n",
       "  2,\n",
       "  3,\n",
       "  4,\n",
       "  5,\n",
       "  2,\n",
       "  3,\n",
       "  4,\n",
       "  5,\n",
       "  2,\n",
       "  3,\n",
       "  4,\n",
       "  5,\n",
       "  2,\n",
       "  3,\n",
       "  4,\n",
       "  5,\n",
       "  2,\n",
       "  3,\n",
       "  4,\n",
       "  5,\n",
       "  2,\n",
       "  3,\n",
       "  4,\n",
       "  5])"
      ]
     },
     "execution_count": 12,
     "metadata": {},
     "output_type": "execute_result"
    }
   ],
   "source": [
    "test9([2,3,4,5])"
   ]
  },
  {
   "cell_type": "code",
   "execution_count": 13,
   "id": "40136340",
   "metadata": {},
   "outputs": [],
   "source": [
    "# Defining a default value to a parameter inside a fucntion.\n",
    "def test10(n,m=50):\n",
    "    return n+m"
   ]
  },
  {
   "cell_type": "code",
   "execution_count": 14,
   "id": "99b7106b",
   "metadata": {},
   "outputs": [
    {
     "name": "stdout",
     "output_type": "stream",
     "text": [
      "55\n",
      "75\n"
     ]
    }
   ],
   "source": [
    "print(test10(5))\n",
    "print(test10(25))"
   ]
  },
  {
   "cell_type": "code",
   "execution_count": 15,
   "id": "643bb8b4",
   "metadata": {},
   "outputs": [
    {
     "data": {
      "text/plain": [
       "110"
      ]
     },
     "execution_count": 15,
     "metadata": {},
     "output_type": "execute_result"
    }
   ],
   "source": [
    "# Even after passing a different value to a parameter it takes the recent given value.\n",
    "test10(10,100)"
   ]
  },
  {
   "cell_type": "code",
   "execution_count": 16,
   "id": "879cb211",
   "metadata": {},
   "outputs": [
    {
     "data": {
      "text/plain": [
       "1"
      ]
     },
     "execution_count": 16,
     "metadata": {},
     "output_type": "execute_result"
    }
   ],
   "source": [
    "def boolx(x= True, y =False):\n",
    "    return y+x\n",
    "boolx()"
   ]
  },
  {
   "cell_type": "code",
   "execution_count": 17,
   "id": "964ce3f1",
   "metadata": {},
   "outputs": [
    {
     "name": "stdout",
     "output_type": "stream",
     "text": [
      "0\n",
      "7\n"
     ]
    }
   ],
   "source": [
    "print(boolx(False)) # It is 0\n",
    "print(boolx(False,7))"
   ]
  },
  {
   "cell_type": "code",
   "execution_count": 18,
   "id": "3ab8c0f6",
   "metadata": {},
   "outputs": [
    {
     "data": {
      "text/plain": [
       "(True, False, True)"
      ]
     },
     "execution_count": 18,
     "metadata": {},
     "output_type": "execute_result"
    }
   ],
   "source": [
    "def travel(bike = True, car = False):\n",
    "    plan_travel = bike or car\n",
    "    return bike, car, plan_travel\n",
    "travel()"
   ]
  },
  {
   "cell_type": "code",
   "execution_count": 19,
   "id": "37decd7f",
   "metadata": {},
   "outputs": [
    {
     "name": "stdout",
     "output_type": "stream",
     "text": [
      "(True, True, True)\n",
      "(True, True, True)\n"
     ]
    }
   ],
   "source": [
    "# Changing and redefining the parameter value.\n",
    "print(travel(car=True))\n",
    "# OR\n",
    "print(travel(True,True))"
   ]
  },
  {
   "cell_type": "raw",
   "id": "9a6172f4",
   "metadata": {},
   "source": [
    "# Passing Multiple arguments.\n",
    "# \"*args\" meant to pass any number of arguments\n",
    "def test11(*args, a='dsb' ):\n",
    "    return args"
   ]
  },
  {
   "cell_type": "markdown",
   "id": "92b55cc6",
   "metadata": {},
   "source": [
    "#### Passing Multiple Arguments."
   ]
  },
  {
   "cell_type": "code",
   "execution_count": 20,
   "id": "40f26f73",
   "metadata": {},
   "outputs": [
    {
     "data": {
      "text/plain": [
       "('data', 28, [34, 4, 5])"
      ]
     },
     "execution_count": 20,
     "metadata": {},
     "output_type": "execute_result"
    }
   ],
   "source": [
    "# Can pass any number of arguments.\n",
    "def test11(*args):\n",
    "    return args\n",
    "test11('data',28, [34,4,5])"
   ]
  },
  {
   "cell_type": "code",
   "execution_count": 21,
   "id": "06a80125",
   "metadata": {},
   "outputs": [
    {
     "data": {
      "text/plain": [
       "[1, 2, 3, 4, 5, 6, 7, 8, 9, 10, 11, 12]"
      ]
     },
     "execution_count": 21,
     "metadata": {},
     "output_type": "execute_result"
    }
   ],
   "source": [
    "def test12(a,b,c):\n",
    "    return a+b+c\n",
    "\n",
    "test12([1,2,3,4,5],[6,7,8],[9,10,11,12])"
   ]
  },
  {
   "cell_type": "code",
   "execution_count": 22,
   "id": "34ed7f64",
   "metadata": {},
   "outputs": [
    {
     "data": {
      "text/plain": [
       "([1, 2, 3, 4, 5], [6, 7, 8], [9, 10, 11, 12], [13, 14, 15])"
      ]
     },
     "execution_count": 22,
     "metadata": {},
     "output_type": "execute_result"
    }
   ],
   "source": [
    "def test9(*args):\n",
    "    return args\n",
    "test9([1,2,3,4,5],[6,7,8],[9,10,11,12],[13,14,15])"
   ]
  },
  {
   "cell_type": "code",
   "execution_count": 23,
   "id": "8274b30a",
   "metadata": {},
   "outputs": [],
   "source": [
    "def test13(*args):\n",
    "    l=[]\n",
    "    for i in args:\n",
    "        l.append(i)\n",
    "    return l"
   ]
  },
  {
   "cell_type": "code",
   "execution_count": 24,
   "id": "16abc60a",
   "metadata": {},
   "outputs": [
    {
     "data": {
      "text/plain": [
       "[[1, 2, 3], [4, 5, 6], [7, 8, 9], [10, 11, 12, 13]]"
      ]
     },
     "execution_count": 24,
     "metadata": {},
     "output_type": "execute_result"
    }
   ],
   "source": [
    "test13([1,2,3],[4,5,6],[7,8,9],[10,11,12,13])"
   ]
  },
  {
   "cell_type": "code",
   "execution_count": 25,
   "id": "4e656ca0",
   "metadata": {},
   "outputs": [],
   "source": [
    "### \n",
    "def test13(*args):\n",
    "    l=[]\n",
    "    for i in args:\n",
    "        l=l+i\n",
    "    return l"
   ]
  },
  {
   "cell_type": "code",
   "execution_count": 26,
   "id": "73d1683d",
   "metadata": {},
   "outputs": [
    {
     "data": {
      "text/plain": [
       "[1, 2, 3, 4, 5, 6, 7, 8, 9, 10, 11, 12, 13]"
      ]
     },
     "execution_count": 26,
     "metadata": {},
     "output_type": "execute_result"
    }
   ],
   "source": [
    "test13([1,2,3],[4,5,6],[7,8,9],[10,11,12,13])"
   ]
  },
  {
   "cell_type": "code",
   "execution_count": 27,
   "id": "48f8a237",
   "metadata": {},
   "outputs": [],
   "source": [
    "### \n",
    "def test14(*args):\n",
    "    lst =[]\n",
    "    for i in args:\n",
    "        if type(i)==list:\n",
    "            lst=lst+i\n",
    "    return lst"
   ]
  },
  {
   "cell_type": "code",
   "execution_count": 28,
   "id": "10cf26d5",
   "metadata": {},
   "outputs": [
    {
     "data": {
      "text/plain": [
       "[1, 2, 3, 4, 5, 6, 7, 8, 9, 10, 11, 12, 13]"
      ]
     },
     "execution_count": 28,
     "metadata": {},
     "output_type": "execute_result"
    }
   ],
   "source": [
    "test14('data science',[1,2,3],[4,5,6],[7,8,9],[10,11,12,13])"
   ]
  },
  {
   "cell_type": "code",
   "execution_count": 29,
   "id": "5c395f1c",
   "metadata": {},
   "outputs": [
    {
     "data": {
      "text/plain": [
       "{'a': 8, 'b': 17, 'c': 7, 'd': 67}"
      ]
     },
     "execution_count": 29,
     "metadata": {},
     "output_type": "execute_result"
    }
   ],
   "source": [
    "# kwargs --> Keyword Argument.\n",
    "# In kwargs, we can provide any number of argument \n",
    "# in function but in the form of \"Key & Value\" and \n",
    "# it returns Dictionary internally. \n",
    "def test16(**kwargs):\n",
    "    return kwargs\n",
    "test16(a=8, b=17, c= 7, d=67)"
   ]
  },
  {
   "cell_type": "markdown",
   "id": "af78c000",
   "metadata": {},
   "source": [
    "- `args returns Tuples`\n",
    "- `kwargs returns Keyword Dictionary`"
   ]
  },
  {
   "cell_type": "code",
   "execution_count": 30,
   "id": "706e550b",
   "metadata": {},
   "outputs": [
    {
     "data": {
      "text/plain": [
       "(4, 5, 6, 7, 'dst', [4, 5, 6, 7])"
      ]
     },
     "execution_count": 30,
     "metadata": {},
     "output_type": "execute_result"
    }
   ],
   "source": [
    "# Taking any datatype and should return all the values.\n",
    "def test17(*args):\n",
    "    return args\n",
    "test17(4,5,6,7,'dst',[4,5,6,7])"
   ]
  },
  {
   "cell_type": "code",
   "execution_count": 57,
   "id": "fcd25819",
   "metadata": {},
   "outputs": [
    {
     "data": {
      "text/plain": [
       "{int: [1, 2, 3], list: [[4, 5, 6]], str: ['hi', 'io'], complex: [(6+7j)]}"
      ]
     },
     "execution_count": 57,
     "metadata": {},
     "output_type": "execute_result"
    }
   ],
   "source": [
    "# Function which takes both args & kwargs both and which do many operations.\n",
    "# Q: It sould takes any number of *args and *kwargs and should have to do list value concatenation and return a 'list'. \n",
    "\n",
    "# LENGTHY\n",
    "def test18(*args,**kwargs):\n",
    "        a=[]\n",
    "        b=[]\n",
    "        c=[]\n",
    "        d=[]\n",
    "        e=[]\n",
    "        f=[]\n",
    "        for i in args, kwargs.items():\n",
    "            if type(i)==int:\n",
    "                a.append(i)\n",
    "            elif type(i)==float:\n",
    "                b.append(i)\n",
    "            elif type(i)==str:\n",
    "                c.append(i)\n",
    "            elif type(i)==tuple:\n",
    "                d.append(i)\n",
    "            elif type(i)==list:\n",
    "                e.append(i)\n",
    "            else:\n",
    "                f.append(i)\n",
    "        return a,b,c,d,e,f\n",
    "\n",
    "def funct1(*args):\n",
    "    dt = {} # blank dict\n",
    "    for i in args:\n",
    "        if type(i) in dt: # if that type is in dt,\n",
    "            dt[type(i)].append(i)\n",
    "        else:\n",
    "            dt[type(i)]=[i] # if dict type is not in then it creates that type \n",
    "    return dt\n",
    "funct1(1,2,3,[4,5,6],'hi','io',6+7j)"
   ]
  },
  {
   "cell_type": "code",
   "execution_count": 32,
   "id": "d02fdf31",
   "metadata": {},
   "outputs": [
    {
     "data": {
      "text/plain": [
       "([],\n",
       " [],\n",
       " [],\n",
       " [(1, 2, 3, 3.14, 2.67, 'mac', (47, 77), [22, 56])],\n",
       " [],\n",
       " [dict_items([('a', 99), ('b', 19)])])"
      ]
     },
     "execution_count": 32,
     "metadata": {},
     "output_type": "execute_result"
    }
   ],
   "source": [
    "test18(1,2,3, 3.14,2.67,'mac',(47,77),[22,56],a=99,b=19 )"
   ]
  },
  {
   "cell_type": "code",
   "execution_count": 45,
   "id": "401c8b19",
   "metadata": {},
   "outputs": [],
   "source": [
    "# Returns ONLY Lists.\n",
    "def funct2(*args,**kwargs):\n",
    "    d=[]\n",
    "    l =[i for i in args if type(i)==list]\n",
    "    # OR\n",
    "   #d=[i(i)for i in kwargs.items() if type(i)==list]] \n",
    "    for i in kwargs.items():\n",
    "        if type(i)==list:\n",
    "            d.append(i)\n",
    "    return l,d"
   ]
  },
  {
   "cell_type": "code",
   "execution_count": 46,
   "id": "d60fe414",
   "metadata": {},
   "outputs": [
    {
     "data": {
      "text/plain": [
       "([[22, 56]], [])"
      ]
     },
     "execution_count": 46,
     "metadata": {},
     "output_type": "execute_result"
    }
   ],
   "source": [
    "funct2(1,2,3, 3.14,2.67,'mac',(47,77),[22,56],a=99,b=19)"
   ]
  },
  {
   "cell_type": "code",
   "execution_count": 49,
   "id": "ea29701a",
   "metadata": {},
   "outputs": [
    {
     "data": {
      "text/plain": [
       "{'a': [1, 2, 3, 4, 5],\n",
       " 'b': 6,\n",
       " 'c': 6,\n",
       " 'd': 7,\n",
       " 'e': 78,\n",
       " 'f': 'machine',\n",
       " 'g': [4, 5, 6, 7]}"
      ]
     },
     "execution_count": 49,
     "metadata": {},
     "output_type": "execute_result"
    }
   ],
   "source": [
    "def test19(**kwargs):\n",
    "    return kwargs\n",
    "test19(a=[1,2,3,4,5],b=6,c=6,d=7,e=78,f='machine',g=[4,5,6,7])"
   ]
  },
  {
   "cell_type": "code",
   "execution_count": 55,
   "id": "22e39e18",
   "metadata": {},
   "outputs": [
    {
     "name": "stdout",
     "output_type": "stream",
     "text": [
      "I am able to find the name in input data \n",
      "\n",
      "['machine', 'learning']\n"
     ]
    },
    {
     "data": {
      "text/plain": [
       "{'a': [1, 2, 3, 4, 5],\n",
       " 'b': 6,\n",
       " 'c': 6,\n",
       " 'd': 7,\n",
       " 'e': 78,\n",
       " 'f': ['machine', 'learning'],\n",
       " 'g': [4, 5, 6, 7]}"
      ]
     },
     "execution_count": 55,
     "metadata": {},
     "output_type": "execute_result"
    }
   ],
   "source": [
    "def test19(**kwargs):\n",
    "    for i in kwargs.items():\n",
    "        if type(i[1])==list: # i[1] means first element of i\n",
    "            if 'machine' in i[1]:\n",
    "                print('I am able to find the name in input data ')\n",
    "                print()\n",
    "                print(i[1])\n",
    "    return kwargs\n",
    "test19(a=[1,2,3,4,5],b=6,c=6,d=7,e=78,f=['machine','learning'],g=[4,5,6,7])"
   ]
  },
  {
   "cell_type": "markdown",
   "id": "f82b5e4d",
   "metadata": {},
   "source": [
    "#### Part:2"
   ]
  },
  {
   "cell_type": "code",
   "execution_count": 65,
   "id": "3ebf0ccd",
   "metadata": {},
   "outputs": [
    {
     "name": "stdout",
     "output_type": "stream",
     "text": [
      "dict_items([('a', 'float'), ('b', 7), ('c', 3.14)])\n",
      "****************************************************\n",
      "('float', 7, 3.14)\n"
     ]
    }
   ],
   "source": [
    "def test_a(**kwargs):\n",
    "    print(kwargs.items())\n",
    "test_a(a='float',b=7,c=3.14)\n",
    "print('****************************************************')\n",
    "def test_b(*args):\n",
    "    print(args)\n",
    "test_b('float',7,3.14)"
   ]
  },
  {
   "cell_type": "markdown",
   "id": "4620e3d0",
   "metadata": {},
   "source": [
    "## `Anonymus Function / Lambda Expression`"
   ]
  },
  {
   "cell_type": "code",
   "execution_count": 67,
   "id": "1d2de67e",
   "metadata": {},
   "outputs": [
    {
     "data": {
      "text/plain": [
       "('x@y.com', 'FAS')"
      ]
     },
     "execution_count": 67,
     "metadata": {},
     "output_type": "execute_result"
    }
   ],
   "source": [
    "def test(name, mail):\n",
    "    return mail, name\n",
    "test('FAS', 'x@y.com')"
   ]
  },
  {
   "cell_type": "code",
   "execution_count": 68,
   "id": "a39e633b",
   "metadata": {},
   "outputs": [
    {
     "data": {
      "text/plain": [
       "('x@y.com', 'FAS', 'FASx@y.com')"
      ]
     },
     "execution_count": 68,
     "metadata": {},
     "output_type": "execute_result"
    }
   ],
   "source": [
    "def test(name, mail):\n",
    "    con = name+mail\n",
    "    return mail, name, con\n",
    "test('FAS', 'x@y.com')"
   ]
  },
  {
   "cell_type": "code",
   "execution_count": 71,
   "id": "3f2fde86",
   "metadata": {},
   "outputs": [
    {
     "data": {
      "text/plain": [
       "30"
      ]
     },
     "execution_count": 71,
     "metadata": {},
     "output_type": "execute_result"
    }
   ],
   "source": [
    "a=10\n",
    "b=20\n",
    "\n",
    "def test1(x,y):\n",
    "    return x+y\n",
    "test1(a,b)"
   ]
  },
  {
   "cell_type": "code",
   "execution_count": 76,
   "id": "764c0405",
   "metadata": {},
   "outputs": [
    {
     "data": {
      "text/plain": [
       "30"
      ]
     },
     "execution_count": 76,
     "metadata": {},
     "output_type": "execute_result"
    }
   ],
   "source": [
    "# Using Lambda.\n",
    "# Syntax----> keyword(lambda), argument(x,y), operation(x+y)\n",
    "m= lambda x,y : x+y\n",
    "m(a,b)"
   ]
  },
  {
   "cell_type": "code",
   "execution_count": 77,
   "id": "248e5611",
   "metadata": {},
   "outputs": [
    {
     "data": {
      "text/plain": [
       "'ahmdxy@.com'"
      ]
     },
     "execution_count": 77,
     "metadata": {},
     "output_type": "execute_result"
    }
   ],
   "source": [
    "m('ahmd','xy@.com')"
   ]
  },
  {
   "cell_type": "code",
   "execution_count": 79,
   "id": "f561f5d1",
   "metadata": {},
   "outputs": [
    {
     "name": "stdout",
     "output_type": "stream",
     "text": [
      "ml test\n"
     ]
    }
   ],
   "source": [
    "b='ml'\n",
    "c='test'\n",
    "n= lambda arg1, arg2 : print(arg1 ,arg2)\n",
    "\n",
    "n(b,c)"
   ]
  },
  {
   "cell_type": "code",
   "execution_count": 84,
   "id": "8d154800",
   "metadata": {},
   "outputs": [
    {
     "name": "stdout",
     "output_type": "stream",
     "text": [
      "10.0\n"
     ]
    }
   ],
   "source": [
    "r =10\n",
    "def test3(a,b):\n",
    "    r =a/b\n",
    "    print(r)\n",
    "test3(100,10)"
   ]
  },
  {
   "cell_type": "markdown",
   "id": "278ca59d",
   "metadata": {},
   "source": [
    "### `Doc String`.\n",
    " - Its an explaination for a particular function by a developer.\n",
    " - A doc string can be accessed using **shift+tab** or **help(funct_name)** on the function name."
   ]
  },
  {
   "cell_type": "code",
   "execution_count": 89,
   "id": "9bbc8991",
   "metadata": {},
   "outputs": [
    {
     "name": "stdout",
     "output_type": "stream",
     "text": [
      "This is to create a \"Doc String\" inside a fucntion.\n"
     ]
    }
   ],
   "source": [
    "def test4():\n",
    "    '''\n",
    "    This is a sample fucntion to understand the use and \n",
    "    implementation of a doc string concept inside a function.\n",
    "    \n",
    "    '''\n",
    "    \n",
    "    print('This is to create a \"Doc String\" inside a fucntion.')\n",
    "test4()"
   ]
  },
  {
   "cell_type": "code",
   "execution_count": 90,
   "id": "414e6920",
   "metadata": {},
   "outputs": [
    {
     "name": "stdout",
     "output_type": "stream",
     "text": [
      "Help on function test4 in module __main__:\n",
      "\n",
      "test4()\n",
      "    This is a sample fucntion to understand the use and \n",
      "    implementation of a doc string concept inside a function.\n",
      "\n"
     ]
    }
   ],
   "source": [
    "# A doc string can be accessed using \"shift+tab\" or \n",
    "# \"help(funct_name)\" on the function name.\n",
    "help(test4)"
   ]
  },
  {
   "cell_type": "code",
   "execution_count": 93,
   "id": "17669e79",
   "metadata": {},
   "outputs": [
    {
     "name": "stdout",
     "output_type": "stream",
     "text": [
      "This is to create a \"Doc String\" inside a fucntion.\n",
      "Help on function test4 in module __main__:\n",
      "\n",
      "test4(a, b)\n",
      "    This is a sample fucntion to understand the use and \n",
      "    implementation of a doc string concept inside a function.\n",
      "    a= This is a first parameter.\n",
      "    b= This too is a parameter which takes an arhument when\n",
      "    when funtion is called.\n",
      "\n",
      "None\n"
     ]
    }
   ],
   "source": [
    "def test4(a,b):\n",
    "    '''\n",
    "    This is a sample fucntion to understand the use and \n",
    "    implementation of a doc string concept inside a function.\n",
    "    a= This is a first parameter.\n",
    "    b= This too is a parameter which takes an arhument when\n",
    "    when funtion is called.\n",
    "    '''\n",
    "    \n",
    "    print('This is to create a \"Doc String\" inside a fucntion.')\n",
    "test4(a,b)\n",
    "print(help(test4))"
   ]
  },
  {
   "cell_type": "markdown",
   "id": "57ce3259",
   "metadata": {},
   "source": [
    "### `Iterators and Generators`"
   ]
  },
  {
   "cell_type": "raw",
   "id": "ab33a20d",
   "metadata": {},
   "source": [
    "# 'int' object is not iterable.\n",
    "a=10\n",
    "for i in a:\n",
    "    print(i)"
   ]
  },
  {
   "cell_type": "code",
   "execution_count": 97,
   "id": "add9e25d",
   "metadata": {},
   "outputs": [
    {
     "name": "stdout",
     "output_type": "stream",
     "text": [
      "' m '\n",
      "' a '\n",
      "' c '\n",
      "' h '\n"
     ]
    }
   ],
   "source": [
    "for i in 'mach':\n",
    "    print(\"'\",i,\"'\")"
   ]
  },
  {
   "cell_type": "code",
   "execution_count": 100,
   "id": "209af2c3",
   "metadata": {},
   "outputs": [],
   "source": [
    "# \"Iterator\" is a kind of a object/ entity out of which one can \n",
    "# able to extract data using indexes\n",
    "# \"Iterable\" is a kind of a object which is able to extract the data"
   ]
  },
  {
   "cell_type": "code",
   "execution_count": 109,
   "id": "34a7ec27",
   "metadata": {},
   "outputs": [],
   "source": [
    "s ='mach'\n",
    "s=iter(s)\n",
    "# \"str\" is not iterable, but when called using iter() it\n",
    "# becomes iterable object"
   ]
  },
  {
   "cell_type": "code",
   "execution_count": 110,
   "id": "af486508",
   "metadata": {},
   "outputs": [
    {
     "name": "stdout",
     "output_type": "stream",
     "text": [
      "m\n",
      "a\n",
      "c\n",
      "h\n"
     ]
    }
   ],
   "source": [
    "print(next(s))\n",
    "print(next(s))\n",
    "print(next(s))\n",
    "print(next(s))\n",
    "# If again next iterable is given then it gives 'Stop Iteration' error."
   ]
  },
  {
   "cell_type": "code",
   "execution_count": 2,
   "id": "3f029f74",
   "metadata": {},
   "outputs": [
    {
     "data": {
      "text/plain": [
       "[0, 1, 2, 3, 4]"
      ]
     },
     "execution_count": 2,
     "metadata": {},
     "output_type": "execute_result"
    }
   ],
   "source": [
    "def test4(n):\n",
    "    l = []\n",
    "    for i in range(n):\n",
    "        l.append(i)\n",
    "    return l\n",
    "test4(5)"
   ]
  },
  {
   "cell_type": "code",
   "execution_count": 11,
   "id": "5416a592",
   "metadata": {},
   "outputs": [
    {
     "name": "stdout",
     "output_type": "stream",
     "text": [
      "[0, 1, 2, 3, 4]\n"
     ]
    }
   ],
   "source": [
    "l =[]\n",
    "f = [l.append(i) for i in range(5)]\n",
    "print(l)"
   ]
  },
  {
   "cell_type": "markdown",
   "id": "44a3d1f9",
   "metadata": {},
   "source": [
    "### `Generator`"
   ]
  },
  {
   "cell_type": "code",
   "execution_count": 13,
   "id": "22305f52",
   "metadata": {},
   "outputs": [
    {
     "data": {
      "text/plain": [
       "<generator object test5 at 0x00000132F94869E0>"
      ]
     },
     "execution_count": 13,
     "metadata": {},
     "output_type": "execute_result"
    }
   ],
   "source": [
    "def test5(n):\n",
    "    for i in range(n):\n",
    "        yield i**3\n",
    "test5(30)"
   ]
  },
  {
   "cell_type": "markdown",
   "id": "848fa1c2",
   "metadata": {},
   "source": [
    "**Generator Object**:  \n",
    "- A generator is a special type of function which does not return a single value, instead, it returns an iterator object with a sequence of values. \n",
    "- In a generator function, a yield statement is used rather than a return statement.\n",
    "- **'Yield'**: It's a keyword used to return from a function without destroying the states of its local variable and when the function is called, the execution starts from the last yield statement."
   ]
  },
  {
   "cell_type": "code",
   "execution_count": 14,
   "id": "fadc99d1",
   "metadata": {},
   "outputs": [
    {
     "name": "stdout",
     "output_type": "stream",
     "text": [
      "0\n",
      "1\n",
      "8\n",
      "27\n",
      "64\n",
      "125\n",
      "216\n",
      "343\n",
      "512\n",
      "729\n",
      "1000\n",
      "1331\n",
      "1728\n",
      "2197\n",
      "2744\n",
      "3375\n",
      "4096\n",
      "4913\n",
      "5832\n",
      "6859\n",
      "8000\n",
      "9261\n",
      "10648\n",
      "12167\n",
      "13824\n",
      "15625\n",
      "17576\n",
      "19683\n",
      "21952\n",
      "24389\n"
     ]
    }
   ],
   "source": [
    "# 'yeild' keyword in the function helps to return the output with\n",
    "# with the help of statements defined in the specified function.\n",
    "for i in test5(30):\n",
    "    print(i)"
   ]
  },
  {
   "cell_type": "markdown",
   "id": "e61944c0",
   "metadata": {},
   "source": [
    "### `Fibonacci Series`"
   ]
  },
  {
   "cell_type": "code",
   "execution_count": 30,
   "id": "29b70a6d",
   "metadata": {},
   "outputs": [],
   "source": [
    "# Generating a Fibonacci Series.\n",
    "# Method:1\n",
    "def genfib(n):\n",
    "    a=0\n",
    "    b=1\n",
    "    output = []\n",
    "    for i in range(10):\n",
    "        output.append(a)\n",
    "        a,b=b, a+b # Inline operation\n",
    "    return output"
   ]
  },
  {
   "cell_type": "code",
   "execution_count": 31,
   "id": "36c184a6",
   "metadata": {},
   "outputs": [
    {
     "data": {
      "text/plain": [
       "[0, 1, 1, 2, 3, 5, 8, 13, 21, 34]"
      ]
     },
     "execution_count": 31,
     "metadata": {},
     "output_type": "execute_result"
    }
   ],
   "source": [
    "genfib(4)"
   ]
  },
  {
   "cell_type": "code",
   "execution_count": 36,
   "id": "9096beaa",
   "metadata": {},
   "outputs": [
    {
     "data": {
      "text/plain": [
       "<generator object genfib at 0x00000132F949DD60>"
      ]
     },
     "execution_count": 36,
     "metadata": {},
     "output_type": "execute_result"
    }
   ],
   "source": [
    "# Fibonacci Series using Generator.\n",
    "# Method:2\n",
    "def genfib(n):\n",
    "    a=1\n",
    "    b=1\n",
    "    for i in range(7):\n",
    "        yield a\n",
    "        a ,b =b, a+b\n",
    "genfib(6)    "
   ]
  },
  {
   "cell_type": "code",
   "execution_count": 37,
   "id": "63de3fd7",
   "metadata": {},
   "outputs": [
    {
     "name": "stdout",
     "output_type": "stream",
     "text": [
      "1\n",
      "1\n",
      "2\n",
      "3\n",
      "5\n",
      "8\n",
      "13\n"
     ]
    }
   ],
   "source": [
    "for i in genfib(10):\n",
    "    print(i)"
   ]
  },
  {
   "cell_type": "markdown",
   "id": "5d75ef66",
   "metadata": {},
   "source": [
    "## `File Operations`"
   ]
  },
  {
   "cell_type": "code",
   "execution_count": 1,
   "id": "615d8c0f",
   "metadata": {},
   "outputs": [],
   "source": [
    " # Creating a New File.\n",
    "f= open('demo.txt', 'w') # 'w' is one of the mode, which means writing a file."
   ]
  },
  {
   "cell_type": "code",
   "execution_count": 2,
   "id": "7f595007",
   "metadata": {},
   "outputs": [
    {
     "data": {
      "text/plain": [
       "39"
      ]
     },
     "execution_count": 2,
     "metadata": {},
     "output_type": "execute_result"
    }
   ],
   "source": [
    "f.write(\" This is a text file to write the data.\")"
   ]
  },
  {
   "cell_type": "code",
   "execution_count": 3,
   "id": "a652f443",
   "metadata": {},
   "outputs": [],
   "source": [
    "f.close() # This closes the file which we opened initially."
   ]
  },
  {
   "cell_type": "code",
   "execution_count": 4,
   "id": "8fb7c787",
   "metadata": {},
   "outputs": [],
   "source": [
    "f =open('demo.txt')"
   ]
  },
  {
   "cell_type": "code",
   "execution_count": 5,
   "id": "fc2e4dd5",
   "metadata": {},
   "outputs": [
    {
     "data": {
      "text/plain": [
       "' This is a text file to write the data.'"
      ]
     },
     "execution_count": 5,
     "metadata": {},
     "output_type": "execute_result"
    }
   ],
   "source": [
    "f.read()"
   ]
  },
  {
   "cell_type": "code",
   "execution_count": 6,
   "id": "ab05c90b",
   "metadata": {},
   "outputs": [
    {
     "data": {
      "text/plain": [
       "10"
      ]
     },
     "execution_count": 6,
     "metadata": {},
     "output_type": "execute_result"
    }
   ],
   "source": [
    "f.seek(10) # It seeks data from 10th position. Cursor will be at 10th position."
   ]
  },
  {
   "cell_type": "code",
   "execution_count": 7,
   "id": "5ed4c6a2",
   "metadata": {},
   "outputs": [
    {
     "data": {
      "text/plain": [
       "' text file to write the data.'"
      ]
     },
     "execution_count": 7,
     "metadata": {},
     "output_type": "execute_result"
    }
   ],
   "source": [
    "f.read() # Since seek is given at 10, it starts reading from 10th position."
   ]
  }
 ],
 "metadata": {
  "kernelspec": {
   "display_name": "Python 3 (ipykernel)",
   "language": "python",
   "name": "python3"
  },
  "language_info": {
   "codemirror_mode": {
    "name": "ipython",
    "version": 3
   },
   "file_extension": ".py",
   "mimetype": "text/x-python",
   "name": "python",
   "nbconvert_exporter": "python",
   "pygments_lexer": "ipython3",
   "version": "3.9.7"
  }
 },
 "nbformat": 4,
 "nbformat_minor": 5
}
