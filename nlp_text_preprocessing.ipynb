{
 "cells": [
  {
   "cell_type": "markdown",
   "id": "efadb202",
   "metadata": {},
   "source": [
    "## `Text Processing`"
   ]
  },
  {
   "cell_type": "code",
   "execution_count": 1,
   "id": "d5d27c34",
   "metadata": {},
   "outputs": [],
   "source": [
    "# NLTK ---> Natural Language Tool Kit."
   ]
  },
  {
   "cell_type": "code",
   "execution_count": 1,
   "id": "f60c5b96",
   "metadata": {},
   "outputs": [],
   "source": [
    "# Importing Necessary Packages.\n",
    "import nltk\n",
    "import string\n",
    "import re"
   ]
  },
  {
   "cell_type": "markdown",
   "id": "c0e8f86b",
   "metadata": {},
   "source": [
    "### `Text Lowercase.`\n",
    "- Lowercasing is necessary to reduce the size of the vocabulary of our texts."
   ]
  },
  {
   "cell_type": "code",
   "execution_count": 5,
   "id": "6877f1bd",
   "metadata": {},
   "outputs": [
    {
     "data": {
      "text/plain": [
       "'the climate is windy and cloudy. there is possibility of rain in the city'"
      ]
     },
     "execution_count": 5,
     "metadata": {},
     "output_type": "execute_result"
    }
   ],
   "source": [
    "def lower_case(text):\n",
    "    return text.lower()\n",
    "\n",
    "inp_str = 'The Climate is Windy and Cloudy. There is Possibility of Rain IN the City'\n",
    "lower_case(inp_str)"
   ]
  },
  {
   "cell_type": "markdown",
   "id": "97554785",
   "metadata": {},
   "source": [
    "### `Numbers Removal`\n",
    "- Numerical digits should be removed as a part of preprocessing. For this we use Regular Expressions(re) to remove the numbers."
   ]
  },
  {
   "cell_type": "code",
   "execution_count": 4,
   "id": "47ad3f27",
   "metadata": {},
   "outputs": [],
   "source": [
    "def number_removal(text):\n",
    "    log = re.sub(r'\\d+',' ', text) # sub means subtract, 'd' is the pattern to remove numbers,\n",
    "    return log"
   ]
  },
  {
   "cell_type": "code",
   "execution_count": 5,
   "id": "b55250af",
   "metadata": {},
   "outputs": [
    {
     "data": {
      "text/plain": [
       "'We bought   dozens of mangoes which are totally   of it and shared those among   members'"
      ]
     },
     "execution_count": 5,
     "metadata": {},
     "output_type": "execute_result"
    }
   ],
   "source": [
    "inp_num = 'We bought 6 dozens of mangoes which are totally 72 of it and shared those among 9 members'\n",
    "number_removal(inp_num)"
   ]
  },
  {
   "cell_type": "markdown",
   "id": "9864ce33",
   "metadata": {},
   "source": [
    "- Numbers can be converted into texts using a `'inflect'` library."
   ]
  },
  {
   "cell_type": "code",
   "execution_count": 6,
   "id": "4187fddb",
   "metadata": {},
   "outputs": [
    {
     "data": {
      "text/plain": [
       "'We bought six dozens of mangoes which are totally seventy-two of it'"
      ]
     },
     "execution_count": 6,
     "metadata": {},
     "output_type": "execute_result"
    }
   ],
   "source": [
    "import inflect\n",
    "f =inflect.engine()\n",
    "\n",
    "# Converting number to text.\n",
    "def number_text(text):\n",
    "    temp_string = text.split() # Individually splitting into each unit\n",
    "    new_str = []\n",
    "\n",
    "    for word in temp_string:\n",
    "        # If text is a digit, then it converts that to a number and then appends to 'new_str' list.\n",
    "        if word.isdigit(): # If a word is a digit,\n",
    "            temp = f.number_to_words(word)\n",
    "            new_str.append(temp)\n",
    "        # else it directly appends to the list.    \n",
    "        else:\n",
    "            new_str.append(word)\n",
    "            \n",
    "    # Joining the new texts as it was earlier.\n",
    "    temp_str = ' '.join(new_str)\n",
    "    return temp_str\n",
    "\n",
    "inp_num_str = 'We bought 6 dozens of mangoes which are totally 72 of it'\n",
    "number_text(inp_num_str)"
   ]
  },
  {
   "cell_type": "markdown",
   "id": "9ddbf36d",
   "metadata": {},
   "source": [
    "### `Punctuation Removal.`\n",
    "-  We ideally remove punctuations because we donot have different form of the same word. If we don't remove, then same words with punctuation will be treated seperately."
   ]
  },
  {
   "cell_type": "code",
   "execution_count": 7,
   "id": "dad4d723",
   "metadata": {},
   "outputs": [
    {
     "data": {
      "text/plain": [
       "'Hey Are you excited After a week we will be in London'"
      ]
     },
     "execution_count": 7,
     "metadata": {},
     "output_type": "execute_result"
    }
   ],
   "source": [
    "def punct_removal(text):\n",
    "    translator = str.maketrans('','', string.punctuation) # maketrans function and using ''.punctuation' parameter we remove punctuations. \n",
    "    return text.translate(translator)\n",
    "\n",
    "inp_punct = 'Hey!, Are you excited?, After a week, we will be in London!!!'\n",
    "punct_removal(inp_punct)\n",
    "\n",
    "# In '.maketrans' means make make translation. It has many parameters inside this function."
   ]
  },
  {
   "cell_type": "markdown",
   "id": "3a974986",
   "metadata": {},
   "source": [
    "### `Removal of Default Stopwords.`\n",
    "- Stopwords are the words that don't contribute to the meaning of the sentances. NLTK has set of default stopwords and can be used to remove stopwords from our text and return a list of word tokens."
   ]
  },
  {
   "cell_type": "code",
   "execution_count": null,
   "id": "69be583f",
   "metadata": {},
   "outputs": [],
   "source": [
    "stop_words = set(stopwords.words('english'))\n",
    "filtered_text =[]\n",
    "for word in word_token():\n",
    "    if word not in stop_words:\n",
    "        filtered_text.append(word)     "
   ]
  },
  {
   "cell_type": "code",
   "execution_count": 8,
   "id": "0eb1276e",
   "metadata": {},
   "outputs": [
    {
     "name": "stdout",
     "output_type": "stream",
     "text": [
      "{'most', 'some', 'being', 'me', 'its', 'd', \"won't\", 'am', 'are', 'each', \"mustn't\", 'yourselves', 'than', 'myself', 'was', 'had', 'very', 'be', 'mightn', 'into', 'that', \"doesn't\", 'up', \"isn't\", 'wouldn', 'don', 'i', 'a', 'by', 'same', 'been', 'but', 'during', 'under', \"don't\", 'couldn', \"you'd\", 'll', 'ma', 'won', 'after', 'her', 'an', 'while', 'have', 'other', \"didn't\", \"should've\", 'shouldn', 'own', 'about', 'out', 'the', 'yours', \"shan't\", \"mightn't\", 'who', 'do', 'why', 'these', 'should', 'were', \"aren't\", 'ours', 'haven', 'because', 'for', 'will', 'above', \"that'll\", \"it's\", 'as', 'himself', 'having', 'more', 'not', 'before', 've', 'off', \"couldn't\", 'if', 'on', 'to', 'doing', 'down', 'here', 'and', 'just', 'doesn', \"wasn't\", 'themselves', \"wouldn't\", 'at', 'over', 'she', 'so', 'didn', 'in', 'or', 'between', 'herself', 'has', \"hadn't\", 'from', 'no', 'only', 'further', \"needn't\", 's', 'is', 'y', 'ourselves', 'below', 'through', 'such', 'wasn', 'isn', 'hers', 'him', 'nor', 'this', 'again', 'my', 'hadn', 'weren', 'how', 'their', 'theirs', 'can', 'they', 'those', 'your', 'of', 'too', \"hasn't\", 'when', 'you', 'mustn', 'with', 'all', 'does', 'which', 'them', \"shouldn't\", 'o', \"you'll\", 'few', \"weren't\", 'what', 'yourself', \"she's\", 'it', 'there', 't', 'did', 'until', 're', 'now', 'any', 'shan', 'we', 'itself', 'aren', 'where', 'against', 'whom', \"you've\", 'his', 'm', 'hasn', \"haven't\", 'needn', 'once', \"you're\", 'ain', 'both', 'our', 'then', 'he'}\n"
     ]
    },
    {
     "name": "stderr",
     "output_type": "stream",
     "text": [
      "[nltk_data] Error loading stopwords: <urlopen error [WinError 10054]\n",
      "[nltk_data]     An existing connection was forcibly closed by the\n",
      "[nltk_data]     remote host>\n",
      "[nltk_data] Error loading punkt: <urlopen error [WinError 10054] An\n",
      "[nltk_data]     existing connection was forcibly closed by the remote\n",
      "[nltk_data]     host>\n"
     ]
    },
    {
     "data": {
      "text/plain": [
       "'Data science insights data . It new technology IT industry'"
      ]
     },
     "execution_count": 8,
     "metadata": {},
     "output_type": "execute_result"
    }
   ],
   "source": [
    "from nltk.corpus import stopwords # corpus means dataset.\n",
    "from nltk.tokenize import word_tokenize\n",
    "# 'Word tokenize': We use the word_tokenize() method to split a sentence into tokens or words.\n",
    "# 'Sentence tokenize': We use the sent_tokenize() method to split a document or paragraph into sentences.\n",
    "\n",
    "nltk.download('stopwords')\n",
    "nltk.download('punkt')\n",
    "\n",
    "# Removing stopwords using function.\n",
    "def stopwords_removal(text):\n",
    "    stop_words = set(stopwords.words('english'))\n",
    "    word_tokens = word_tokenize(text)\n",
    "    filtered_text = [word for word in word_tokens if word not in stop_words]\n",
    "    filtered_text = ' '.join(filtered_text) # To join the tokens.\n",
    "    print(stop_words)\n",
    "    return filtered_text\n",
    "\n",
    "inp_word = 'Data science is all about insights from the data. It is the new technology in the IT industry'\n",
    "stopwords_removal(inp_word)"
   ]
  },
  {
   "cell_type": "markdown",
   "id": "51141242",
   "metadata": {},
   "source": [
    "### `Stemming.`\n",
    "- Stemming is the process of getting the `root form` of the word. Root or Stem is the part to which inflextional affixes (such as ed, ize, es) etc. are added. We create the stem words by removing the prefix of suffix of the word.\n",
    "- Here it converts the words to it's base form. \n",
    "- For instance: Mangoes ---> Mango\n",
    "                Boys ---> Boy\n",
    "                Going ---> Go\n",
    "  \n",
    "- The sentances need to be converted into tokens. These tokens again it can be converted into thier root form.The different types of Stemming are Porter Stemming, Snowball Stemming and Lancaster Stemming. Generally Porter Stemming is preferred."
   ]
  },
  {
   "cell_type": "code",
   "execution_count": 9,
   "id": "32438279",
   "metadata": {},
   "outputs": [
    {
     "data": {
      "text/plain": [
       "['data',\n",
       " 'scienc',\n",
       " 'is',\n",
       " 'the',\n",
       " 'new',\n",
       " 'revolut',\n",
       " 'in',\n",
       " 'the',\n",
       " 'world',\n",
       " ',',\n",
       " 'for',\n",
       " 'a',\n",
       " 'particular',\n",
       " 'day',\n",
       " 'an',\n",
       " 'individu',\n",
       " 'gener',\n",
       " 'terabyt',\n",
       " 'of',\n",
       " 'the',\n",
       " 'data']"
      ]
     },
     "execution_count": 9,
     "metadata": {},
     "output_type": "execute_result"
    }
   ],
   "source": [
    "from nltk.stem.porter import PorterStemmer\n",
    "from nltk.tokenize import word_tokenize\n",
    "\n",
    "stem_1 = PorterStemmer()\n",
    "\n",
    "def stem_words(text):\n",
    "    word_tokens = word_tokenize(text)\n",
    "    stems = [stem_1.stem(word) for word in word_tokens]\n",
    "    return stems\n",
    "\n",
    "inp_stem = \"Data science is the new revolutions in the world, for a particular day an individual generates terabytes of the data\"\n",
    "stem_words(inp_stem)"
   ]
  },
  {
   "cell_type": "markdown",
   "id": "a76d56ba",
   "metadata": {},
   "source": [
    "### `Lemmatization.`\n",
    "- Lemmatization is similar to stemming but the only difference is lemmatization ensures that root word belongs to the same language. In NLTK we use `'WordLemmatizer'` to get the lemmas of words. We need to provide the context for the lemmatization hence pos (parts-of-speech)  is added as a parameter."
   ]
  },
  {
   "cell_type": "code",
   "execution_count": 10,
   "id": "ef75f59c",
   "metadata": {},
   "outputs": [
    {
     "name": "stderr",
     "output_type": "stream",
     "text": [
      "[nltk_data] Error loading wordnet: <urlopen error [WinError 10054] An\n",
      "[nltk_data]     existing connection was forcibly closed by the remote\n",
      "[nltk_data]     host>\n"
     ]
    },
    {
     "data": {
      "text/plain": [
       "['Data',\n",
       " 'scientist',\n",
       " 'profession',\n",
       " 'be',\n",
       " 'the',\n",
       " 'latest',\n",
       " 'trend',\n",
       " 'occupation',\n",
       " 'in',\n",
       " 'the',\n",
       " 'world',\n",
       " ',',\n",
       " 'many',\n",
       " 'countries',\n",
       " 'have',\n",
       " 'a',\n",
       " 'huge',\n",
       " 'requirments',\n",
       " 'in',\n",
       " 'their',\n",
       " 'company']"
      ]
     },
     "execution_count": 10,
     "metadata": {},
     "output_type": "execute_result"
    }
   ],
   "source": [
    "from nltk.stem import wordnet\n",
    "from nltk.tokenize import word_tokenize\n",
    "\n",
    "lemma = wordnet.WordNetLemmatizer()\n",
    "nltk.download('wordnet')\n",
    "\n",
    "# Lemmatize string.\n",
    "def word_lemmatize(text):\n",
    "    word_tokens = word_tokenize(text) # tokening the sentance.\n",
    "    \n",
    "    lemmas = [lemma.lemmatize(word, pos = 'v') for word in word_tokens]\n",
    "    return lemmas\n",
    "\n",
    "inp_lemma = \"Data scientist profession is the latest trending occupation in the world, many countries has a huge requirments in their companies\"\n",
    "word_lemmatize(inp_lemma)"
   ]
  },
  {
   "cell_type": "markdown",
   "id": "cfbdd00c",
   "metadata": {},
   "source": [
    "### `Parts of Speech(POS) Tagging`.\n",
    "- The pos explains how a word can be used in a sentance. Each word has different contexts and semantic meanings. The basic NLP models like bag-of-words(bow) fails to identify these relation between the words. For that we use pos tagging to mark a word to its pos tag based on its context in the data. POS is also used to extract the relationship between the words."
   ]
  },
  {
   "cell_type": "code",
   "execution_count": 11,
   "id": "4b38f0f8",
   "metadata": {},
   "outputs": [
    {
     "name": "stderr",
     "output_type": "stream",
     "text": [
      "[nltk_data] Error loading averaged_perceptron_tagger: <urlopen error\n",
      "[nltk_data]     [WinError 10054] An existing connection was forcibly\n",
      "[nltk_data]     closed by the remote host>\n"
     ]
    },
    {
     "data": {
      "text/plain": [
       "[('Are', 'NNP'),\n",
       " ('you', 'PRP'),\n",
       " ('afraid', 'IN'),\n",
       " ('of', 'IN'),\n",
       " ('Artificial', 'NNP'),\n",
       " ('Intelligence', 'NNP'),\n",
       " ('?', '.')]"
      ]
     },
     "execution_count": 11,
     "metadata": {},
     "output_type": "execute_result"
    }
   ],
   "source": [
    "from nltk.tokenize import word_tokenize\n",
    "from nltk import pos_tag\n",
    "nltk.download('averaged_perceptron_tagger')\n",
    "\n",
    "# converting text to word_tokens with their tags.\n",
    "def pos_tags(text):\n",
    "    word_tokens = word_tokenize(text)\n",
    "    return pos_tag(word_tokens)\n",
    "\n",
    "pos_tags('Are you afraid of Artificial Intelligence?')"
   ]
  },
  {
   "cell_type": "raw",
   "id": "ce717659",
   "metadata": {},
   "source": [
    "NNP- Proper Noun\n",
    "PRP- Personal Noun\n",
    "IS- Preprosition"
   ]
  },
  {
   "cell_type": "markdown",
   "id": "42f3a5f9",
   "metadata": {},
   "source": [
    "### `Chunking.`\n",
    "- Chunking the process of extracting phrases from the Unstructured text and returns them in structural format. It is also called as `Shallow Parsing`. It groups words into chunks mainly for noun phrases. It can also achieved using regex also."
   ]
  },
  {
   "cell_type": "code",
   "execution_count": 12,
   "id": "cc652525",
   "metadata": {},
   "outputs": [
    {
     "name": "stdout",
     "output_type": "stream",
     "text": [
      "(S\n",
      "  (NP the/DT little/JJ red/JJ parrot/NN)\n",
      "  is/VBZ\n",
      "  flying/VBG\n",
      "  in/IN\n",
      "  (NP the/DT sky/NN))\n",
      "(NP the/DT little/JJ red/JJ parrot/NN)\n",
      "(NP the/DT sky/NN)\n"
     ]
    }
   ],
   "source": [
    "from nltk.tokenize import word_tokenize\n",
    "from nltk import pos_tag\n",
    "\n",
    "def chunking(text, grammar):\n",
    "    word_tokens = word_tokenize(text)\n",
    "    \n",
    "    # labeling words with pos\n",
    "    word_pos = pos_tag(word_tokens)\n",
    "    \n",
    "    # creating a chunk parser using grammar\n",
    "    chunk_parser = nltk.RegexpParser(grammar) \n",
    "    \n",
    "    # Testing it with list of word tokens with tagged pos\n",
    "    tree = chunk_parser.parse(word_pos)\n",
    "    \n",
    "    for subtree in tree.subtrees():\n",
    "        print(subtree)\n",
    "    # tree.draw()\n",
    "\n",
    "inp_chunk = 'the little red parrot is flying in the sky'\n",
    "grammar = \"NP: {<DT>?<JJ>*<NN>}\"\n",
    "chunking(inp_chunk,grammar)"
   ]
  },
  {
   "cell_type": "markdown",
   "id": "b7009153",
   "metadata": {},
   "source": [
    "JJ means Adjective\n",
    "NN means Noun\n",
    "VBZ means Verb"
   ]
  },
  {
   "cell_type": "markdown",
   "id": "18635c35",
   "metadata": {},
   "source": [
    "### `Name Entity Recognition`\n",
    "- `NER` is used to extract information from unstructured text. It is used to classify the entities which are present in text into different categories like person, organisation, event, place etc. This provides detailed insights of the text and the relationship between the different entities."
   ]
  },
  {
   "cell_type": "code",
   "execution_count": 13,
   "id": "e5045a9e",
   "metadata": {
    "scrolled": true
   },
   "outputs": [
    {
     "name": "stderr",
     "output_type": "stream",
     "text": [
      "[nltk_data] Error loading maxent_ne_chunker: <urlopen error [WinError\n",
      "[nltk_data]     10054] An existing connection was forcibly closed by\n",
      "[nltk_data]     the remote host>\n"
     ]
    },
    {
     "name": "stdout",
     "output_type": "stream",
     "text": [
      "(S\n",
      "  (PERSON Elon/NNP)\n",
      "  (ORGANIZATION Musk/NNP)\n",
      "  is/VBZ\n",
      "  hte/JJ\n",
      "  richest/JJS\n",
      "  person/NN\n",
      "  in/IN\n",
      "  the/DT\n",
      "  world/NN\n",
      "  ./.\n",
      "  He/PRP\n",
      "  owns/VBZ\n",
      "  (PERSON Tesla/NNP)\n",
      "  ,/,\n",
      "  (PERSON Twitter/NNP)\n",
      "  ,/,\n",
      "  (ORGANIZATION SpaceX/NNP)\n",
      "  ,/,\n",
      "  (PERSON Neuralink/NNP)\n",
      "  and/CC\n",
      "  many/JJ\n",
      "  more/JJR)\n"
     ]
    },
    {
     "name": "stderr",
     "output_type": "stream",
     "text": [
      "[nltk_data] Error loading words: <urlopen error [WinError 10054] An\n",
      "[nltk_data]     existing connection was forcibly closed by the remote\n",
      "[nltk_data]     host>\n"
     ]
    }
   ],
   "source": [
    "from nltk.tokenize import word_tokenize\n",
    "from nltk import pos_tag, ne_chunk\n",
    "nltk.download('maxent_ne_chunker')\n",
    "nltk.download('words')\n",
    "\n",
    "def word_ner(text):\n",
    "    word_token = word_tokenize(text)\n",
    "    \n",
    "    word_pos = pos_tag(word_token)\n",
    "    print(ne_chunk(word_pos))\n",
    "    \n",
    "inp_ner = ' Elon Musk is hte richest person in the world. He owns Tesla,Twitter, SpaceX, Neuralink and many more'\n",
    "word_ner(inp_ner)"
   ]
  },
  {
   "cell_type": "code",
   "execution_count": 14,
   "id": "9a7a1025",
   "metadata": {},
   "outputs": [],
   "source": [
    "### `More on 'Regex'`"
   ]
  },
  {
   "cell_type": "markdown",
   "id": "a5705f96",
   "metadata": {},
   "source": [
    "### `Text Normalization`.\n",
    "- Text normalization is the process of transforming the text into the canonical (standard) form. For instance 'ok' and 'K' can be transformed into 'Okay'. 'pre-processing', ''prepricessing' and 'pre processing' into just \"preprocessing\".\n",
    "- Text normalization is much useful in dealing with social media text /comments in blogs, text messages etc. where many abbreviations, shortcuts, misspell etc happens.\n",
    "\n",
    "\n",
    "  - 2moro, 2mrw, 2morrow, 2mrrw, tmrw, tomrw ----> Tomorrow\n",
    "  - b4 -----> Before\n",
    "  - otw-----> On the way\n",
    "  - :), :-)---> Smile\n",
    "\n",
    "**`Effects of Normalization`**\n",
    "- It's more effective for analyzing unstructured data. It helps in topic extraction where near synonyms and spelling differences are common.\n",
    "- Unlike stemming and lemmatization, there is no standard way to normalize the text.\n",
    "- Some of the general methods of text normalization includes 'dictionary mapping', 'statistical machine translation (SMT)' and spelling-correction based approaches."
   ]
  },
  {
   "cell_type": "markdown",
   "id": "d857e69b",
   "metadata": {},
   "source": [
    "### `Word Count`.\n",
    "- With this it helps to understand and find how many times each tokens(words) appeared in the text."
   ]
  },
  {
   "cell_type": "code",
   "execution_count": 15,
   "id": "96f51770",
   "metadata": {},
   "outputs": [],
   "source": [
    "from nltk.tokenize.regexp import WhitespaceTokenizer\n",
    "a = \"'There is no need to panic. We need to work together, take small yet important measures to ensure self-protection', the prime minister tweeted\""
   ]
  },
  {
   "cell_type": "code",
   "execution_count": 16,
   "id": "88db208a",
   "metadata": {},
   "outputs": [
    {
     "name": "stdout",
     "output_type": "stream",
     "text": [
      "[\"'There\", 'is', 'no', 'need', 'to', 'panic.', 'We', 'need', 'to', 'work', 'together,', 'take', 'small', 'yet', 'important', 'measures', 'to', 'ensure', \"self-protection',\", 'the', 'prime', 'minister', 'tweeted']\n",
      "*********************************************************\n",
      "23\n"
     ]
    }
   ],
   "source": [
    "tokens = WhitespaceTokenizer().tokenize(a)\n",
    "print(tokens)\n",
    "print('*********************************************************')\n",
    "print(len(tokens))"
   ]
  },
  {
   "cell_type": "code",
   "execution_count": 17,
   "id": "46e4f923",
   "metadata": {},
   "outputs": [
    {
     "name": "stdout",
     "output_type": "stream",
     "text": [
      "20\n"
     ]
    }
   ],
   "source": [
    "# This tries to remove duplicates.\n",
    "my_vocab = set(tokens)\n",
    "print(len(my_vocab))"
   ]
  },
  {
   "cell_type": "code",
   "execution_count": 18,
   "id": "e2e166dc",
   "metadata": {},
   "outputs": [],
   "source": [
    "# Here we'll try word punctuation tokenizer.\n",
    "from nltk.tokenize import WordPunctTokenizer"
   ]
  },
  {
   "cell_type": "code",
   "execution_count": 19,
   "id": "c523e3e6",
   "metadata": {},
   "outputs": [
    {
     "name": "stdout",
     "output_type": "stream",
     "text": [
      "29\n",
      "***************\n",
      "[\"'\", 'There', 'is', 'no', 'need', 'to', 'panic', '.', 'We', 'need', 'to', 'work', 'together', ',', 'take', 'small', 'yet', 'important', 'measures', 'to', 'ensure', 'self', '-', 'protection', \"',\", 'the', 'prime', 'minister', 'tweeted']\n"
     ]
    }
   ],
   "source": [
    "word_punct = WordPunctTokenizer().tokenize(a)\n",
    "print(len(word_punct))\n",
    "print('***************')\n",
    "print(word_punct)"
   ]
  },
  {
   "cell_type": "markdown",
   "id": "11673bcf",
   "metadata": {},
   "source": [
    "- Here it includes punctuation symbols as an individual token"
   ]
  },
  {
   "cell_type": "markdown",
   "id": "ec66548b",
   "metadata": {},
   "source": [
    "### `Frequency Distribution `.\n",
    "- This basically counts the words present in our text.\n",
    "- It tells how many times particular word is occuring out of total provided words."
   ]
  },
  {
   "cell_type": "code",
   "execution_count": 20,
   "id": "58511178",
   "metadata": {},
   "outputs": [
    {
     "name": "stdout",
     "output_type": "stream",
     "text": [
      "<FreqDist with 23 samples and 27 outcomes>\n"
     ]
    }
   ],
   "source": [
    "a = \"'There is no need to panic. We need to work together, take small yet important measures to ensure self-protection', the prime minister tweeted\"\n",
    "freq_dist = nltk.FreqDist(word_tokenize(a))\n",
    "print(freq_dist)"
   ]
  },
  {
   "cell_type": "code",
   "execution_count": 21,
   "id": "dc9f93e3",
   "metadata": {},
   "outputs": [
    {
     "name": "stdout",
     "output_type": "stream",
     "text": [
      "1\n",
      "3\n",
      "1\n",
      "0\n"
     ]
    }
   ],
   "source": [
    "print(freq_dist['panic'])\n",
    "print(freq_dist['to'])\n",
    "print(freq_dist['the'])\n",
    "print(freq_dist['person'])"
   ]
  },
  {
   "cell_type": "code",
   "execution_count": 22,
   "id": "aeb94450",
   "metadata": {},
   "outputs": [
    {
     "name": "stdout",
     "output_type": "stream",
     "text": [
      "dict_keys([\"'There\", 'is', 'no', 'need', 'to', 'panic', '.', 'We', 'work', 'together', ',', 'take', 'small', 'yet', 'important', 'measures', 'ensure', 'self-protection', \"'\", 'the', 'prime', 'minister', 'tweeted'])\n"
     ]
    }
   ],
   "source": [
    "# This provides all the tokenized data.\n",
    "print(freq_dist.keys())"
   ]
  },
  {
   "cell_type": "code",
   "execution_count": 23,
   "id": "3f2500c5",
   "metadata": {},
   "outputs": [
    {
     "name": "stdout",
     "output_type": "stream",
     "text": [
      "1\n"
     ]
    }
   ],
   "source": [
    "print(freq_dist['.'])"
   ]
  },
  {
   "cell_type": "markdown",
   "id": "be1a6db4",
   "metadata": {},
   "source": [
    "### `Frequency Distribution Plot`."
   ]
  },
  {
   "cell_type": "code",
   "execution_count": 24,
   "id": "9acfbc35",
   "metadata": {},
   "outputs": [
    {
     "data": {
      "image/png": "[encoded data removed]",
      "text/plain": [
       "<Figure size 864x432 with 1 Axes>"
      ]
     },
     "metadata": {
      "needs_background": "light"
     },
     "output_type": "display_data"
    },
    {
     "data": {
      "text/plain": [
       "<AxesSubplot:xlabel='Samples', ylabel='Counts'>"
      ]
     },
     "execution_count": 24,
     "metadata": {},
     "output_type": "execute_result"
    }
   ],
   "source": [
    "import matplotlib.pyplot as plt\n",
    "plt.figure(figsize = (12,6))\n",
    "freq_dist.plot()"
   ]
  },
  {
   "cell_type": "markdown",
   "id": "729a9084",
   "metadata": {},
   "source": [
    "### `Personal Frequency Distribution`.\n",
    "- It's helpful when we need to do frequency distribution based on personal text."
   ]
  },
  {
   "cell_type": "code",
   "execution_count": 25,
   "id": "8e660e41",
   "metadata": {},
   "outputs": [
    {
     "name": "stdout",
     "output_type": "stream",
     "text": [
      "[\"'Data\", 'science', 'is', 'an', 'interdisciplinary', 'field', 'that', 'uses', 'scientific', 'methods,', 'processes,', 'algorithms', 'and', 'systems', 'to', 'extract', 'knowledge', 'insights', 'from', 'noisy,', 'structured', 'unstructured', 'data,[1][2]', 'apply', 'data', 'across', 'a', 'broad', 'range', 'of', 'application', 'domains.', 'Data', 'related', 'mining,', 'machine', 'learning', 'big', \"data.'\"]\n",
      "****************************************************8\n",
      "2\n"
     ]
    }
   ],
   "source": [
    "from nltk import FreqDist\n",
    "b = \"'Data science is an interdisciplinary field that uses scientific methods, processes, algorithms and systems to extract knowledge and insights from noisy, structured and unstructured data,[1][2] and apply knowledge from data across a broad range of application domains. Data science is related to data mining, machine learning and big data.'\"\n",
    "b_split = b.split()\n",
    "\n",
    "freqDist = FreqDist(b_split)\n",
    "tokens = list(freqDist.keys())\n",
    "print(tokens)\n",
    "print('****************************************************8')\n",
    "print(freqDist['science'])"
   ]
  },
  {
   "cell_type": "code",
   "execution_count": 26,
   "id": "be3f18f7",
   "metadata": {},
   "outputs": [
    {
     "data": {
      "image/png": "[encoded data removed]",
      "text/plain": [
       "<Figure size 864x432 with 1 Axes>"
      ]
     },
     "metadata": {
      "needs_background": "light"
     },
     "output_type": "display_data"
    },
    {
     "data": {
      "text/plain": [
       "<AxesSubplot:xlabel='Samples', ylabel='Counts'>"
      ]
     },
     "execution_count": 26,
     "metadata": {},
     "output_type": "execute_result"
    }
   ],
   "source": [
    "plt.figure(figsize = (12,6))\n",
    "freqDist.plot()"
   ]
  },
  {
   "cell_type": "markdown",
   "id": "0c7812fd",
   "metadata": {},
   "source": [
    "### `Name Entities`.\n",
    "- A Named Entity is a \"real-world object\" that's assigned a name, a person, a country, a product etc. SpaCy can recognize various types of named entities in a document by asking a model for prediction. Models in general depends on statistical and depends on the examples they were trained on, they always doesn't work prefectly sometimes they need hyper parameter tuning."
   ]
  },
  {
   "cell_type": "code",
   "execution_count": 27,
   "id": "837a9a17",
   "metadata": {},
   "outputs": [],
   "source": [
    "import spacy"
   ]
  },
  {
   "cell_type": "markdown",
   "id": "1a988ca3",
   "metadata": {},
   "source": [
    "## `TextBlob`: Simplified Text Processing\n",
    "- Textblob is a python library for processing textual data. It provides a simple API for solving common NLP tasks such as part-of-speech tagging, noun phrase extraction, sentimental analysis, classification, translation, etc. This library is built on NLTK library.\n",
    "\n",
    "### Features\n",
    "- Noun Phrase Extraction\n",
    "- Part-of Speech Tagging\n",
    "- Sentimental Analysis\n",
    "- Classification\n",
    "- Language Translation and Detection powered by Google Translate\n",
    "- Tokenization\n",
    "- Word & Phrase Frequencies\n",
    "- Parsing\n",
    "- n-grams\n",
    "- Word Inflection(Pluralization & Singularization) and Lemmatization\n",
    "- Spelling Correction\n",
    "- Adding new models or languages through extentions\n",
    "- Wordnet Integration"
   ]
  },
  {
   "cell_type": "code",
   "execution_count": 28,
   "id": "f7d67a89",
   "metadata": {},
   "outputs": [],
   "source": [
    "# Creating a Textblob.\n",
    "from textblob import TextBlob"
   ]
  },
  {
   "cell_type": "code",
   "execution_count": 29,
   "id": "f6854414",
   "metadata": {},
   "outputs": [],
   "source": [
    "inp_txt = TextBlob('I love Natural Language Processing more than you!. Myself Ahmed. I work at Hewlett Packard Enterprise')"
   ]
  },
  {
   "cell_type": "markdown",
   "id": "9e08a530",
   "metadata": {},
   "source": [
    "Using TextBlob package we should be able to fetch different properties of the texts."
   ]
  },
  {
   "cell_type": "code",
   "execution_count": 30,
   "id": "27dbe1bd",
   "metadata": {},
   "outputs": [
    {
     "data": {
      "text/plain": [
       "[('I', 'PRP'),\n",
       " ('love', 'VBP'),\n",
       " ('Natural', 'JJ'),\n",
       " ('Language', 'NNP'),\n",
       " ('Processing', 'NNP'),\n",
       " ('more', 'JJR'),\n",
       " ('than', 'IN'),\n",
       " ('you', 'PRP'),\n",
       " ('Myself', 'NNP'),\n",
       " ('Ahmed', 'NNP'),\n",
       " ('I', 'PRP'),\n",
       " ('work', 'VBP'),\n",
       " ('at', 'IN'),\n",
       " ('Hewlett', 'NNP'),\n",
       " ('Packard', 'NNP'),\n",
       " ('Enterprise', 'NNP')]"
      ]
     },
     "execution_count": 30,
     "metadata": {},
     "output_type": "execute_result"
    }
   ],
   "source": [
    "# Fetching Parts-of-Speech of each word as 'Tags'.\n",
    "inp_txt.tags"
   ]
  },
  {
   "cell_type": "markdown",
   "id": "fa3d3054",
   "metadata": {},
   "source": [
    "### 1. `Noun Phrase Extraction.`"
   ]
  },
  {
   "cell_type": "code",
   "execution_count": 31,
   "id": "0365ff1e",
   "metadata": {},
   "outputs": [
    {
     "data": {
      "text/plain": [
       "WordList(['language processing', 'myself ahmed', 'hewlett packard enterprise'])"
      ]
     },
     "execution_count": 31,
     "metadata": {},
     "output_type": "execute_result"
    }
   ],
   "source": [
    "inp_txt.noun_phrases"
   ]
  },
  {
   "cell_type": "markdown",
   "id": "369966bf",
   "metadata": {},
   "source": [
    "### 2. `Sentimental Analysis`.\n",
    "- This property returns a named tuple of Sentiment (Polarity , Subjectivity). The polarity score is a float within the range -1.0 to 1.0. The subjectivity is a float within the range 0.0 to 1.0 whereas, 0.0 is very objective and 1.0 is very subjective."
   ]
  },
  {
   "cell_type": "code",
   "execution_count": 32,
   "id": "0150f6f7",
   "metadata": {},
   "outputs": [],
   "source": [
    "inp_sent = TextBlob(\"Textblob is an amazing library and very friendly to use.\")"
   ]
  },
  {
   "cell_type": "code",
   "execution_count": 33,
   "id": "51c1bbcb",
   "metadata": {},
   "outputs": [
    {
     "name": "stdout",
     "output_type": "stream",
     "text": [
      "Sentiment(polarity=0.5437500000000001, subjectivity=0.775)\n",
      "0.775\n",
      "0.5437500000000001\n"
     ]
    }
   ],
   "source": [
    "print(inp_sent.sentiment)\n",
    "print(inp_sent.sentiment.subjectivity)\n",
    "print(inp_sent.sentiment.polarity)"
   ]
  },
  {
   "cell_type": "markdown",
   "id": "11a7e8db",
   "metadata": {},
   "source": [
    "### 3. `Tokenization`."
   ]
  },
  {
   "cell_type": "code",
   "execution_count": 34,
   "id": "cc38fcc8",
   "metadata": {},
   "outputs": [
    {
     "data": {
      "text/plain": [
       "WordList(['AI', 'is', 'the', 'ability', 'of', 'a', 'computer', 'or', 'a', 'robot', 'controlled', 'by', 'a', 'computer', 'to', 'do', 'tasks', 'that', 'are', 'usually', 'done', 'by', 'humans', 'because', 'they', 'require', 'human', 'intelligence', 'and', 'discernment'])"
      ]
     },
     "execution_count": 34,
     "metadata": {},
     "output_type": "execute_result"
    }
   ],
   "source": [
    "# Tokenization using TextBlob.\n",
    "inp_token = TextBlob('AI is the ability of a computer or a robot controlled by a computer to do tasks that are usually done by humans because they require human intelligence and discernment')\n",
    "inp_token.words"
   ]
  },
  {
   "cell_type": "code",
   "execution_count": 35,
   "id": "a2abef25",
   "metadata": {},
   "outputs": [
    {
     "name": "stdout",
     "output_type": "stream",
     "text": [
      "['Data', 'Science', 'is', 'all', 'about', 'data', 'It', 'helps', 'in', 'improvising', 'the', 'business', 'profits', 'Statistics', 'and', 'Machine', 'learning', 'are', 'the', 'two', 'important', 'aspects', 'of', 'data', 'science']\n",
      "**********************************************************************************************************************\n",
      "[Sentence(\"Data Science is all about data.\"), Sentence(\"It helps in improvising the business profits.\"), Sentence(\"Statistics and Machine learning are the two important aspects of data science.\")]\n"
     ]
    }
   ],
   "source": [
    "inp_sent = TextBlob('Data Science is all about data. It helps in improvising the business profits. Statistics and Machine learning are the two important aspects of data science.')\n",
    "print(inp_sent.words)\n",
    "print(\"**********************************************************************************************************************\")\n",
    "print(inp_sent.sentences)"
   ]
  },
  {
   "cell_type": "markdown",
   "id": "eb77f2e4",
   "metadata": {},
   "source": [
    "### 4. `Word Inflection and Lemmatization`."
   ]
  },
  {
   "cell_type": "code",
   "execution_count": 36,
   "id": "e244ae39",
   "metadata": {},
   "outputs": [
    {
     "data": {
      "text/plain": [
       "WordList(['Use', '4', 'spaces', 'per', 'indentations', 'levels'])"
      ]
     },
     "execution_count": 36,
     "metadata": {},
     "output_type": "execute_result"
    }
   ],
   "source": [
    "inp_inflec = TextBlob(\"Use 4 spaces per indentations levels\")\n",
    "inp_inflec.words"
   ]
  },
  {
   "cell_type": "code",
   "execution_count": 37,
   "id": "5b695292",
   "metadata": {},
   "outputs": [
    {
     "data": {
      "text/plain": [
       "WordList(['Use', '4', 'space', 'per', 'indentation', 'level'])"
      ]
     },
     "execution_count": 37,
     "metadata": {},
     "output_type": "execute_result"
    }
   ],
   "source": [
    "# Converting plural tokenz to singular form.\n",
    "inp_inflec.words.singularize()"
   ]
  },
  {
   "cell_type": "code",
   "execution_count": 38,
   "id": "a979c481",
   "metadata": {},
   "outputs": [
    {
     "data": {
      "text/plain": [
       "WordList(['Uses', '4s', 'spacess', 'pers', 'indentationss', 'levelss'])"
      ]
     },
     "execution_count": 38,
     "metadata": {},
     "output_type": "execute_result"
    }
   ],
   "source": [
    "# Converting singular tokenz to plural form.\n",
    "inp_inflec.words.pluralize()"
   ]
  },
  {
   "cell_type": "code",
   "execution_count": 39,
   "id": "86139294",
   "metadata": {},
   "outputs": [
    {
     "data": {
      "text/plain": [
       "'lion'"
      ]
     },
     "execution_count": 39,
     "metadata": {},
     "output_type": "execute_result"
    }
   ],
   "source": [
    "from textblob import Word\n",
    "# Lemmatization tries to gice the synonym of the word\n",
    "q = Word('lion')\n",
    "q.lemmatize()"
   ]
  },
  {
   "cell_type": "code",
   "execution_count": 40,
   "id": "dbc8e0b1",
   "metadata": {},
   "outputs": [
    {
     "data": {
      "text/plain": [
       "'go'"
      ]
     },
     "execution_count": 40,
     "metadata": {},
     "output_type": "execute_result"
    }
   ],
   "source": [
    "p = Word('went')\n",
    "p.lemmatize('v') # Passing in Wordnet part of speech (verb)"
   ]
  },
  {
   "cell_type": "markdown",
   "id": "981ca872",
   "metadata": {},
   "source": [
    "### 5. `WordNet`.\n",
    "- WordNet is a lexical database i.e dictionary for the English language which is specifically for NLP.\n",
    "\n",
    "### `Synset`\n",
    "-  Synset (Synonym set) is a special type of interface which is present in NLTK which look up words(Synonyms) in WordNet. A Synset instances are the groupings of synonyms that expresses the same type of concepts. Some words have only one synset and some have many."
   ]
  },
  {
   "cell_type": "code",
   "execution_count": 41,
   "id": "515a800d",
   "metadata": {},
   "outputs": [
    {
     "data": {
      "text/plain": [
       "[Synset('goat.n.01'),\n",
       " Synset('butt.n.03'),\n",
       " Synset('capricorn.n.01'),\n",
       " Synset('capricorn.n.03')]"
      ]
     },
     "execution_count": 41,
     "metadata": {},
     "output_type": "execute_result"
    }
   ],
   "source": [
    "from textblob import Word\n",
    "from textblob.wordnet import VERB\n",
    "\n",
    "# Synset searches Synonyms for the specified word.\n",
    "word = Word('goat')\n",
    "word.synsets"
   ]
  },
  {
   "cell_type": "code",
   "execution_count": 42,
   "id": "f6a3d8c4",
   "metadata": {},
   "outputs": [
    {
     "data": {
      "text/plain": [
       "[Synset('vagabond.n.01'),\n",
       " Synset('vagrant.n.01'),\n",
       " Synset('roll.v.12'),\n",
       " Synset('rootless.s.01'),\n",
       " Synset('aimless.s.02')]"
      ]
     },
     "execution_count": 42,
     "metadata": {},
     "output_type": "execute_result"
    }
   ],
   "source": [
    "word = Word('vagabond')\n",
    "word.synsets"
   ]
  },
  {
   "cell_type": "code",
   "execution_count": 43,
   "id": "fdadd17d",
   "metadata": {},
   "outputs": [
    {
     "data": {
      "text/plain": [
       "[Synset('computer.n.01'), Synset('calculator.n.01')]"
      ]
     },
     "execution_count": 43,
     "metadata": {},
     "output_type": "execute_result"
    }
   ],
   "source": [
    "word = Word('computer')\n",
    "word.synsets"
   ]
  },
  {
   "cell_type": "markdown",
   "id": "618901ed",
   "metadata": {},
   "source": [
    "We can even access the `definitions` for each synset via definations property or the `define()` method."
   ]
  },
  {
   "cell_type": "code",
   "execution_count": 44,
   "id": "62fbdb14",
   "metadata": {
    "scrolled": true
   },
   "outputs": [
    {
     "name": "stdout",
     "output_type": "stream",
     "text": [
      "['the linear extent in space from one end to the other; the longest dimension of something that is fixed in place', 'continuance in time', 'the property of being the extent of something from beginning to end', 'size of the gap between two places', 'a section of something that is long and narrow']\n",
      "****************************************************************************************************************\n",
      "['the linear extent in space from one end to the other; the longest dimension of something that is fixed in place', 'continuance in time', 'the property of being the extent of something from beginning to end', 'size of the gap between two places', 'a section of something that is long and narrow']\n"
     ]
    }
   ],
   "source": [
    "print(Word('length').definitions)\n",
    "print('****************************************************************************************************************')\n",
    "print(Word('length').define())"
   ]
  },
  {
   "cell_type": "markdown",
   "id": "6a834528",
   "metadata": {},
   "source": [
    "We can even create our own synsets directly."
   ]
  },
  {
   "cell_type": "code",
   "execution_count": 45,
   "id": "3ff29957",
   "metadata": {},
   "outputs": [
    {
     "data": {
      "text/plain": [
       "0.1111111111111111"
      ]
     },
     "execution_count": 45,
     "metadata": {},
     "output_type": "execute_result"
    }
   ],
   "source": [
    "from textblob.wordnet import Synset\n",
    "octopus = Synset('octopus.n.02')\n",
    "shrimp = Synset('shrimp.n.03')\n",
    "octopus.path_similarity(shrimp)"
   ]
  },
  {
   "cell_type": "markdown",
   "id": "765c0afd",
   "metadata": {},
   "source": [
    "### 6.`WordLists`.\n",
    "- It's just a python list with additional methods. WordLists will find the words which are in the sentence and ignore the spaces present between them."
   ]
  },
  {
   "cell_type": "code",
   "execution_count": 46,
   "id": "a4f9a51b",
   "metadata": {},
   "outputs": [
    {
     "data": {
      "text/plain": [
       "WordList(['cow', 'sheep', 'house'])"
      ]
     },
     "execution_count": 46,
     "metadata": {},
     "output_type": "execute_result"
    }
   ],
   "source": [
    "# This is similar as tokenizing the words.\n",
    "ans = TextBlob(\"cow sheep house\")\n",
    "ans.words"
   ]
  },
  {
   "cell_type": "code",
   "execution_count": 47,
   "id": "1c625ed9",
   "metadata": {},
   "outputs": [
    {
     "data": {
      "text/plain": [
       "WordList(['kine', 'sheep', 'houses'])"
      ]
     },
     "execution_count": 47,
     "metadata": {},
     "output_type": "execute_result"
    }
   ],
   "source": [
    "ans.words.pluralize()"
   ]
  },
  {
   "cell_type": "markdown",
   "id": "f6650ec1",
   "metadata": {},
   "source": [
    "### 7. `Spelling Correction`."
   ]
  },
  {
   "cell_type": "code",
   "execution_count": 55,
   "id": "38c5b788",
   "metadata": {},
   "outputs": [
    {
     "name": "stdout",
     "output_type": "stream",
     "text": [
      "can you pronounce America?\n"
     ]
    }
   ],
   "source": [
    "spell = TextBlob('can you pronoounce Amirica?')\n",
    "print(spell.correct())"
   ]
  },
  {
   "cell_type": "markdown",
   "id": "1585d06c",
   "metadata": {},
   "source": [
    "Word objects have a `spellcheck()` `Word.spellcheck()`. This method returns a list of (word, confidence) tuples with spelling suggestions."
   ]
  },
  {
   "cell_type": "code",
   "execution_count": 58,
   "id": "aca86a9d",
   "metadata": {},
   "outputs": [
    {
     "name": "stdout",
     "output_type": "stream",
     "text": [
      "[('longitude', 1.0)]\n",
      "[('longed', 0.92), ('longitude', 0.08)]\n"
     ]
    }
   ],
   "source": [
    "from textblob import Word\n",
    "spl = Word('lonngitode')\n",
    "print(spl.spellcheck())\n",
    "\n",
    "spl2 = Word('longetud')\n",
    "print(spl2.spellcheck())"
   ]
  },
  {
   "cell_type": "markdown",
   "id": "838a0331",
   "metadata": {},
   "source": [
    "### `Get Word and Noun Frequencies`.\n",
    "- There are two ways to get the frequency of a word or noun phrases in the `TextBlob`"
   ]
  },
  {
   "cell_type": "code",
   "execution_count": 62,
   "id": "c95b8ad6",
   "metadata": {},
   "outputs": [
    {
     "name": "stdout",
     "output_type": "stream",
     "text": [
      "2\n",
      "1\n"
     ]
    }
   ],
   "source": [
    "# 1. Through word_counts dictionary.\n",
    "docs = TextBlob('she sells sea shells at the sea shore')\n",
    "print(docs.word_counts['sea'])\n",
    "print(docs.word_counts['the'])"
   ]
  },
  {
   "cell_type": "markdown",
   "id": "f5c31bdf",
   "metadata": {},
   "source": [
    "### `Transalate and Language`"
   ]
  },
  {
   "cell_type": "raw",
   "id": "494b7ea8",
   "metadata": {},
   "source": [
    "lang = TextBlob(u'Something is better than nothing')\n",
    "lang.translate(to ='hi')\n",
    "# Its giving HTTP Error."
   ]
  },
  {
   "cell_type": "markdown",
   "id": "55135111",
   "metadata": {},
   "source": [
    "If no source language is specified then  TextBlob will attempt to detect the language. We can specify the source language explicitly."
   ]
  }
 ],
 "metadata": {
  "kernelspec": {
   "display_name": "Python 3 (ipykernel)",
   "language": "python",
   "name": "python3"
  },
  "language_info": {
   "codemirror_mode": {
    "name": "ipython",
    "version": 3
   },
   "file_extension": ".py",
   "mimetype": "text/x-python",
   "name": "python",
   "nbconvert_exporter": "python",
   "pygments_lexer": "ipython3",
   "version": "3.9.7"
  }
 },
 "nbformat": 4,
 "nbformat_minor": 5
}
