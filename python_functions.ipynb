{
 "cells": [
  {
   "cell_type": "markdown",
   "metadata": {},
   "source": [
    "## FUNCTIONS."
   ]
  },
  {
   "cell_type": "code",
   "execution_count": 1,
   "metadata": {},
   "outputs": [],
   "source": [
    "import numpy as np\n",
    "import pandas as pd"
   ]
  },
  {
   "cell_type": "code",
   "execution_count": 2,
   "metadata": {},
   "outputs": [
    {
     "data": {
      "text/plain": [
       "'Hi'"
      ]
     },
     "execution_count": 2,
     "metadata": {},
     "output_type": "execute_result"
    }
   ],
   "source": [
    "def greet(): # Function name is 'greet'\n",
    "    \n",
    "    \n",
    "    return 'Hi'# Returns this value.\n",
    "greet()"
   ]
  },
  {
   "cell_type": "code",
   "execution_count": 3,
   "metadata": {},
   "outputs": [
    {
     "name": "stdout",
     "output_type": "stream",
     "text": [
      "Hi There\n",
      "Welcome again\n"
     ]
    }
   ],
   "source": [
    "def greeting():\n",
    "    print('Hi There')\n",
    "    print('Welcome again')\n",
    "    \n",
    "greeting()"
   ]
  },
  {
   "cell_type": "code",
   "execution_count": 4,
   "metadata": {},
   "outputs": [
    {
     "name": "stdout",
     "output_type": "stream",
     "text": [
      "Hi There\n",
      "Welcome again\n"
     ]
    }
   ],
   "source": [
    "def greet(first_name, last_name): # These are parameters inside paraenthesis.\n",
    "    print('Hi There')\n",
    "    print('Welcome again')\n",
    "greet('Ahmed','Farooq')# These are arguments, actual value given for parameter"
   ]
  },
  {
   "cell_type": "markdown",
   "metadata": {},
   "source": [
    "#### Dictionary in Function."
   ]
  },
  {
   "cell_type": "code",
   "execution_count": 5,
   "metadata": {},
   "outputs": [
    {
     "name": "stdout",
     "output_type": "stream",
     "text": [
      "{'id': 1, 'name': 'john', 'age': 22}\n"
     ]
    }
   ],
   "source": [
    "def save_user(**user):\n",
    "    print(user)\n",
    "\n",
    "\n",
    "save_user(id=1,name='john',age=22) # This is dictionary."
   ]
  },
  {
   "cell_type": "code",
   "execution_count": 6,
   "metadata": {},
   "outputs": [
    {
     "name": "stdout",
     "output_type": "stream",
     "text": [
      "1\n"
     ]
    }
   ],
   "source": [
    "def save_user(**user):\n",
    "    print(user['id'])\n",
    "\n",
    "\n",
    "save_user(id=1,name='john',age=22)"
   ]
  },
  {
   "cell_type": "code",
   "execution_count": 7,
   "metadata": {},
   "outputs": [
    {
     "name": "stdout",
     "output_type": "stream",
     "text": [
      "john\n"
     ]
    }
   ],
   "source": [
    "def save_user(**user):\n",
    "    print(user['name'])\n",
    "\n",
    "\n",
    "save_user(id=1,name='john',age=22)"
   ]
  },
  {
   "cell_type": "code",
   "execution_count": 8,
   "metadata": {},
   "outputs": [],
   "source": [
    "a=20\n",
    "b=10"
   ]
  },
  {
   "cell_type": "code",
   "execution_count": 9,
   "metadata": {},
   "outputs": [
    {
     "name": "stdout",
     "output_type": "stream",
     "text": [
      "The sum is 30\n",
      "The Difference is 10\n",
      "The Product is 200\n"
     ]
    }
   ],
   "source": [
    "print('The sum is', a+b)\n",
    "print('The Difference is',a-b)\n",
    "print('The Product is',a*b)"
   ]
  },
  {
   "cell_type": "code",
   "execution_count": 10,
   "metadata": {},
   "outputs": [
    {
     "name": "stdout",
     "output_type": "stream",
     "text": [
      "The sum is 300\n",
      "The Difference is 100\n",
      "The Product is 20000\n"
     ]
    }
   ],
   "source": [
    "a=200\n",
    "b=100\n",
    "print('The sum is', a+b)\n",
    "print('The Difference is',a-b)\n",
    "print('The Product is',a*b)"
   ]
  },
  {
   "cell_type": "code",
   "execution_count": 11,
   "metadata": {},
   "outputs": [
    {
     "name": "stdout",
     "output_type": "stream",
     "text": [
      "The sum is 3000\n",
      "The Difference is 1000\n",
      "The Product is 2000000\n"
     ]
    }
   ],
   "source": [
    "a=2000\n",
    "b=1000\n",
    "print('The sum is', a+b)\n",
    "print('The Difference is',a-b)\n",
    "print('The Product is',a*b)"
   ]
  },
  {
   "cell_type": "markdown",
   "metadata": {},
   "source": [
    "### Within program, a group of statements which are repeatedly required without writing those statements seperately, we use FUNCTIONS.\n",
    "\n",
    "- To reduce these we define repeatedly required code as single unit and by calling that unit wherever its required.\n",
    "- Code Reusability."
   ]
  },
  {
   "cell_type": "markdown",
   "metadata": {},
   "source": [
    "### Syntax."
   ]
  },
  {
   "cell_type": "code",
   "execution_count": 12,
   "metadata": {},
   "outputs": [
    {
     "name": "stdout",
     "output_type": "stream",
     "text": [
      "The sum is 30\n",
      "The Difference is 10\n",
      "The Product is 200\n"
     ]
    }
   ],
   "source": [
    "def calculate(a,b):\n",
    "    print('The sum is', a+b)\n",
    "    print('The Difference is',a-b)\n",
    "    print('The Product is',a*b)\n",
    "calculate(20,10)"
   ]
  },
  {
   "cell_type": "code",
   "execution_count": 13,
   "metadata": {},
   "outputs": [
    {
     "name": "stdout",
     "output_type": "stream",
     "text": [
      "The sum is 300\n",
      "The Difference is 100\n",
      "The Product is 20000\n"
     ]
    }
   ],
   "source": [
    "calculate(200,100)"
   ]
  },
  {
   "cell_type": "code",
   "execution_count": 14,
   "metadata": {},
   "outputs": [
    {
     "name": "stdout",
     "output_type": "stream",
     "text": [
      "The sum is 3000\n",
      "The Difference is 1000\n",
      "The Product is 2000000\n"
     ]
    }
   ],
   "source": [
    "calculate(2000,1000)"
   ]
  },
  {
   "cell_type": "code",
   "execution_count": 15,
   "metadata": {},
   "outputs": [
    {
     "name": "stdout",
     "output_type": "stream",
     "text": [
      "20\n",
      "10\n"
     ]
    }
   ],
   "source": [
    "# In python both local & Global variable can have same name.\n",
    "\n",
    "a=10 # Global Variable.\n",
    "def f1():\n",
    "    a=20 # Local Variable.\n",
    "    print(a)\n",
    "def f2():\n",
    "    print(a)\n",
    "f1()\n",
    "f2()"
   ]
  },
  {
   "cell_type": "markdown",
   "metadata": {},
   "source": [
    "#### Global Keyword.\n",
    "\n",
    "- To make global variable available to the function so that we can perform required modifications.\n",
    "- To Declare global variables directly inside function."
   ]
  },
  {
   "cell_type": "code",
   "execution_count": 16,
   "metadata": {},
   "outputs": [
    {
     "name": "stdout",
     "output_type": "stream",
     "text": [
      "20\n",
      "20\n"
     ]
    }
   ],
   "source": [
    "#1. To make global variable as local variable.\n",
    "\n",
    "a=10 \n",
    "def f1():\n",
    "    global a# To bring global variable to the function for the required modifications.\n",
    "    a=20 # We are changing the value of global variable.\n",
    "    print(a)\n",
    "\n",
    "def f2():\n",
    "    print(a)\n",
    "f1()\n",
    "f2()"
   ]
  },
  {
   "cell_type": "code",
   "execution_count": 17,
   "metadata": {},
   "outputs": [
    {
     "name": "stdout",
     "output_type": "stream",
     "text": [
      "20\n",
      "20\n"
     ]
    }
   ],
   "source": [
    "# 2.\n",
    "def f1():\n",
    "    global a\n",
    "    print(a)\n",
    "\n",
    "def f2():\n",
    "    print(a)\n",
    "f1()\n",
    "f2()"
   ]
  },
  {
   "cell_type": "markdown",
   "metadata": {},
   "source": [
    "### M2:\n"
   ]
  },
  {
   "cell_type": "code",
   "execution_count": 18,
   "metadata": {},
   "outputs": [
    {
     "data": {
      "text/plain": [
       "(15, 5, 50, 2.0)"
      ]
     },
     "execution_count": 18,
     "metadata": {},
     "output_type": "execute_result"
    }
   ],
   "source": [
    "\n",
    "def calc(a,b): # a,b are 'Positional Arguements'\n",
    "    sum=a+b \n",
    "    sub=a-b\n",
    "    mul=a*b\n",
    "    div=a/b\n",
    "    return sum, sub, mul, div # It returns above performing operations\n",
    "calc(10,5)"
   ]
  },
  {
   "cell_type": "code",
   "execution_count": 19,
   "metadata": {},
   "outputs": [
    {
     "data": {
      "text/plain": [
       "(33, 17, 200, 3.125)"
      ]
     },
     "execution_count": 19,
     "metadata": {},
     "output_type": "execute_result"
    }
   ],
   "source": [
    "calc(25,8)"
   ]
  },
  {
   "cell_type": "code",
   "execution_count": 20,
   "metadata": {},
   "outputs": [
    {
     "data": {
      "text/plain": [
       "(150, 50, 5000, 2.0)"
      ]
     },
     "execution_count": 20,
     "metadata": {},
     "output_type": "execute_result"
    }
   ],
   "source": [
    "calc(100,50)"
   ]
  },
  {
   "cell_type": "code",
   "execution_count": 21,
   "metadata": {},
   "outputs": [
    {
     "name": "stdout",
     "output_type": "stream",
     "text": [
      "150\n",
      "50\n",
      "5000\n",
      "2.0\n"
     ]
    }
   ],
   "source": [
    "t=calc(100,50) # saving variable in form tuple. \n",
    "for x in t:\n",
    "    print(x)"
   ]
  },
  {
   "cell_type": "code",
   "execution_count": 22,
   "metadata": {},
   "outputs": [
    {
     "name": "stdout",
     "output_type": "stream",
     "text": [
      "(150, 50, 5000, 2.0)\n",
      "(150, 50, 5000, 2.0)\n"
     ]
    }
   ],
   "source": [
    "# Keyword Arguments: By giving values for arguements.\n",
    "\n",
    "print(calc(a=100,b=50))\n",
    "print(calc(b=50,a=100))"
   ]
  },
  {
   "cell_type": "code",
   "execution_count": 23,
   "metadata": {},
   "outputs": [
    {
     "data": {
      "text/plain": [
       "(150, 50, 5000, 2.0)"
      ]
     },
     "execution_count": 23,
     "metadata": {},
     "output_type": "execute_result"
    }
   ],
   "source": [
    "calc(100,b=50)"
   ]
  },
  {
   "cell_type": "markdown",
   "metadata": {},
   "source": [
    "#### To get any number of arguments."
   ]
  },
  {
   "cell_type": "code",
   "execution_count": 24,
   "metadata": {},
   "outputs": [
    {
     "name": "stdout",
     "output_type": "stream",
     "text": [
      "Var-arg function\n"
     ]
    }
   ],
   "source": [
    "# To call function by any number of arguments\n",
    "def f1(*n):\n",
    "    print(\"Var-arg function\")\n",
    "f1()"
   ]
  },
  {
   "cell_type": "code",
   "execution_count": 25,
   "metadata": {},
   "outputs": [
    {
     "name": "stdout",
     "output_type": "stream",
     "text": [
      "Var-arg function\n",
      "Var-arg function\n",
      "Var-arg function\n"
     ]
    }
   ],
   "source": [
    "f1(10)\n",
    "f1(10,20)\n",
    "f1(10,20,30)"
   ]
  },
  {
   "cell_type": "code",
   "execution_count": 26,
   "metadata": {},
   "outputs": [],
   "source": [
    "# To call function by any number of arguments\n",
    "def sum(*n):\n",
    "    result =0\n",
    "    for x in n:\n",
    "        result=result+x\n",
    "        print('The sum:',result)"
   ]
  },
  {
   "cell_type": "code",
   "execution_count": 27,
   "metadata": {},
   "outputs": [
    {
     "name": "stdout",
     "output_type": "stream",
     "text": [
      "The sum: 10\n",
      "The sum: 10\n",
      "The sum: 30\n",
      "The sum: 10\n",
      "The sum: 30\n",
      "The sum: 60\n",
      "The sum: 10\n",
      "The sum: 30\n",
      "The sum: 60\n",
      "The sum: 100\n"
     ]
    }
   ],
   "source": [
    "sum()\n",
    "sum(10)\n",
    "sum(10,20)\n",
    "sum(10,20,30)\n",
    "sum(10,20,30,40)"
   ]
  },
  {
   "cell_type": "code",
   "execution_count": 28,
   "metadata": {},
   "outputs": [
    {
     "name": "stdout",
     "output_type": "stream",
     "text": [
      "The sum by Deep_learning : 10\n",
      "The sum by artificial_intelligence : 10\n",
      "The sum by artificial_intelligence : 30\n"
     ]
    }
   ],
   "source": [
    "def sum(name,*n,):\n",
    "    result=0\n",
    "    for x in n:\n",
    "        result=result+x\n",
    "        print(\"The sum by\",name,\":\",result)\n",
    "sum('machine')\n",
    "sum('Deep_learning',10)\n",
    "sum('artificial_intelligence',10,20)      "
   ]
  },
  {
   "cell_type": "raw",
   "metadata": {},
   "source": [
    "# This is invalid syntax because first we are taking any number of values and also name, Its confusing whether its under name or n. \n",
    "\n",
    "def sum(*n,name):\n",
    "    result=0\n",
    "    for x in n:\n",
    "        result=result+x\n",
    "        print(\"The sum by\",name,\":\",result)\n",
    "sum('machine')\n",
    "sum('Deep_learning',10)\n",
    "sum('artificial_intelligence',10,20) "
   ]
  },
  {
   "cell_type": "code",
   "execution_count": 29,
   "metadata": {},
   "outputs": [
    {
     "name": "stdout",
     "output_type": "stream",
     "text": [
      "The sum by Deep_learning : 10\n",
      "The sum by artificial_intelligence : 10\n",
      "The sum by artificial_intelligence : 30\n"
     ]
    }
   ],
   "source": [
    "# To resolve above issue we have to specify keyword agrument as 'name', and first positional arhument should follow keyword argument in syntax as below.\n",
    "\n",
    "def sum(*n,name):\n",
    "    result=0\n",
    "    for x in n:\n",
    "        result=result+x\n",
    "        print(\"The sum by\",name,\":\",result)\n",
    "sum(name='machine')\n",
    "sum(10,name='Deep_learning')\n",
    "sum(10,20,name='artificial_intelligence',) "
   ]
  },
  {
   "cell_type": "markdown",
   "metadata": {},
   "source": [
    "### Recursive Functions."
   ]
  },
  {
   "cell_type": "code",
   "execution_count": 30,
   "metadata": {},
   "outputs": [],
   "source": [
    "def factorial(n):\n",
    "    if n==0:\n",
    "        result=1\n",
    "    else:\n",
    "        result=n*factorial(n-1) # Internally calling same function.\n",
    "    return result"
   ]
  },
  {
   "cell_type": "code",
   "execution_count": 8,
   "metadata": {},
   "outputs": [],
   "source": [
    "def factorial(n):\n",
    "    if n==0:\n",
    "        result=1\n",
    "    else:\n",
    "        result=n*factorial(n-1)\n",
    "    return result"
   ]
  },
  {
   "cell_type": "code",
   "execution_count": 31,
   "metadata": {},
   "outputs": [
    {
     "name": "stdout",
     "output_type": "stream",
     "text": [
      "1\n",
      "2\n",
      "120\n"
     ]
    }
   ],
   "source": [
    "print(factorial(0))\n",
    "print(factorial(2))\n",
    "print(factorial(5))"
   ]
  },
  {
   "cell_type": "code",
   "execution_count": 32,
   "metadata": {},
   "outputs": [
    {
     "data": {
      "text/plain": [
       "6"
      ]
     },
     "execution_count": 32,
     "metadata": {},
     "output_type": "execute_result"
    }
   ],
   "source": [
    "factorial(3)"
   ]
  },
  {
   "cell_type": "markdown",
   "metadata": {},
   "source": [
    "### Anonymus Functions.\n",
    "\n",
    "- Function without name.\n",
    "- For instant use\n",
    "- Define using keyword 'lambda'"
   ]
  },
  {
   "cell_type": "code",
   "execution_count": 33,
   "metadata": {},
   "outputs": [],
   "source": [
    "def sqr(n):\n",
    "    return n*n"
   ]
  },
  {
   "cell_type": "code",
   "execution_count": 34,
   "metadata": {},
   "outputs": [
    {
     "data": {
      "text/plain": [
       "25"
      ]
     },
     "execution_count": 34,
     "metadata": {},
     "output_type": "execute_result"
    }
   ],
   "source": [
    "sqr(5)"
   ]
  },
  {
   "cell_type": "markdown",
   "metadata": {},
   "source": [
    "### Lambda Expression.\n",
    "- Instead of lengthy expression we use lambda function to concise it.\n",
    "\n",
    "\n",
    "- lambda input:expression"
   ]
  },
  {
   "cell_type": "code",
   "execution_count": 35,
   "metadata": {},
   "outputs": [],
   "source": [
    "s=lambda n: n*n"
   ]
  },
  {
   "cell_type": "code",
   "execution_count": 36,
   "metadata": {},
   "outputs": [
    {
     "name": "stdout",
     "output_type": "stream",
     "text": [
      "25\n",
      "625\n",
      "144\n"
     ]
    }
   ],
   "source": [
    "# To find square of given number.\n",
    "s=lambda x: x*x\n",
    "\n",
    "print(s(5))\n",
    "print(s(25))\n",
    "print(s(12))"
   ]
  },
  {
   "cell_type": "markdown",
   "metadata": {},
   "source": [
    "### Ternary Operator."
   ]
  },
  {
   "cell_type": "code",
   "execution_count": 37,
   "metadata": {},
   "outputs": [
    {
     "name": "stdout",
     "output_type": "stream",
     "text": [
      "The biggest of 10 and 20 is 20\n"
     ]
    }
   ],
   "source": [
    "s=lambda a,b: a if a>b else b\n",
    "\n",
    "print(\"The biggest of {} and {} is {}\".format(10,20,s(10,20)))"
   ]
  },
  {
   "cell_type": "code",
   "execution_count": 38,
   "metadata": {},
   "outputs": [
    {
     "name": "stdout",
     "output_type": "stream",
     "text": [
      "The biggest of 100 and 150 is 150\n"
     ]
    }
   ],
   "source": [
    "print('The biggest of {} and {} is {}'.format(100,150,s(100,150)))"
   ]
  },
  {
   "cell_type": "code",
   "execution_count": 39,
   "metadata": {},
   "outputs": [],
   "source": [
    "len?"
   ]
  },
  {
   "cell_type": "code",
   "execution_count": 40,
   "metadata": {},
   "outputs": [
    {
     "name": "stdout",
     "output_type": "stream",
     "text": [
      "Help on built-in function len in module builtins:\n",
      "\n",
      "len(obj, /)\n",
      "    Return the number of items in a container.\n",
      "\n"
     ]
    }
   ],
   "source": [
    "help(len)"
   ]
  },
  {
   "cell_type": "markdown",
   "metadata": {},
   "source": [
    "### Special Variable '_ _name_ _'.\n",
    "\n",
    "- Using this variable we can execute directly as program.\n",
    "- '_ _ name _ _=_ _ main _ _' "
   ]
  },
  {
   "cell_type": "code",
   "execution_count": 41,
   "metadata": {},
   "outputs": [
    {
     "name": "stdout",
     "output_type": "stream",
     "text": [
      "The code executed directly as a program\n",
      "The value of __name__ : __main__\n"
     ]
    }
   ],
   "source": [
    "# If its value equal to main, then code executes directly as a program.\n",
    "def f1():\n",
    "        if __name__=='__main__':\n",
    "            print('The code executed directly as a program')\n",
    "            print('The value of __name__ :',__name__)\n",
    "        else:\n",
    "            print('The code executed indirectly as a module from some other program')\n",
    "            print('The value of __name__:',__name__)\n",
    "f1()"
   ]
  }
 ],
 "metadata": {
  "kernelspec": {
   "display_name": "Python 3 (ipykernel)",
   "language": "python",
   "name": "python3"
  },
  "language_info": {
   "codemirror_mode": {
    "name": "ipython",
    "version": 3
   },
   "file_extension": ".py",
   "mimetype": "text/x-python",
   "name": "python",
   "nbconvert_exporter": "python",
   "pygments_lexer": "ipython3",
   "version": "3.6.5"
  }
 },
 "nbformat": 4,
 "nbformat_minor": 4
}
